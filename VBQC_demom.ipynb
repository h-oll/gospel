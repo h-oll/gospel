{
 "cells": [
  {
   "cell_type": "markdown",
   "metadata": {},
   "source": [
    "### How to verify the execution of a MBQC pattern ?\n",
    "Let the following circuit."
   ]
  },
  {
   "cell_type": "code",
   "execution_count": 8,
   "metadata": {},
   "outputs": [],
   "source": [
    "import graphix.command\n",
    "from graphix.random_objects import Circuit\n",
    "from graphix.states import BasicStates\n",
    "\n",
    "from veriphix.client import Client, Secrets\n",
    "\n",
    "from scripts.qasm2brickwork_state import read_qasm\n",
    "\n",
    "from pathlib import Path\n",
    "\n",
    "import brickwork_state_transpiler"
   ]
  },
  {
   "cell_type": "code",
   "execution_count": null,
   "metadata": {},
   "outputs": [
    {
     "name": "stdout",
     "output_type": "stream",
     "text": [
      "[CNOT(target=0, control=1), CNOT(target=1, control=0), RZ(target=0, angle=3.2044768270667037, meas_index=None), CNOT(target=1, control=2), CNOT(target=2, control=1), RX(target=0, angle=0.8714609226124835, meas_index=None), CNOT(target=1, control=0), RX(target=0, angle=3.6317769741179275, meas_index=None), RZ(target=0, angle=3.561474570023711, meas_index=None)]\n",
      "[N(node=5, state=graphix.states.PlanarState(Plane.XY, 0.0)), N(node=6, state=graphix.states.PlanarState(Plane.XY, 0.0)), E(nodes=(0, 6)), M(node=0, plane=<Plane.XY: 1>, angle=0.0, s_domain=set(), t_domain=set()), X(node=6, domain={0}), N(node=7, state=graphix.states.PlanarState(Plane.XY, 0.0)), E(nodes=(1, 7)), M(node=1, plane=<Plane.XY: 1>, angle=0.0, s_domain=set(), t_domain=set()), X(node=7, domain={1}), N(node=8, state=graphix.states.PlanarState(Plane.XY, 0.0)), E(nodes=(2, 8)), M(node=2, plane=<Plane.XY: 1>, angle=0.0, s_domain=set(), t_domain=set()), X(node=8, domain={2}), N(node=9, state=graphix.states.PlanarState(Plane.XY, 0.0)), E(nodes=(3, 9)), M(node=3, plane=<Plane.XY: 1>, angle=0.0, s_domain=set(), t_domain=set()), X(node=9, domain={3}), N(node=10, state=graphix.states.PlanarState(Plane.XY, 0.0)), E(nodes=(4, 10)), M(node=4, plane=<Plane.XY: 1>, angle=0.0, s_domain=set(), t_domain=set()), X(node=10, domain={4}), N(node=11, state=graphix.states.PlanarState(Plane.XY, 0.0)), E(nodes=(5, 11)), M(node=5, plane=<Plane.XY: 1>, angle=0.0, s_domain=set(), t_domain=set()), X(node=11, domain={5}), N(node=12, state=graphix.states.PlanarState(Plane.XY, 0.0)), E(nodes=(6, 12)), M(node=6, plane=<Plane.XY: 1>, angle=0.0, s_domain=set(), t_domain=set()), X(node=12, domain={6}), N(node=13, state=graphix.states.PlanarState(Plane.XY, 0.0)), E(nodes=(7, 13)), M(node=7, plane=<Plane.XY: 1>, angle=0.5, s_domain=set(), t_domain=set()), X(node=13, domain={7}), E(nodes=(12, 13)), N(node=14, state=graphix.states.PlanarState(Plane.XY, 0.0)), E(nodes=(8, 14)), M(node=8, plane=<Plane.XY: 1>, angle=0.0, s_domain=set(), t_domain=set()), X(node=14, domain={8}), N(node=15, state=graphix.states.PlanarState(Plane.XY, 0.0)), E(nodes=(9, 15)), M(node=9, plane=<Plane.XY: 1>, angle=0.0, s_domain=set(), t_domain=set()), X(node=15, domain={9}), E(nodes=(14, 15)), N(node=16, state=graphix.states.PlanarState(Plane.XY, 0.0)), E(nodes=(10, 16)), M(node=10, plane=<Plane.XY: 1>, angle=0.0, s_domain=set(), t_domain=set()), X(node=16, domain={10}), N(node=17, state=graphix.states.PlanarState(Plane.XY, 0.0)), E(nodes=(11, 17)), M(node=11, plane=<Plane.XY: 1>, angle=0.0, s_domain=set(), t_domain=set()), X(node=17, domain={11}), E(nodes=(16, 17)), N(node=18, state=graphix.states.PlanarState(Plane.XY, 0.0)), E(nodes=(12, 18)), M(node=12, plane=<Plane.XY: 1>, angle=0.5, s_domain=set(), t_domain=set()), X(node=18, domain={12}), N(node=19, state=graphix.states.PlanarState(Plane.XY, 0.0)), E(nodes=(13, 19)), M(node=13, plane=<Plane.XY: 1>, angle=0.0, s_domain=set(), t_domain=set()), X(node=19, domain={13}), N(node=20, state=graphix.states.PlanarState(Plane.XY, 0.0)), E(nodes=(14, 20)), M(node=14, plane=<Plane.XY: 1>, angle=0.0, s_domain=set(), t_domain=set()), X(node=20, domain={14}), N(node=21, state=graphix.states.PlanarState(Plane.XY, 0.0)), E(nodes=(15, 21)), M(node=15, plane=<Plane.XY: 1>, angle=0.0, s_domain=set(), t_domain=set()), X(node=21, domain={15}), N(node=22, state=graphix.states.PlanarState(Plane.XY, 0.0)), E(nodes=(16, 22)), M(node=16, plane=<Plane.XY: 1>, angle=0.0, s_domain=set(), t_domain=set()), X(node=22, domain={16}), N(node=23, state=graphix.states.PlanarState(Plane.XY, 0.0)), E(nodes=(17, 23)), M(node=17, plane=<Plane.XY: 1>, angle=0.0, s_domain=set(), t_domain=set()), X(node=23, domain={17}), N(node=24, state=graphix.states.PlanarState(Plane.XY, 0.0)), E(nodes=(18, 24)), M(node=18, plane=<Plane.XY: 1>, angle=0.0, s_domain=set(), t_domain=set()), X(node=24, domain={18}), N(node=25, state=graphix.states.PlanarState(Plane.XY, 0.0)), E(nodes=(19, 25)), M(node=19, plane=<Plane.XY: 1>, angle=-0.5, s_domain=set(), t_domain=set()), X(node=25, domain={19}), E(nodes=(24, 25)), N(node=26, state=graphix.states.PlanarState(Plane.XY, 0.0)), E(nodes=(20, 26)), M(node=20, plane=<Plane.XY: 1>, angle=0.0, s_domain=set(), t_domain=set()), X(node=26, domain={20}), N(node=27, state=graphix.states.PlanarState(Plane.XY, 0.0)), E(nodes=(21, 27)), M(node=21, plane=<Plane.XY: 1>, angle=0.0, s_domain=set(), t_domain=set()), X(node=27, domain={21}), E(nodes=(26, 27)), N(node=28, state=graphix.states.PlanarState(Plane.XY, 0.0)), E(nodes=(22, 28)), M(node=22, plane=<Plane.XY: 1>, angle=0.0, s_domain=set(), t_domain=set()), X(node=28, domain={22}), N(node=29, state=graphix.states.PlanarState(Plane.XY, 0.0)), E(nodes=(23, 29)), M(node=23, plane=<Plane.XY: 1>, angle=0.0, s_domain=set(), t_domain=set()), X(node=29, domain={23}), E(nodes=(28, 29)), N(node=30, state=graphix.states.PlanarState(Plane.XY, 0.0)), E(nodes=(24, 30)), M(node=24, plane=<Plane.XY: 1>, angle=0.0, s_domain=set(), t_domain=set()), X(node=30, domain={24}), N(node=31, state=graphix.states.PlanarState(Plane.XY, 0.0)), E(nodes=(25, 31)), M(node=25, plane=<Plane.XY: 1>, angle=0.0, s_domain=set(), t_domain=set()), X(node=31, domain={25}), N(node=32, state=graphix.states.PlanarState(Plane.XY, 0.0)), E(nodes=(26, 32)), M(node=26, plane=<Plane.XY: 1>, angle=0.0, s_domain=set(), t_domain=set()), X(node=32, domain={26}), N(node=33, state=graphix.states.PlanarState(Plane.XY, 0.0)), E(nodes=(27, 33)), M(node=27, plane=<Plane.XY: 1>, angle=0.0, s_domain=set(), t_domain=set()), X(node=33, domain={27}), N(node=34, state=graphix.states.PlanarState(Plane.XY, 0.0)), E(nodes=(28, 34)), M(node=28, plane=<Plane.XY: 1>, angle=0.0, s_domain=set(), t_domain=set()), X(node=34, domain={28}), N(node=35, state=graphix.states.PlanarState(Plane.XY, 0.0)), E(nodes=(29, 35)), M(node=29, plane=<Plane.XY: 1>, angle=0.0, s_domain=set(), t_domain=set()), X(node=35, domain={29}), N(node=36, state=graphix.states.PlanarState(Plane.XY, 0.0)), E(nodes=(30, 36)), M(node=30, plane=<Plane.XY: 1>, angle=0.0, s_domain=set(), t_domain=set()), X(node=36, domain={30}), N(node=37, state=graphix.states.PlanarState(Plane.XY, 0.0)), E(nodes=(31, 37)), M(node=31, plane=<Plane.XY: 1>, angle=0.0, s_domain=set(), t_domain=set()), X(node=37, domain={31}), N(node=38, state=graphix.states.PlanarState(Plane.XY, 0.0)), E(nodes=(32, 38)), M(node=32, plane=<Plane.XY: 1>, angle=0.0, s_domain=set(), t_domain=set()), X(node=38, domain={32}), E(nodes=(37, 38)), N(node=39, state=graphix.states.PlanarState(Plane.XY, 0.0)), E(nodes=(33, 39)), M(node=33, plane=<Plane.XY: 1>, angle=0.0, s_domain=set(), t_domain=set()), X(node=39, domain={33}), N(node=40, state=graphix.states.PlanarState(Plane.XY, 0.0)), E(nodes=(34, 40)), M(node=34, plane=<Plane.XY: 1>, angle=0.0, s_domain=set(), t_domain=set()), X(node=40, domain={34}), E(nodes=(39, 40)), N(node=41, state=graphix.states.PlanarState(Plane.XY, 0.0)), E(nodes=(35, 41)), M(node=35, plane=<Plane.XY: 1>, angle=0.0, s_domain=set(), t_domain=set()), X(node=41, domain={35}), N(node=42, state=graphix.states.PlanarState(Plane.XY, 0.0)), E(nodes=(36, 42)), M(node=36, plane=<Plane.XY: 1>, angle=0.0, s_domain=set(), t_domain=set()), X(node=42, domain={36}), N(node=43, state=graphix.states.PlanarState(Plane.XY, 0.0)), E(nodes=(37, 43)), M(node=37, plane=<Plane.XY: 1>, angle=0.0, s_domain=set(), t_domain=set()), X(node=43, domain={37}), N(node=44, state=graphix.states.PlanarState(Plane.XY, 0.0)), E(nodes=(38, 44)), M(node=38, plane=<Plane.XY: 1>, angle=0.0, s_domain=set(), t_domain=set()), X(node=44, domain={38}), N(node=45, state=graphix.states.PlanarState(Plane.XY, 0.0)), E(nodes=(39, 45)), M(node=39, plane=<Plane.XY: 1>, angle=0.0, s_domain=set(), t_domain=set()), X(node=45, domain={39}), N(node=46, state=graphix.states.PlanarState(Plane.XY, 0.0)), E(nodes=(40, 46)), M(node=40, plane=<Plane.XY: 1>, angle=0.0, s_domain=set(), t_domain=set()), X(node=46, domain={40}), N(node=47, state=graphix.states.PlanarState(Plane.XY, 0.0)), E(nodes=(41, 47)), M(node=41, plane=<Plane.XY: 1>, angle=0.0, s_domain=set(), t_domain=set()), X(node=47, domain={41}), N(node=48, state=graphix.states.PlanarState(Plane.XY, 0.0)), E(nodes=(42, 48)), M(node=42, plane=<Plane.XY: 1>, angle=0.0, s_domain=set(), t_domain=set()), X(node=48, domain={42}), N(node=49, state=graphix.states.PlanarState(Plane.XY, 0.0)), E(nodes=(43, 49)), M(node=43, plane=<Plane.XY: 1>, angle=0.0, s_domain=set(), t_domain=set()), X(node=49, domain={43}), N(node=50, state=graphix.states.PlanarState(Plane.XY, 0.0)), E(nodes=(44, 50)), M(node=44, plane=<Plane.XY: 1>, angle=0.0, s_domain=set(), t_domain=set()), X(node=50, domain={44}), E(nodes=(49, 50)), N(node=51, state=graphix.states.PlanarState(Plane.XY, 0.0)), E(nodes=(45, 51)), M(node=45, plane=<Plane.XY: 1>, angle=0.0, s_domain=set(), t_domain=set()), X(node=51, domain={45}), N(node=52, state=graphix.states.PlanarState(Plane.XY, 0.0)), E(nodes=(46, 52)), M(node=46, plane=<Plane.XY: 1>, angle=0.0, s_domain=set(), t_domain=set()), X(node=52, domain={46}), E(nodes=(51, 52)), N(node=53, state=graphix.states.PlanarState(Plane.XY, 0.0)), E(nodes=(47, 53)), M(node=47, plane=<Plane.XY: 1>, angle=0.0, s_domain=set(), t_domain=set()), X(node=53, domain={47}), N(node=54, state=graphix.states.PlanarState(Plane.XY, 0.0)), E(nodes=(48, 54)), M(node=48, plane=<Plane.XY: 1>, angle=0.0, s_domain=set(), t_domain=set()), X(node=54, domain={48}), N(node=55, state=graphix.states.PlanarState(Plane.XY, 0.0)), E(nodes=(49, 55)), M(node=49, plane=<Plane.XY: 1>, angle=0.0, s_domain=set(), t_domain=set()), X(node=55, domain={49}), N(node=56, state=graphix.states.PlanarState(Plane.XY, 0.0)), E(nodes=(50, 56)), M(node=50, plane=<Plane.XY: 1>, angle=0.0, s_domain=set(), t_domain=set()), X(node=56, domain={50}), N(node=57, state=graphix.states.PlanarState(Plane.XY, 0.0)), E(nodes=(51, 57)), M(node=51, plane=<Plane.XY: 1>, angle=0.0, s_domain=set(), t_domain=set()), X(node=57, domain={51}), N(node=58, state=graphix.states.PlanarState(Plane.XY, 0.0)), E(nodes=(52, 58)), M(node=52, plane=<Plane.XY: 1>, angle=0.0, s_domain=set(), t_domain=set()), X(node=58, domain={52}), N(node=59, state=graphix.states.PlanarState(Plane.XY, 0.0)), E(nodes=(53, 59)), M(node=53, plane=<Plane.XY: 1>, angle=0.0, s_domain=set(), t_domain=set()), X(node=59, domain={53}), N(node=60, state=graphix.states.PlanarState(Plane.XY, 0.0)), E(nodes=(54, 60)), M(node=54, plane=<Plane.XY: 1>, angle=0.0, s_domain=set(), t_domain=set()), X(node=60, domain={54}), N(node=61, state=graphix.states.PlanarState(Plane.XY, 0.0)), E(nodes=(55, 61)), M(node=55, plane=<Plane.XY: 1>, angle=0.5, s_domain=set(), t_domain=set()), X(node=61, domain={55}), E(nodes=(60, 61)), N(node=62, state=graphix.states.PlanarState(Plane.XY, 0.0)), E(nodes=(56, 62)), M(node=56, plane=<Plane.XY: 1>, angle=0.0, s_domain=set(), t_domain=set()), X(node=62, domain={56}), N(node=63, state=graphix.states.PlanarState(Plane.XY, 0.0)), E(nodes=(57, 63)), M(node=57, plane=<Plane.XY: 1>, angle=0.0, s_domain=set(), t_domain=set()), X(node=63, domain={57}), E(nodes=(62, 63)), N(node=64, state=graphix.states.PlanarState(Plane.XY, 0.0)), E(nodes=(58, 64)), M(node=58, plane=<Plane.XY: 1>, angle=0.0, s_domain=set(), t_domain=set()), X(node=64, domain={58}), N(node=65, state=graphix.states.PlanarState(Plane.XY, 0.0)), E(nodes=(59, 65)), M(node=59, plane=<Plane.XY: 1>, angle=0.0, s_domain=set(), t_domain=set()), X(node=65, domain={59}), E(nodes=(64, 65)), N(node=66, state=graphix.states.PlanarState(Plane.XY, 0.0)), E(nodes=(60, 66)), M(node=60, plane=<Plane.XY: 1>, angle=0.5, s_domain=set(), t_domain=set()), X(node=66, domain={60}), N(node=67, state=graphix.states.PlanarState(Plane.XY, 0.0)), E(nodes=(61, 67)), M(node=61, plane=<Plane.XY: 1>, angle=0.0, s_domain=set(), t_domain=set()), X(node=67, domain={61}), N(node=68, state=graphix.states.PlanarState(Plane.XY, 0.0)), E(nodes=(62, 68)), M(node=62, plane=<Plane.XY: 1>, angle=0.0, s_domain=set(), t_domain=set()), X(node=68, domain={62}), N(node=69, state=graphix.states.PlanarState(Plane.XY, 0.0)), E(nodes=(63, 69)), M(node=63, plane=<Plane.XY: 1>, angle=0.0, s_domain=set(), t_domain=set()), X(node=69, domain={63}), N(node=70, state=graphix.states.PlanarState(Plane.XY, 0.0)), E(nodes=(64, 70)), M(node=64, plane=<Plane.XY: 1>, angle=0.0, s_domain=set(), t_domain=set()), X(node=70, domain={64}), N(node=71, state=graphix.states.PlanarState(Plane.XY, 0.0)), E(nodes=(65, 71)), M(node=65, plane=<Plane.XY: 1>, angle=0.0, s_domain=set(), t_domain=set()), X(node=71, domain={65}), N(node=72, state=graphix.states.PlanarState(Plane.XY, 0.0)), E(nodes=(66, 72)), M(node=66, plane=<Plane.XY: 1>, angle=0.0, s_domain=set(), t_domain=set()), X(node=72, domain={66}), N(node=73, state=graphix.states.PlanarState(Plane.XY, 0.0)), E(nodes=(67, 73)), M(node=67, plane=<Plane.XY: 1>, angle=-0.5, s_domain=set(), t_domain=set()), X(node=73, domain={67}), E(nodes=(72, 73)), N(node=74, state=graphix.states.PlanarState(Plane.XY, 0.0)), E(nodes=(68, 74)), M(node=68, plane=<Plane.XY: 1>, angle=0.0, s_domain=set(), t_domain=set()), X(node=74, domain={68}), N(node=75, state=graphix.states.PlanarState(Plane.XY, 0.0)), E(nodes=(69, 75)), M(node=69, plane=<Plane.XY: 1>, angle=0.0, s_domain=set(), t_domain=set()), X(node=75, domain={69}), E(nodes=(74, 75)), N(node=76, state=graphix.states.PlanarState(Plane.XY, 0.0)), E(nodes=(70, 76)), M(node=70, plane=<Plane.XY: 1>, angle=0.0, s_domain=set(), t_domain=set()), X(node=76, domain={70}), N(node=77, state=graphix.states.PlanarState(Plane.XY, 0.0)), E(nodes=(71, 77)), M(node=71, plane=<Plane.XY: 1>, angle=0.0, s_domain=set(), t_domain=set()), X(node=77, domain={71}), E(nodes=(76, 77)), N(node=78, state=graphix.states.PlanarState(Plane.XY, 0.0)), E(nodes=(72, 78)), M(node=72, plane=<Plane.XY: 1>, angle=0.0, s_domain=set(), t_domain=set()), X(node=78, domain={72}), N(node=79, state=graphix.states.PlanarState(Plane.XY, 0.0)), E(nodes=(73, 79)), M(node=73, plane=<Plane.XY: 1>, angle=0.0, s_domain=set(), t_domain=set()), X(node=79, domain={73}), N(node=80, state=graphix.states.PlanarState(Plane.XY, 0.0)), E(nodes=(74, 80)), M(node=74, plane=<Plane.XY: 1>, angle=0.0, s_domain=set(), t_domain=set()), X(node=80, domain={74}), N(node=81, state=graphix.states.PlanarState(Plane.XY, 0.0)), E(nodes=(75, 81)), M(node=75, plane=<Plane.XY: 1>, angle=0.0, s_domain=set(), t_domain=set()), X(node=81, domain={75}), N(node=82, state=graphix.states.PlanarState(Plane.XY, 0.0)), E(nodes=(76, 82)), M(node=76, plane=<Plane.XY: 1>, angle=0.0, s_domain=set(), t_domain=set()), X(node=82, domain={76}), N(node=83, state=graphix.states.PlanarState(Plane.XY, 0.0)), E(nodes=(77, 83)), M(node=77, plane=<Plane.XY: 1>, angle=0.0, s_domain=set(), t_domain=set()), X(node=83, domain={77}), N(node=84, state=graphix.states.PlanarState(Plane.XY, 0.0)), E(nodes=(78, 84)), M(node=78, plane=<Plane.XY: 1>, angle=0.0, s_domain=set(), t_domain=set()), X(node=84, domain={78}), N(node=85, state=graphix.states.PlanarState(Plane.XY, 0.0)), E(nodes=(79, 85)), M(node=79, plane=<Plane.XY: 1>, angle=0.0, s_domain=set(), t_domain=set()), X(node=85, domain={79}), N(node=86, state=graphix.states.PlanarState(Plane.XY, 0.0)), E(nodes=(80, 86)), M(node=80, plane=<Plane.XY: 1>, angle=0.5, s_domain=set(), t_domain=set()), X(node=86, domain={80}), E(nodes=(85, 86)), N(node=87, state=graphix.states.PlanarState(Plane.XY, 0.0)), E(nodes=(81, 87)), M(node=81, plane=<Plane.XY: 1>, angle=0.0, s_domain=set(), t_domain=set()), X(node=87, domain={81}), N(node=88, state=graphix.states.PlanarState(Plane.XY, 0.0)), E(nodes=(82, 88)), M(node=82, plane=<Plane.XY: 1>, angle=0.0, s_domain=set(), t_domain=set()), X(node=88, domain={82}), E(nodes=(87, 88)), N(node=89, state=graphix.states.PlanarState(Plane.XY, 0.0)), E(nodes=(83, 89)), M(node=83, plane=<Plane.XY: 1>, angle=0.0, s_domain=set(), t_domain=set()), X(node=89, domain={83}), N(node=90, state=graphix.states.PlanarState(Plane.XY, 0.0)), E(nodes=(84, 90)), M(node=84, plane=<Plane.XY: 1>, angle=0.0, s_domain=set(), t_domain=set()), X(node=90, domain={84}), N(node=91, state=graphix.states.PlanarState(Plane.XY, 0.0)), E(nodes=(85, 91)), M(node=85, plane=<Plane.XY: 1>, angle=0.5, s_domain=set(), t_domain=set()), X(node=91, domain={85}), N(node=92, state=graphix.states.PlanarState(Plane.XY, 0.0)), E(nodes=(86, 92)), M(node=86, plane=<Plane.XY: 1>, angle=0.0, s_domain=set(), t_domain=set()), X(node=92, domain={86}), N(node=93, state=graphix.states.PlanarState(Plane.XY, 0.0)), E(nodes=(87, 93)), M(node=87, plane=<Plane.XY: 1>, angle=0.0, s_domain=set(), t_domain=set()), X(node=93, domain={87}), N(node=94, state=graphix.states.PlanarState(Plane.XY, 0.0)), E(nodes=(88, 94)), M(node=88, plane=<Plane.XY: 1>, angle=0.0, s_domain=set(), t_domain=set()), X(node=94, domain={88}), N(node=95, state=graphix.states.PlanarState(Plane.XY, 0.0)), E(nodes=(89, 95)), M(node=89, plane=<Plane.XY: 1>, angle=0.0, s_domain=set(), t_domain=set()), X(node=95, domain={89}), N(node=96, state=graphix.states.PlanarState(Plane.XY, 0.0)), E(nodes=(90, 96)), M(node=90, plane=<Plane.XY: 1>, angle=0.0, s_domain=set(), t_domain=set()), X(node=96, domain={90}), N(node=97, state=graphix.states.PlanarState(Plane.XY, 0.0)), E(nodes=(91, 97)), M(node=91, plane=<Plane.XY: 1>, angle=0.0, s_domain=set(), t_domain=set()), X(node=97, domain={91}), N(node=98, state=graphix.states.PlanarState(Plane.XY, 0.0)), E(nodes=(92, 98)), M(node=92, plane=<Plane.XY: 1>, angle=-0.5, s_domain=set(), t_domain=set()), X(node=98, domain={92}), E(nodes=(97, 98)), N(node=99, state=graphix.states.PlanarState(Plane.XY, 0.0)), E(nodes=(93, 99)), M(node=93, plane=<Plane.XY: 1>, angle=0.0, s_domain=set(), t_domain=set()), X(node=99, domain={93}), N(node=100, state=graphix.states.PlanarState(Plane.XY, 0.0)), E(nodes=(94, 100)), M(node=94, plane=<Plane.XY: 1>, angle=0.0, s_domain=set(), t_domain=set()), X(node=100, domain={94}), E(nodes=(99, 100)), N(node=101, state=graphix.states.PlanarState(Plane.XY, 0.0)), E(nodes=(95, 101)), M(node=95, plane=<Plane.XY: 1>, angle=0.0, s_domain=set(), t_domain=set()), X(node=101, domain={95}), N(node=102, state=graphix.states.PlanarState(Plane.XY, 0.0)), E(nodes=(96, 102)), M(node=96, plane=<Plane.XY: 1>, angle=-1.020016654102197, s_domain=set(), t_domain=set()), X(node=102, domain={96}), N(node=103, state=graphix.states.PlanarState(Plane.XY, 0.0)), E(nodes=(97, 103)), M(node=97, plane=<Plane.XY: 1>, angle=0.0, s_domain=set(), t_domain=set()), X(node=103, domain={97}), N(node=104, state=graphix.states.PlanarState(Plane.XY, 0.0)), E(nodes=(98, 104)), M(node=98, plane=<Plane.XY: 1>, angle=0.0, s_domain=set(), t_domain=set()), X(node=104, domain={98}), N(node=105, state=graphix.states.PlanarState(Plane.XY, 0.0)), E(nodes=(99, 105)), M(node=99, plane=<Plane.XY: 1>, angle=0.0, s_domain=set(), t_domain=set()), X(node=105, domain={99}), N(node=106, state=graphix.states.PlanarState(Plane.XY, 0.0)), E(nodes=(100, 106)), M(node=100, plane=<Plane.XY: 1>, angle=0.0, s_domain=set(), t_domain=set()), X(node=106, domain={100}), N(node=107, state=graphix.states.PlanarState(Plane.XY, 0.0)), E(nodes=(101, 107)), M(node=101, plane=<Plane.XY: 1>, angle=0.0, s_domain=set(), t_domain=set()), X(node=107, domain={101}), N(node=108, state=graphix.states.PlanarState(Plane.XY, 0.0)), E(nodes=(102, 108)), M(node=102, plane=<Plane.XY: 1>, angle=-0.27739462709040086, s_domain=set(), t_domain=set()), X(node=108, domain={102}), N(node=109, state=graphix.states.PlanarState(Plane.XY, 0.0)), E(nodes=(103, 109)), M(node=103, plane=<Plane.XY: 1>, angle=0.0, s_domain=set(), t_domain=set()), X(node=109, domain={103}), E(nodes=(108, 109)), N(node=110, state=graphix.states.PlanarState(Plane.XY, 0.0)), E(nodes=(104, 110)), M(node=104, plane=<Plane.XY: 1>, angle=0.0, s_domain=set(), t_domain=set()), X(node=110, domain={104}), N(node=111, state=graphix.states.PlanarState(Plane.XY, 0.0)), E(nodes=(105, 111)), M(node=105, plane=<Plane.XY: 1>, angle=0.0, s_domain=set(), t_domain=set()), X(node=111, domain={105}), E(nodes=(110, 111)), N(node=112, state=graphix.states.PlanarState(Plane.XY, 0.0)), E(nodes=(106, 112)), M(node=106, plane=<Plane.XY: 1>, angle=0.0, s_domain=set(), t_domain=set()), X(node=112, domain={106}), N(node=113, state=graphix.states.PlanarState(Plane.XY, 0.0)), E(nodes=(107, 113)), M(node=107, plane=<Plane.XY: 1>, angle=0.0, s_domain=set(), t_domain=set()), X(node=113, domain={107}), E(nodes=(112, 113)), N(node=114, state=graphix.states.PlanarState(Plane.XY, 0.0)), E(nodes=(108, 114)), M(node=108, plane=<Plane.XY: 1>, angle=0.0, s_domain=set(), t_domain=set()), X(node=114, domain={108}), N(node=115, state=graphix.states.PlanarState(Plane.XY, 0.0)), E(nodes=(109, 115)), M(node=109, plane=<Plane.XY: 1>, angle=0.0, s_domain=set(), t_domain=set()), X(node=115, domain={109}), N(node=116, state=graphix.states.PlanarState(Plane.XY, 0.0)), E(nodes=(110, 116)), M(node=110, plane=<Plane.XY: 1>, angle=0.0, s_domain=set(), t_domain=set()), X(node=116, domain={110}), N(node=117, state=graphix.states.PlanarState(Plane.XY, 0.0)), E(nodes=(111, 117)), M(node=111, plane=<Plane.XY: 1>, angle=0.0, s_domain=set(), t_domain=set()), X(node=117, domain={111}), N(node=118, state=graphix.states.PlanarState(Plane.XY, 0.0)), E(nodes=(112, 118)), M(node=112, plane=<Plane.XY: 1>, angle=0.0, s_domain=set(), t_domain=set()), X(node=118, domain={112}), N(node=119, state=graphix.states.PlanarState(Plane.XY, 0.0)), E(nodes=(113, 119)), M(node=113, plane=<Plane.XY: 1>, angle=0.0, s_domain=set(), t_domain=set()), X(node=119, domain={113}), N(node=120, state=graphix.states.PlanarState(Plane.XY, 0.0)), E(nodes=(114, 120)), M(node=114, plane=<Plane.XY: 1>, angle=0.0, s_domain=set(), t_domain=set()), X(node=120, domain={114}), N(node=121, state=graphix.states.PlanarState(Plane.XY, 0.0)), E(nodes=(115, 121)), M(node=115, plane=<Plane.XY: 1>, angle=0.0, s_domain=set(), t_domain=set()), X(node=121, domain={115}), E(nodes=(120, 121)), N(node=122, state=graphix.states.PlanarState(Plane.XY, 0.0)), E(nodes=(116, 122)), M(node=116, plane=<Plane.XY: 1>, angle=0.0, s_domain=set(), t_domain=set()), X(node=122, domain={116}), N(node=123, state=graphix.states.PlanarState(Plane.XY, 0.0)), E(nodes=(117, 123)), M(node=117, plane=<Plane.XY: 1>, angle=0.0, s_domain=set(), t_domain=set()), X(node=123, domain={117}), E(nodes=(122, 123)), N(node=124, state=graphix.states.PlanarState(Plane.XY, 0.0)), E(nodes=(118, 124)), M(node=118, plane=<Plane.XY: 1>, angle=0.0, s_domain=set(), t_domain=set()), X(node=124, domain={118}), N(node=125, state=graphix.states.PlanarState(Plane.XY, 0.0)), E(nodes=(119, 125)), M(node=119, plane=<Plane.XY: 1>, angle=0.0, s_domain=set(), t_domain=set()), X(node=125, domain={119}), E(nodes=(124, 125)), N(node=126, state=graphix.states.PlanarState(Plane.XY, 0.0)), E(nodes=(120, 126)), M(node=120, plane=<Plane.XY: 1>, angle=0.0, s_domain=set(), t_domain=set()), X(node=126, domain={120}), N(node=127, state=graphix.states.PlanarState(Plane.XY, 0.0)), E(nodes=(121, 127)), M(node=121, plane=<Plane.XY: 1>, angle=0.0, s_domain=set(), t_domain=set()), X(node=127, domain={121}), N(node=128, state=graphix.states.PlanarState(Plane.XY, 0.0)), E(nodes=(122, 128)), M(node=122, plane=<Plane.XY: 1>, angle=0.0, s_domain=set(), t_domain=set()), X(node=128, domain={122}), N(node=129, state=graphix.states.PlanarState(Plane.XY, 0.0)), E(nodes=(123, 129)), M(node=123, plane=<Plane.XY: 1>, angle=0.0, s_domain=set(), t_domain=set()), X(node=129, domain={123}), N(node=130, state=graphix.states.PlanarState(Plane.XY, 0.0)), E(nodes=(124, 130)), M(node=124, plane=<Plane.XY: 1>, angle=0.0, s_domain=set(), t_domain=set()), X(node=130, domain={124}), N(node=131, state=graphix.states.PlanarState(Plane.XY, 0.0)), E(nodes=(125, 131)), M(node=125, plane=<Plane.XY: 1>, angle=0.0, s_domain=set(), t_domain=set()), X(node=131, domain={125}), N(node=132, state=graphix.states.PlanarState(Plane.XY, 0.0)), E(nodes=(126, 132)), M(node=126, plane=<Plane.XY: 1>, angle=0.0, s_domain=set(), t_domain=set()), X(node=132, domain={126}), N(node=133, state=graphix.states.PlanarState(Plane.XY, 0.0)), E(nodes=(127, 133)), M(node=127, plane=<Plane.XY: 1>, angle=0.0, s_domain=set(), t_domain=set()), X(node=133, domain={127}), N(node=134, state=graphix.states.PlanarState(Plane.XY, 0.0)), E(nodes=(128, 134)), M(node=128, plane=<Plane.XY: 1>, angle=0.5, s_domain=set(), t_domain=set()), X(node=134, domain={128}), E(nodes=(133, 134)), N(node=135, state=graphix.states.PlanarState(Plane.XY, 0.0)), E(nodes=(129, 135)), M(node=129, plane=<Plane.XY: 1>, angle=0.0, s_domain=set(), t_domain=set()), X(node=135, domain={129}), N(node=136, state=graphix.states.PlanarState(Plane.XY, 0.0)), E(nodes=(130, 136)), M(node=130, plane=<Plane.XY: 1>, angle=0.0, s_domain=set(), t_domain=set()), X(node=136, domain={130}), E(nodes=(135, 136)), N(node=137, state=graphix.states.PlanarState(Plane.XY, 0.0)), E(nodes=(131, 137)), M(node=131, plane=<Plane.XY: 1>, angle=0.0, s_domain=set(), t_domain=set()), X(node=137, domain={131}), N(node=138, state=graphix.states.PlanarState(Plane.XY, 0.0)), E(nodes=(132, 138)), M(node=132, plane=<Plane.XY: 1>, angle=0.0, s_domain=set(), t_domain=set()), X(node=138, domain={132}), N(node=139, state=graphix.states.PlanarState(Plane.XY, 0.0)), E(nodes=(133, 139)), M(node=133, plane=<Plane.XY: 1>, angle=0.5, s_domain=set(), t_domain=set()), X(node=139, domain={133}), N(node=140, state=graphix.states.PlanarState(Plane.XY, 0.0)), E(nodes=(134, 140)), M(node=134, plane=<Plane.XY: 1>, angle=0.0, s_domain=set(), t_domain=set()), X(node=140, domain={134}), N(node=141, state=graphix.states.PlanarState(Plane.XY, 0.0)), E(nodes=(135, 141)), M(node=135, plane=<Plane.XY: 1>, angle=0.0, s_domain=set(), t_domain=set()), X(node=141, domain={135}), N(node=142, state=graphix.states.PlanarState(Plane.XY, 0.0)), E(nodes=(136, 142)), M(node=136, plane=<Plane.XY: 1>, angle=0.0, s_domain=set(), t_domain=set()), X(node=142, domain={136}), N(node=143, state=graphix.states.PlanarState(Plane.XY, 0.0)), E(nodes=(137, 143)), M(node=137, plane=<Plane.XY: 1>, angle=0.0, s_domain=set(), t_domain=set()), X(node=143, domain={137}), N(node=144, state=graphix.states.PlanarState(Plane.XY, 0.0)), E(nodes=(138, 144)), M(node=138, plane=<Plane.XY: 1>, angle=0.0, s_domain=set(), t_domain=set()), X(node=144, domain={138}), N(node=145, state=graphix.states.PlanarState(Plane.XY, 0.0)), E(nodes=(139, 145)), M(node=139, plane=<Plane.XY: 1>, angle=0.0, s_domain=set(), t_domain=set()), X(node=145, domain={139}), N(node=146, state=graphix.states.PlanarState(Plane.XY, 0.0)), E(nodes=(140, 146)), M(node=140, plane=<Plane.XY: 1>, angle=-0.5, s_domain=set(), t_domain=set()), X(node=146, domain={140}), E(nodes=(145, 146)), N(node=147, state=graphix.states.PlanarState(Plane.XY, 0.0)), E(nodes=(141, 147)), M(node=141, plane=<Plane.XY: 1>, angle=0.0, s_domain=set(), t_domain=set()), X(node=147, domain={141}), N(node=148, state=graphix.states.PlanarState(Plane.XY, 0.0)), E(nodes=(142, 148)), M(node=142, plane=<Plane.XY: 1>, angle=0.0, s_domain=set(), t_domain=set()), X(node=148, domain={142}), E(nodes=(147, 148)), N(node=149, state=graphix.states.PlanarState(Plane.XY, 0.0)), E(nodes=(143, 149)), M(node=143, plane=<Plane.XY: 1>, angle=0.0, s_domain=set(), t_domain=set()), X(node=149, domain={143}), N(node=150, state=graphix.states.PlanarState(Plane.XY, 0.0)), E(nodes=(144, 150)), M(node=144, plane=<Plane.XY: 1>, angle=0.0, s_domain=set(), t_domain=set()), X(node=150, domain={144}), N(node=151, state=graphix.states.PlanarState(Plane.XY, 0.0)), E(nodes=(145, 151)), M(node=145, plane=<Plane.XY: 1>, angle=0.0, s_domain=set(), t_domain=set()), X(node=151, domain={145}), N(node=152, state=graphix.states.PlanarState(Plane.XY, 0.0)), E(nodes=(146, 152)), M(node=146, plane=<Plane.XY: 1>, angle=0.0, s_domain=set(), t_domain=set()), X(node=152, domain={146}), N(node=153, state=graphix.states.PlanarState(Plane.XY, 0.0)), E(nodes=(147, 153)), M(node=147, plane=<Plane.XY: 1>, angle=0.0, s_domain=set(), t_domain=set()), X(node=153, domain={147}), N(node=154, state=graphix.states.PlanarState(Plane.XY, 0.0)), E(nodes=(148, 154)), M(node=148, plane=<Plane.XY: 1>, angle=0.0, s_domain=set(), t_domain=set()), X(node=154, domain={148}), N(node=155, state=graphix.states.PlanarState(Plane.XY, 0.0)), E(nodes=(149, 155)), M(node=149, plane=<Plane.XY: 1>, angle=0.0, s_domain=set(), t_domain=set()), X(node=155, domain={149}), N(node=156, state=graphix.states.PlanarState(Plane.XY, 0.0)), E(nodes=(150, 156)), M(node=150, plane=<Plane.XY: 1>, angle=0.0, s_domain=set(), t_domain=set()), X(node=156, domain={150}), N(node=157, state=graphix.states.PlanarState(Plane.XY, 0.0)), E(nodes=(151, 157)), M(node=151, plane=<Plane.XY: 1>, angle=0.5, s_domain=set(), t_domain=set()), X(node=157, domain={151}), E(nodes=(156, 157)), N(node=158, state=graphix.states.PlanarState(Plane.XY, 0.0)), E(nodes=(152, 158)), M(node=152, plane=<Plane.XY: 1>, angle=0.0, s_domain=set(), t_domain=set()), X(node=158, domain={152}), N(node=159, state=graphix.states.PlanarState(Plane.XY, 0.0)), E(nodes=(153, 159)), M(node=153, plane=<Plane.XY: 1>, angle=0.0, s_domain=set(), t_domain=set()), X(node=159, domain={153}), E(nodes=(158, 159)), N(node=160, state=graphix.states.PlanarState(Plane.XY, 0.0)), E(nodes=(154, 160)), M(node=154, plane=<Plane.XY: 1>, angle=0.0, s_domain=set(), t_domain=set()), X(node=160, domain={154}), N(node=161, state=graphix.states.PlanarState(Plane.XY, 0.0)), E(nodes=(155, 161)), M(node=155, plane=<Plane.XY: 1>, angle=0.0, s_domain=set(), t_domain=set()), X(node=161, domain={155}), E(nodes=(160, 161)), N(node=162, state=graphix.states.PlanarState(Plane.XY, 0.0)), E(nodes=(156, 162)), M(node=156, plane=<Plane.XY: 1>, angle=0.5, s_domain=set(), t_domain=set()), X(node=162, domain={156}), N(node=163, state=graphix.states.PlanarState(Plane.XY, 0.0)), E(nodes=(157, 163)), M(node=157, plane=<Plane.XY: 1>, angle=0.0, s_domain=set(), t_domain=set()), X(node=163, domain={157}), N(node=164, state=graphix.states.PlanarState(Plane.XY, 0.0)), E(nodes=(158, 164)), M(node=158, plane=<Plane.XY: 1>, angle=0.0, s_domain=set(), t_domain=set()), X(node=164, domain={158}), N(node=165, state=graphix.states.PlanarState(Plane.XY, 0.0)), E(nodes=(159, 165)), M(node=159, plane=<Plane.XY: 1>, angle=0.0, s_domain=set(), t_domain=set()), X(node=165, domain={159}), N(node=166, state=graphix.states.PlanarState(Plane.XY, 0.0)), E(nodes=(160, 166)), M(node=160, plane=<Plane.XY: 1>, angle=0.0, s_domain=set(), t_domain=set()), X(node=166, domain={160}), N(node=167, state=graphix.states.PlanarState(Plane.XY, 0.0)), E(nodes=(161, 167)), M(node=161, plane=<Plane.XY: 1>, angle=0.0, s_domain=set(), t_domain=set()), X(node=167, domain={161}), N(node=168, state=graphix.states.PlanarState(Plane.XY, 0.0)), E(nodes=(162, 168)), M(node=162, plane=<Plane.XY: 1>, angle=0.0, s_domain=set(), t_domain=set()), X(node=168, domain={162}), N(node=169, state=graphix.states.PlanarState(Plane.XY, 0.0)), E(nodes=(163, 169)), M(node=163, plane=<Plane.XY: 1>, angle=-0.5, s_domain=set(), t_domain=set()), X(node=169, domain={163}), E(nodes=(168, 169)), N(node=170, state=graphix.states.PlanarState(Plane.XY, 0.0)), E(nodes=(164, 170)), M(node=164, plane=<Plane.XY: 1>, angle=0.0, s_domain=set(), t_domain=set()), X(node=170, domain={164}), N(node=171, state=graphix.states.PlanarState(Plane.XY, 0.0)), E(nodes=(165, 171)), M(node=165, plane=<Plane.XY: 1>, angle=0.0, s_domain=set(), t_domain=set()), X(node=171, domain={165}), E(nodes=(170, 171)), N(node=172, state=graphix.states.PlanarState(Plane.XY, 0.0)), E(nodes=(166, 172)), M(node=166, plane=<Plane.XY: 1>, angle=0.0, s_domain=set(), t_domain=set()), X(node=172, domain={166}), N(node=173, state=graphix.states.PlanarState(Plane.XY, 0.0)), E(nodes=(167, 173)), M(node=167, plane=<Plane.XY: 1>, angle=0.0, s_domain=set(), t_domain=set()), X(node=173, domain={167}), E(nodes=(172, 173)), N(node=174, state=graphix.states.PlanarState(Plane.XY, 0.0)), E(nodes=(168, 174)), M(node=168, plane=<Plane.XY: 1>, angle=0.0, s_domain=set(), t_domain=set()), X(node=174, domain={168}), N(node=175, state=graphix.states.PlanarState(Plane.XY, 0.0)), E(nodes=(169, 175)), M(node=169, plane=<Plane.XY: 1>, angle=0.0, s_domain=set(), t_domain=set()), X(node=175, domain={169}), N(node=176, state=graphix.states.PlanarState(Plane.XY, 0.0)), E(nodes=(170, 176)), M(node=170, plane=<Plane.XY: 1>, angle=0.0, s_domain=set(), t_domain=set()), X(node=176, domain={170}), N(node=177, state=graphix.states.PlanarState(Plane.XY, 0.0)), E(nodes=(171, 177)), M(node=171, plane=<Plane.XY: 1>, angle=0.0, s_domain=set(), t_domain=set()), X(node=177, domain={171}), N(node=178, state=graphix.states.PlanarState(Plane.XY, 0.0)), E(nodes=(172, 178)), M(node=172, plane=<Plane.XY: 1>, angle=0.0, s_domain=set(), t_domain=set()), X(node=178, domain={172}), N(node=179, state=graphix.states.PlanarState(Plane.XY, 0.0)), E(nodes=(173, 179)), M(node=173, plane=<Plane.XY: 1>, angle=0.0, s_domain=set(), t_domain=set()), X(node=179, domain={173}), N(node=180, state=graphix.states.PlanarState(Plane.XY, 0.0)), E(nodes=(174, 180)), M(node=174, plane=<Plane.XY: 1>, angle=0.0, s_domain=set(), t_domain=set()), X(node=180, domain={174}), N(node=181, state=graphix.states.PlanarState(Plane.XY, 0.0)), E(nodes=(175, 181)), M(node=175, plane=<Plane.XY: 1>, angle=0.0, s_domain=set(), t_domain=set()), X(node=181, domain={175}), N(node=182, state=graphix.states.PlanarState(Plane.XY, 0.0)), E(nodes=(176, 182)), M(node=176, plane=<Plane.XY: 1>, angle=0.0, s_domain=set(), t_domain=set()), X(node=182, domain={176}), E(nodes=(181, 182)), N(node=183, state=graphix.states.PlanarState(Plane.XY, 0.0)), E(nodes=(177, 183)), M(node=177, plane=<Plane.XY: 1>, angle=0.0, s_domain=set(), t_domain=set()), X(node=183, domain={177}), N(node=184, state=graphix.states.PlanarState(Plane.XY, 0.0)), E(nodes=(178, 184)), M(node=178, plane=<Plane.XY: 1>, angle=0.0, s_domain=set(), t_domain=set()), X(node=184, domain={178}), E(nodes=(183, 184)), N(node=185, state=graphix.states.PlanarState(Plane.XY, 0.0)), E(nodes=(179, 185)), M(node=179, plane=<Plane.XY: 1>, angle=0.0, s_domain=set(), t_domain=set()), X(node=185, domain={179}), N(node=186, state=graphix.states.PlanarState(Plane.XY, 0.0)), E(nodes=(180, 186)), M(node=180, plane=<Plane.XY: 1>, angle=0.0, s_domain=set(), t_domain=set()), X(node=186, domain={180}), N(node=187, state=graphix.states.PlanarState(Plane.XY, 0.0)), E(nodes=(181, 187)), M(node=181, plane=<Plane.XY: 1>, angle=0.0, s_domain=set(), t_domain=set()), X(node=187, domain={181}), N(node=188, state=graphix.states.PlanarState(Plane.XY, 0.0)), E(nodes=(182, 188)), M(node=182, plane=<Plane.XY: 1>, angle=0.0, s_domain=set(), t_domain=set()), X(node=188, domain={182}), N(node=189, state=graphix.states.PlanarState(Plane.XY, 0.0)), E(nodes=(183, 189)), M(node=183, plane=<Plane.XY: 1>, angle=0.0, s_domain=set(), t_domain=set()), X(node=189, domain={183}), N(node=190, state=graphix.states.PlanarState(Plane.XY, 0.0)), E(nodes=(184, 190)), M(node=184, plane=<Plane.XY: 1>, angle=0.0, s_domain=set(), t_domain=set()), X(node=190, domain={184}), N(node=191, state=graphix.states.PlanarState(Plane.XY, 0.0)), E(nodes=(185, 191)), M(node=185, plane=<Plane.XY: 1>, angle=0.0, s_domain=set(), t_domain=set()), X(node=191, domain={185}), N(node=192, state=graphix.states.PlanarState(Plane.XY, 0.0)), E(nodes=(186, 192)), M(node=186, plane=<Plane.XY: 1>, angle=0.0, s_domain=set(), t_domain=set()), X(node=192, domain={186}), N(node=193, state=graphix.states.PlanarState(Plane.XY, 0.0)), E(nodes=(187, 193)), M(node=187, plane=<Plane.XY: 1>, angle=0.0, s_domain=set(), t_domain=set()), X(node=193, domain={187}), N(node=194, state=graphix.states.PlanarState(Plane.XY, 0.0)), E(nodes=(188, 194)), M(node=188, plane=<Plane.XY: 1>, angle=0.0, s_domain=set(), t_domain=set()), X(node=194, domain={188}), E(nodes=(193, 194)), N(node=195, state=graphix.states.PlanarState(Plane.XY, 0.0)), E(nodes=(189, 195)), M(node=189, plane=<Plane.XY: 1>, angle=0.0, s_domain=set(), t_domain=set()), X(node=195, domain={189}), N(node=196, state=graphix.states.PlanarState(Plane.XY, 0.0)), E(nodes=(190, 196)), M(node=190, plane=<Plane.XY: 1>, angle=0.0, s_domain=set(), t_domain=set()), X(node=196, domain={190}), E(nodes=(195, 196)), N(node=197, state=graphix.states.PlanarState(Plane.XY, 0.0)), E(nodes=(191, 197)), M(node=191, plane=<Plane.XY: 1>, angle=0.0, s_domain=set(), t_domain=set()), X(node=197, domain={191}), N(node=198, state=graphix.states.PlanarState(Plane.XY, 0.0)), E(nodes=(192, 198)), M(node=192, plane=<Plane.XY: 1>, angle=0.0, s_domain=set(), t_domain=set()), X(node=198, domain={192}), N(node=199, state=graphix.states.PlanarState(Plane.XY, 0.0)), E(nodes=(193, 199)), M(node=193, plane=<Plane.XY: 1>, angle=0.0, s_domain=set(), t_domain=set()), X(node=199, domain={193}), N(node=200, state=graphix.states.PlanarState(Plane.XY, 0.0)), E(nodes=(194, 200)), M(node=194, plane=<Plane.XY: 1>, angle=0.0, s_domain=set(), t_domain=set()), X(node=200, domain={194}), N(node=201, state=graphix.states.PlanarState(Plane.XY, 0.0)), E(nodes=(195, 201)), M(node=195, plane=<Plane.XY: 1>, angle=0.0, s_domain=set(), t_domain=set()), X(node=201, domain={195}), N(node=202, state=graphix.states.PlanarState(Plane.XY, 0.0)), E(nodes=(196, 202)), M(node=196, plane=<Plane.XY: 1>, angle=0.0, s_domain=set(), t_domain=set()), X(node=202, domain={196}), N(node=203, state=graphix.states.PlanarState(Plane.XY, 0.0)), E(nodes=(197, 203)), M(node=197, plane=<Plane.XY: 1>, angle=0.0, s_domain=set(), t_domain=set()), X(node=203, domain={197}), N(node=204, state=graphix.states.PlanarState(Plane.XY, 0.0)), E(nodes=(198, 204)), M(node=198, plane=<Plane.XY: 1>, angle=-1.1560305152763892, s_domain=set(), t_domain=set()), X(node=204, domain={198}), N(node=205, state=graphix.states.PlanarState(Plane.XY, 0.0)), E(nodes=(199, 205)), M(node=199, plane=<Plane.XY: 1>, angle=0.0, s_domain=set(), t_domain=set()), X(node=205, domain={199}), E(nodes=(204, 205)), N(node=206, state=graphix.states.PlanarState(Plane.XY, 0.0)), E(nodes=(200, 206)), M(node=200, plane=<Plane.XY: 1>, angle=0.0, s_domain=set(), t_domain=set()), X(node=206, domain={200}), N(node=207, state=graphix.states.PlanarState(Plane.XY, 0.0)), E(nodes=(201, 207)), M(node=201, plane=<Plane.XY: 1>, angle=0.0, s_domain=set(), t_domain=set()), X(node=207, domain={201}), E(nodes=(206, 207)), N(node=208, state=graphix.states.PlanarState(Plane.XY, 0.0)), E(nodes=(202, 208)), M(node=202, plane=<Plane.XY: 1>, angle=0.0, s_domain=set(), t_domain=set()), X(node=208, domain={202}), N(node=209, state=graphix.states.PlanarState(Plane.XY, 0.0)), E(nodes=(203, 209)), M(node=203, plane=<Plane.XY: 1>, angle=0.0, s_domain=set(), t_domain=set()), X(node=209, domain={203}), E(nodes=(208, 209)), N(node=210, state=graphix.states.PlanarState(Plane.XY, 0.0)), E(nodes=(204, 210)), M(node=204, plane=<Plane.XY: 1>, angle=-1.1336525650307123, s_domain=set(), t_domain=set()), X(node=210, domain={204}), N(node=211, state=graphix.states.PlanarState(Plane.XY, 0.0)), E(nodes=(205, 211)), M(node=205, plane=<Plane.XY: 1>, angle=0.0, s_domain=set(), t_domain=set()), X(node=211, domain={205}), N(node=212, state=graphix.states.PlanarState(Plane.XY, 0.0)), E(nodes=(206, 212)), M(node=206, plane=<Plane.XY: 1>, angle=0.0, s_domain=set(), t_domain=set()), X(node=212, domain={206}), N(node=213, state=graphix.states.PlanarState(Plane.XY, 0.0)), E(nodes=(207, 213)), M(node=207, plane=<Plane.XY: 1>, angle=0.0, s_domain=set(), t_domain=set()), X(node=213, domain={207}), N(node=214, state=graphix.states.PlanarState(Plane.XY, 0.0)), E(nodes=(208, 214)), M(node=208, plane=<Plane.XY: 1>, angle=0.0, s_domain=set(), t_domain=set()), X(node=214, domain={208}), N(node=215, state=graphix.states.PlanarState(Plane.XY, 0.0)), E(nodes=(209, 215)), M(node=209, plane=<Plane.XY: 1>, angle=0.0, s_domain=set(), t_domain=set()), X(node=215, domain={209}), N(node=216, state=graphix.states.PlanarState(Plane.XY, 0.0)), E(nodes=(210, 216)), M(node=210, plane=<Plane.XY: 1>, angle=0.0, s_domain=set(), t_domain=set()), X(node=216, domain={210}), N(node=217, state=graphix.states.PlanarState(Plane.XY, 0.0)), E(nodes=(211, 217)), M(node=211, plane=<Plane.XY: 1>, angle=0.0, s_domain=set(), t_domain=set()), X(node=217, domain={211}), E(nodes=(216, 217)), N(node=218, state=graphix.states.PlanarState(Plane.XY, 0.0)), E(nodes=(212, 218)), M(node=212, plane=<Plane.XY: 1>, angle=0.0, s_domain=set(), t_domain=set()), X(node=218, domain={212}), N(node=219, state=graphix.states.PlanarState(Plane.XY, 0.0)), E(nodes=(213, 219)), M(node=213, plane=<Plane.XY: 1>, angle=0.0, s_domain=set(), t_domain=set()), X(node=219, domain={213}), E(nodes=(218, 219)), N(node=220, state=graphix.states.PlanarState(Plane.XY, 0.0)), E(nodes=(214, 220)), M(node=214, plane=<Plane.XY: 1>, angle=0.0, s_domain=set(), t_domain=set()), X(node=220, domain={214}), N(node=221, state=graphix.states.PlanarState(Plane.XY, 0.0)), E(nodes=(215, 221)), M(node=215, plane=<Plane.XY: 1>, angle=0.0, s_domain=set(), t_domain=set()), X(node=221, domain={215}), E(nodes=(220, 221)), M(node=221, plane=<Plane.XY: 1>, angle=0, s_domain=set(), t_domain=set())]\n"
     ]
    }
   ],
   "source": [
    "## Load a circuit with siuccess probability p = 0.7839549798834848\n",
    "# BQP error\n",
    "# context handler open renvoie f et à la fin ferme le fichier\n",
    "# valeur à durer de vie, resource libéré.\n",
    "\n",
    "with Path(\"circuits/circuit0000.qasm\").open() as f:\n",
    "    circuit = read_qasm(f)\n",
    "\n",
    "print(circuit.instruction)\n",
    "\n",
    "pattern = brickwork_state_transpiler.transpile(circuit)\n",
    "\n",
    "print(list(pattern))\n",
    "\n"
   ]
  },
  {
   "cell_type": "code",
   "execution_count": null,
   "metadata": {},
   "outputs": [
    {
     "name": "stdout",
     "output_type": "stream",
     "text": [
      "[graphix.states.PlanarState(Plane.XY, 0.0), graphix.states.PlanarState(Plane.XY, 0.0), graphix.states.PlanarState(Plane.XY, 0.0), graphix.states.PlanarState(Plane.XY, 0.0), graphix.states.PlanarState(Plane.XY, 0.0)]\n"
     ]
    }
   ],
   "source": [
    "\n",
    "## Measure output nodes, to have classical output\n",
    "classical_output = pattern.output_nodes\n",
    "for onode in classical_output:\n",
    "    pattern.add(graphix.command.M(node=onode))\n",
    "\n",
    "\n",
    "states = [BasicStates.PLUS] * len(pattern.input_nodes)\n"
   ]
  },
  {
   "cell_type": "code",
   "execution_count": 3,
   "metadata": {},
   "outputs": [
    {
     "name": "stdout",
     "output_type": "stream",
     "text": [
      "The graph of the pattern has 6 nodes.\n",
      "There are 6 traps in total. (VBQC uses single-qubit traps)\n"
     ]
    }
   ],
   "source": [
    "secrets = Secrets(r=True, a=True, theta=True)\n",
    "\n",
    "client = Client(pattern=pattern, secrets=secrets, input_state=states)\n",
    "\n",
    "test_runs = client.create_test_runs()\n",
    "\n",
    "\n",
    "number_of_traps = sum([len(run.trap_qubits) for run in test_runs])\n",
    "n_nodes = len(client.graph[0])\n",
    "print(f\"The graph of the pattern has {n_nodes} nodes.\")\n",
    "print(f\"There are {number_of_traps} traps in total. (VBQC uses single-qubit traps)\")"
   ]
  },
  {
   "cell_type": "markdown",
   "metadata": {},
   "source": [
    "## Concrete VBQC example"
   ]
  },
  {
   "cell_type": "markdown",
   "metadata": {},
   "source": [
    "### Performing the simulation"
   ]
  },
  {
   "cell_type": "code",
   "execution_count": 5,
   "metadata": {},
   "outputs": [],
   "source": [
    "import random as rd\n",
    "\n",
    "from graphix.noise_models import DepolarisingNoiseModel\n",
    "from graphix.sim.density_matrix import DensityMatrixBackend"
   ]
  },
  {
   "cell_type": "code",
   "execution_count": 7,
   "metadata": {},
   "outputs": [
    {
     "name": "stdout",
     "output_type": "stream",
     "text": [
      "Iterating 100 times with 50 computation rounds and 50 trap rounds.\n",
      "Attempt with noise model p=0\n",
      "Attempt with noise model p=0.1\n",
      "Attempt with noise model p=0.15\n",
      "Attempt with noise model p=0.2\n",
      "Attempt with noise model p=0.5\n",
      "Attempt with noise model p=1\n",
      "Proportion of failed traps in for different noise levels:  {0: 0.0, 0.1: 0.32, 0.15: 0.4, 0.2: 0.42, 0.5: 0.84, 1: 0.9}\n"
     ]
    }
   ],
   "source": [
    "from matplotlib import cm  # Colormap\n",
    "from matplotlib.colors import LogNorm\n",
    "\n",
    "# Trappified scheme parameters\n",
    "d = 50  # nr of computation rounds\n",
    "t = 50  # nr of test rounds\n",
    "N = d + t\n",
    "rounds = list(range(N))\n",
    "rd.shuffle(rounds)\n",
    "\n",
    "# Re-setting the backend\n",
    "backend = DensityMatrixBackend()\n",
    "\n",
    "# Store data for each value of p\n",
    "all_histograms = {}\n",
    "failed_traps_histograms = {}\n",
    "\n",
    "# Example of multiple p values (noise levels)\n",
    "p_values = [0, 0.1, 0.15, 0.2, 0.5, 1]\n",
    "\n",
    "print(f\"Iterating {N} times with {d} computation rounds and {t} trap rounds.\")\n",
    "for p in p_values:\n",
    "    # Defining the noise model (depolarizing noise)\n",
    "    noise = DepolarisingNoiseModel(entanglement_error_prob=p)\n",
    "    print(f\"Attempt with noise model p={p}\")\n",
    "\n",
    "    # Recording outcomes/traps failures\n",
    "    outcomes_histogram = dict()\n",
    "    n_failed_traps = 0\n",
    "\n",
    "    # Iterating through rounds\n",
    "    for i in rounds:\n",
    "        if i < d:\n",
    "            # Computation round\n",
    "            client.refresh_randomness()\n",
    "            client.delegate_pattern(backend=backend, noise_model=noise)\n",
    "\n",
    "            # Store result (increment occurrence in histogram)\n",
    "            computation_outcome = \"\"\n",
    "            for onode in classical_output:\n",
    "                computation_outcome += str(int(client.results[onode]))\n",
    "            if computation_outcome not in outcomes_histogram:\n",
    "                outcomes_histogram[computation_outcome] = 1\n",
    "            else:\n",
    "                outcomes_histogram[computation_outcome] += 1\n",
    "        else:\n",
    "            # Test round\n",
    "            run = rd.choice(test_runs)\n",
    "            client.refresh_randomness()\n",
    "            trap_outcomes = client.delegate_test_run(run=run, backend=backend, noise_model=noise)\n",
    "\n",
    "            # Record trap failure\n",
    "            # A trap round fails if one of the single-qubit traps failed\n",
    "            if sum(trap_outcomes) != 0:\n",
    "                n_failed_traps += 1\n",
    "\n",
    "    # Combine results\n",
    "    all_histograms[p] = outcomes_histogram\n",
    "    if t != 0:\n",
    "        failed_traps_histograms[p] = n_failed_traps / (t)\n",
    "\n",
    "# Combine all unique outcomes from all histograms\n",
    "all_outcomes = sorted(set().union(*[hist.keys() for hist in all_histograms.values()]))\n",
    "print(\"Proportion of failed traps in for different noise levels: \", failed_traps_histograms)"
   ]
  },
  {
   "cell_type": "markdown",
   "metadata": {},
   "source": [
    "### Plotting the results (plotly)"
   ]
  },
  {
   "cell_type": "markdown",
   "metadata": {},
   "source": [
    "### Histogram for the computation rounds"
   ]
  },
  {
   "cell_type": "code",
   "execution_count": 6,
   "metadata": {},
   "outputs": [
    {
     "name": "stderr",
     "output_type": "stream",
     "text": [
      "/var/folders/n5/hv7xz3zn675bw8ckw4q5ll3cmp3czq/T/ipykernel_28784/908283072.py:7: MatplotlibDeprecationWarning:\n",
      "\n",
      "The get_cmap function was deprecated in Matplotlib 3.7 and will be removed in 3.11. Use ``matplotlib.colormaps[name]`` or ``matplotlib.colormaps.get_cmap()`` or ``pyplot.get_cmap()`` instead.\n",
      "\n"
     ]
    },
    {
     "data": {
      "application/vnd.plotly.v1+json": {
       "config": {
        "plotlyServerURL": "https://plot.ly"
       },
       "data": [
        {
         "marker": {
          "color": [
           "#3b4cc0",
           "#3b4cc0",
           "#3b4cc0",
           "#3b4cc0"
          ]
         },
         "name": "p=0",
         "type": "bar",
         "visible": true,
         "x": [
          "00",
          "01",
          "10",
          "11"
         ],
         "y": [
          50,
          0,
          0,
          0
         ]
        },
        {
         "marker": {
          "color": [
           "#9fbfff",
           "#9fbfff",
           "#9fbfff",
           "#9fbfff"
          ]
         },
         "name": "p=0.1",
         "type": "bar",
         "visible": true,
         "x": [
          "00",
          "01",
          "10",
          "11"
         ],
         "y": [
          40,
          6,
          3,
          1
         ]
        },
        {
         "marker": {
          "color": [
           "#bfd3f6",
           "#bfd3f6",
           "#bfd3f6",
           "#bfd3f6"
          ]
         },
         "name": "p=0.15",
         "type": "bar",
         "visible": true,
         "x": [
          "00",
          "01",
          "10",
          "11"
         ],
         "y": [
          27,
          10,
          7,
          6
         ]
        },
        {
         "marker": {
          "color": [
           "#d7dce3",
           "#d7dce3",
           "#d7dce3",
           "#d7dce3"
          ]
         },
         "name": "p=0.2",
         "type": "bar",
         "visible": true,
         "x": [
          "00",
          "01",
          "10",
          "11"
         ],
         "y": [
          24,
          10,
          10,
          6
         ]
        },
        {
         "marker": {
          "color": [
           "#f18d6f",
           "#f18d6f",
           "#f18d6f",
           "#f18d6f"
          ]
         },
         "name": "p=0.5",
         "type": "bar",
         "visible": true,
         "x": [
          "00",
          "01",
          "10",
          "11"
         ],
         "y": [
          12,
          12,
          14,
          12
         ]
        },
        {
         "marker": {
          "color": [
           "#b40426",
           "#b40426",
           "#b40426",
           "#b40426"
          ]
         },
         "name": "p=1",
         "type": "bar",
         "visible": true,
         "x": [
          "00",
          "01",
          "10",
          "11"
         ],
         "y": [
          19,
          11,
          13,
          7
         ]
        }
       ],
       "layout": {
        "template": {
         "data": {
          "bar": [
           {
            "error_x": {
             "color": "#2a3f5f"
            },
            "error_y": {
             "color": "#2a3f5f"
            },
            "marker": {
             "line": {
              "color": "#E5ECF6",
              "width": 0.5
             },
             "pattern": {
              "fillmode": "overlay",
              "size": 10,
              "solidity": 0.2
             }
            },
            "type": "bar"
           }
          ],
          "barpolar": [
           {
            "marker": {
             "line": {
              "color": "#E5ECF6",
              "width": 0.5
             },
             "pattern": {
              "fillmode": "overlay",
              "size": 10,
              "solidity": 0.2
             }
            },
            "type": "barpolar"
           }
          ],
          "carpet": [
           {
            "aaxis": {
             "endlinecolor": "#2a3f5f",
             "gridcolor": "white",
             "linecolor": "white",
             "minorgridcolor": "white",
             "startlinecolor": "#2a3f5f"
            },
            "baxis": {
             "endlinecolor": "#2a3f5f",
             "gridcolor": "white",
             "linecolor": "white",
             "minorgridcolor": "white",
             "startlinecolor": "#2a3f5f"
            },
            "type": "carpet"
           }
          ],
          "choropleth": [
           {
            "colorbar": {
             "outlinewidth": 0,
             "ticks": ""
            },
            "type": "choropleth"
           }
          ],
          "contour": [
           {
            "colorbar": {
             "outlinewidth": 0,
             "ticks": ""
            },
            "colorscale": [
             [
              0,
              "#0d0887"
             ],
             [
              0.1111111111111111,
              "#46039f"
             ],
             [
              0.2222222222222222,
              "#7201a8"
             ],
             [
              0.3333333333333333,
              "#9c179e"
             ],
             [
              0.4444444444444444,
              "#bd3786"
             ],
             [
              0.5555555555555556,
              "#d8576b"
             ],
             [
              0.6666666666666666,
              "#ed7953"
             ],
             [
              0.7777777777777778,
              "#fb9f3a"
             ],
             [
              0.8888888888888888,
              "#fdca26"
             ],
             [
              1,
              "#f0f921"
             ]
            ],
            "type": "contour"
           }
          ],
          "contourcarpet": [
           {
            "colorbar": {
             "outlinewidth": 0,
             "ticks": ""
            },
            "type": "contourcarpet"
           }
          ],
          "heatmap": [
           {
            "colorbar": {
             "outlinewidth": 0,
             "ticks": ""
            },
            "colorscale": [
             [
              0,
              "#0d0887"
             ],
             [
              0.1111111111111111,
              "#46039f"
             ],
             [
              0.2222222222222222,
              "#7201a8"
             ],
             [
              0.3333333333333333,
              "#9c179e"
             ],
             [
              0.4444444444444444,
              "#bd3786"
             ],
             [
              0.5555555555555556,
              "#d8576b"
             ],
             [
              0.6666666666666666,
              "#ed7953"
             ],
             [
              0.7777777777777778,
              "#fb9f3a"
             ],
             [
              0.8888888888888888,
              "#fdca26"
             ],
             [
              1,
              "#f0f921"
             ]
            ],
            "type": "heatmap"
           }
          ],
          "heatmapgl": [
           {
            "colorbar": {
             "outlinewidth": 0,
             "ticks": ""
            },
            "colorscale": [
             [
              0,
              "#0d0887"
             ],
             [
              0.1111111111111111,
              "#46039f"
             ],
             [
              0.2222222222222222,
              "#7201a8"
             ],
             [
              0.3333333333333333,
              "#9c179e"
             ],
             [
              0.4444444444444444,
              "#bd3786"
             ],
             [
              0.5555555555555556,
              "#d8576b"
             ],
             [
              0.6666666666666666,
              "#ed7953"
             ],
             [
              0.7777777777777778,
              "#fb9f3a"
             ],
             [
              0.8888888888888888,
              "#fdca26"
             ],
             [
              1,
              "#f0f921"
             ]
            ],
            "type": "heatmapgl"
           }
          ],
          "histogram": [
           {
            "marker": {
             "pattern": {
              "fillmode": "overlay",
              "size": 10,
              "solidity": 0.2
             }
            },
            "type": "histogram"
           }
          ],
          "histogram2d": [
           {
            "colorbar": {
             "outlinewidth": 0,
             "ticks": ""
            },
            "colorscale": [
             [
              0,
              "#0d0887"
             ],
             [
              0.1111111111111111,
              "#46039f"
             ],
             [
              0.2222222222222222,
              "#7201a8"
             ],
             [
              0.3333333333333333,
              "#9c179e"
             ],
             [
              0.4444444444444444,
              "#bd3786"
             ],
             [
              0.5555555555555556,
              "#d8576b"
             ],
             [
              0.6666666666666666,
              "#ed7953"
             ],
             [
              0.7777777777777778,
              "#fb9f3a"
             ],
             [
              0.8888888888888888,
              "#fdca26"
             ],
             [
              1,
              "#f0f921"
             ]
            ],
            "type": "histogram2d"
           }
          ],
          "histogram2dcontour": [
           {
            "colorbar": {
             "outlinewidth": 0,
             "ticks": ""
            },
            "colorscale": [
             [
              0,
              "#0d0887"
             ],
             [
              0.1111111111111111,
              "#46039f"
             ],
             [
              0.2222222222222222,
              "#7201a8"
             ],
             [
              0.3333333333333333,
              "#9c179e"
             ],
             [
              0.4444444444444444,
              "#bd3786"
             ],
             [
              0.5555555555555556,
              "#d8576b"
             ],
             [
              0.6666666666666666,
              "#ed7953"
             ],
             [
              0.7777777777777778,
              "#fb9f3a"
             ],
             [
              0.8888888888888888,
              "#fdca26"
             ],
             [
              1,
              "#f0f921"
             ]
            ],
            "type": "histogram2dcontour"
           }
          ],
          "mesh3d": [
           {
            "colorbar": {
             "outlinewidth": 0,
             "ticks": ""
            },
            "type": "mesh3d"
           }
          ],
          "parcoords": [
           {
            "line": {
             "colorbar": {
              "outlinewidth": 0,
              "ticks": ""
             }
            },
            "type": "parcoords"
           }
          ],
          "pie": [
           {
            "automargin": true,
            "type": "pie"
           }
          ],
          "scatter": [
           {
            "fillpattern": {
             "fillmode": "overlay",
             "size": 10,
             "solidity": 0.2
            },
            "type": "scatter"
           }
          ],
          "scatter3d": [
           {
            "line": {
             "colorbar": {
              "outlinewidth": 0,
              "ticks": ""
             }
            },
            "marker": {
             "colorbar": {
              "outlinewidth": 0,
              "ticks": ""
             }
            },
            "type": "scatter3d"
           }
          ],
          "scattercarpet": [
           {
            "marker": {
             "colorbar": {
              "outlinewidth": 0,
              "ticks": ""
             }
            },
            "type": "scattercarpet"
           }
          ],
          "scattergeo": [
           {
            "marker": {
             "colorbar": {
              "outlinewidth": 0,
              "ticks": ""
             }
            },
            "type": "scattergeo"
           }
          ],
          "scattergl": [
           {
            "marker": {
             "colorbar": {
              "outlinewidth": 0,
              "ticks": ""
             }
            },
            "type": "scattergl"
           }
          ],
          "scattermapbox": [
           {
            "marker": {
             "colorbar": {
              "outlinewidth": 0,
              "ticks": ""
             }
            },
            "type": "scattermapbox"
           }
          ],
          "scatterpolar": [
           {
            "marker": {
             "colorbar": {
              "outlinewidth": 0,
              "ticks": ""
             }
            },
            "type": "scatterpolar"
           }
          ],
          "scatterpolargl": [
           {
            "marker": {
             "colorbar": {
              "outlinewidth": 0,
              "ticks": ""
             }
            },
            "type": "scatterpolargl"
           }
          ],
          "scatterternary": [
           {
            "marker": {
             "colorbar": {
              "outlinewidth": 0,
              "ticks": ""
             }
            },
            "type": "scatterternary"
           }
          ],
          "surface": [
           {
            "colorbar": {
             "outlinewidth": 0,
             "ticks": ""
            },
            "colorscale": [
             [
              0,
              "#0d0887"
             ],
             [
              0.1111111111111111,
              "#46039f"
             ],
             [
              0.2222222222222222,
              "#7201a8"
             ],
             [
              0.3333333333333333,
              "#9c179e"
             ],
             [
              0.4444444444444444,
              "#bd3786"
             ],
             [
              0.5555555555555556,
              "#d8576b"
             ],
             [
              0.6666666666666666,
              "#ed7953"
             ],
             [
              0.7777777777777778,
              "#fb9f3a"
             ],
             [
              0.8888888888888888,
              "#fdca26"
             ],
             [
              1,
              "#f0f921"
             ]
            ],
            "type": "surface"
           }
          ],
          "table": [
           {
            "cells": {
             "fill": {
              "color": "#EBF0F8"
             },
             "line": {
              "color": "white"
             }
            },
            "header": {
             "fill": {
              "color": "#C8D4E3"
             },
             "line": {
              "color": "white"
             }
            },
            "type": "table"
           }
          ]
         },
         "layout": {
          "annotationdefaults": {
           "arrowcolor": "#2a3f5f",
           "arrowhead": 0,
           "arrowwidth": 1
          },
          "autotypenumbers": "strict",
          "coloraxis": {
           "colorbar": {
            "outlinewidth": 0,
            "ticks": ""
           }
          },
          "colorscale": {
           "diverging": [
            [
             0,
             "#8e0152"
            ],
            [
             0.1,
             "#c51b7d"
            ],
            [
             0.2,
             "#de77ae"
            ],
            [
             0.3,
             "#f1b6da"
            ],
            [
             0.4,
             "#fde0ef"
            ],
            [
             0.5,
             "#f7f7f7"
            ],
            [
             0.6,
             "#e6f5d0"
            ],
            [
             0.7,
             "#b8e186"
            ],
            [
             0.8,
             "#7fbc41"
            ],
            [
             0.9,
             "#4d9221"
            ],
            [
             1,
             "#276419"
            ]
           ],
           "sequential": [
            [
             0,
             "#0d0887"
            ],
            [
             0.1111111111111111,
             "#46039f"
            ],
            [
             0.2222222222222222,
             "#7201a8"
            ],
            [
             0.3333333333333333,
             "#9c179e"
            ],
            [
             0.4444444444444444,
             "#bd3786"
            ],
            [
             0.5555555555555556,
             "#d8576b"
            ],
            [
             0.6666666666666666,
             "#ed7953"
            ],
            [
             0.7777777777777778,
             "#fb9f3a"
            ],
            [
             0.8888888888888888,
             "#fdca26"
            ],
            [
             1,
             "#f0f921"
            ]
           ],
           "sequentialminus": [
            [
             0,
             "#0d0887"
            ],
            [
             0.1111111111111111,
             "#46039f"
            ],
            [
             0.2222222222222222,
             "#7201a8"
            ],
            [
             0.3333333333333333,
             "#9c179e"
            ],
            [
             0.4444444444444444,
             "#bd3786"
            ],
            [
             0.5555555555555556,
             "#d8576b"
            ],
            [
             0.6666666666666666,
             "#ed7953"
            ],
            [
             0.7777777777777778,
             "#fb9f3a"
            ],
            [
             0.8888888888888888,
             "#fdca26"
            ],
            [
             1,
             "#f0f921"
            ]
           ]
          },
          "colorway": [
           "#636efa",
           "#EF553B",
           "#00cc96",
           "#ab63fa",
           "#FFA15A",
           "#19d3f3",
           "#FF6692",
           "#B6E880",
           "#FF97FF",
           "#FECB52"
          ],
          "font": {
           "color": "#2a3f5f"
          },
          "geo": {
           "bgcolor": "white",
           "lakecolor": "white",
           "landcolor": "#E5ECF6",
           "showlakes": true,
           "showland": true,
           "subunitcolor": "white"
          },
          "hoverlabel": {
           "align": "left"
          },
          "hovermode": "closest",
          "mapbox": {
           "style": "light"
          },
          "paper_bgcolor": "white",
          "plot_bgcolor": "#E5ECF6",
          "polar": {
           "angularaxis": {
            "gridcolor": "white",
            "linecolor": "white",
            "ticks": ""
           },
           "bgcolor": "#E5ECF6",
           "radialaxis": {
            "gridcolor": "white",
            "linecolor": "white",
            "ticks": ""
           }
          },
          "scene": {
           "xaxis": {
            "backgroundcolor": "#E5ECF6",
            "gridcolor": "white",
            "gridwidth": 2,
            "linecolor": "white",
            "showbackground": true,
            "ticks": "",
            "zerolinecolor": "white"
           },
           "yaxis": {
            "backgroundcolor": "#E5ECF6",
            "gridcolor": "white",
            "gridwidth": 2,
            "linecolor": "white",
            "showbackground": true,
            "ticks": "",
            "zerolinecolor": "white"
           },
           "zaxis": {
            "backgroundcolor": "#E5ECF6",
            "gridcolor": "white",
            "gridwidth": 2,
            "linecolor": "white",
            "showbackground": true,
            "ticks": "",
            "zerolinecolor": "white"
           }
          },
          "shapedefaults": {
           "line": {
            "color": "#2a3f5f"
           }
          },
          "ternary": {
           "aaxis": {
            "gridcolor": "white",
            "linecolor": "white",
            "ticks": ""
           },
           "baxis": {
            "gridcolor": "white",
            "linecolor": "white",
            "ticks": ""
           },
           "bgcolor": "#E5ECF6",
           "caxis": {
            "gridcolor": "white",
            "linecolor": "white",
            "ticks": ""
           }
          },
          "title": {
           "x": 0.05
          },
          "xaxis": {
           "automargin": true,
           "gridcolor": "white",
           "linecolor": "white",
           "ticks": "",
           "title": {
            "standoff": 15
           },
           "zerolinecolor": "white",
           "zerolinewidth": 2
          },
          "yaxis": {
           "automargin": true,
           "gridcolor": "white",
           "linecolor": "white",
           "ticks": "",
           "title": {
            "standoff": 15
           },
           "zerolinecolor": "white",
           "zerolinewidth": 2
          }
         }
        },
        "title": {
         "text": "Output bitstring occurrences, per noise level p"
        },
        "updatemenus": [
         {
          "buttons": [
           {
            "args": [
             {
              "visible": [
               true,
               false,
               false,
               false,
               false,
               false
              ]
             }
            ],
            "label": "p= 0",
            "method": "update"
           },
           {
            "args": [
             {
              "visible": [
               false,
               true,
               false,
               false,
               false,
               false
              ]
             }
            ],
            "label": "p= 0.1",
            "method": "update"
           },
           {
            "args": [
             {
              "visible": [
               false,
               false,
               true,
               false,
               false,
               false
              ]
             }
            ],
            "label": "p= 0.15",
            "method": "update"
           },
           {
            "args": [
             {
              "visible": [
               false,
               false,
               false,
               true,
               false,
               false
              ]
             }
            ],
            "label": "p= 0.2",
            "method": "update"
           },
           {
            "args": [
             {
              "visible": [
               false,
               false,
               false,
               false,
               true,
               false
              ]
             }
            ],
            "label": "p= 0.5",
            "method": "update"
           },
           {
            "args": [
             {
              "visible": [
               false,
               false,
               false,
               false,
               false,
               true
              ]
             }
            ],
            "label": "p= 1",
            "method": "update"
           },
           {
            "args": [
             {
              "visible": [
               true,
               true,
               true,
               true,
               true,
               true
              ]
             }
            ],
            "label": "Show All",
            "method": "update"
           }
          ],
          "direction": "right",
          "type": "buttons",
          "x": 0.5,
          "xanchor": "center",
          "y": 1.15
         }
        ]
       }
      }
     },
     "metadata": {},
     "output_type": "display_data"
    }
   ],
   "source": [
    "import plotly.graph_objects as go\n",
    "from matplotlib.colors import to_hex\n",
    "\n",
    "\n",
    "# Function to get color based on p value\n",
    "def get_heatmap_color(p, colormap_name=\"coolwarm\", vmin=0.1, vmax=1):\n",
    "    colormap = cm.get_cmap(colormap_name)\n",
    "    norm = LogNorm(vmin=vmin, vmax=vmax)  # Normalize p within [vmin, vmax]\n",
    "    return to_hex(colormap(norm(p)))  # Convert to hex color for Plotly\n",
    "\n",
    "\n",
    "# Initialize the figure\n",
    "fig = go.Figure()\n",
    "\n",
    "# Store the p values in a list to access them by index in buttons\n",
    "p_values = list(all_histograms.keys())\n",
    "\n",
    "# Add histograms for different 'p' values\n",
    "for p, histogram in all_histograms.items():\n",
    "    frequencies = [histogram.get(outcome, 0) for outcome in all_outcomes]\n",
    "\n",
    "    # Get colors for each bar based on the current p value\n",
    "    colors = [get_heatmap_color(p + 0.1) for _ in all_outcomes]\n",
    "\n",
    "    fig.add_trace(\n",
    "        go.Bar(\n",
    "            x=all_outcomes,\n",
    "            y=frequencies,\n",
    "            name=f\"p={p}\",  # Legend label\n",
    "            marker=dict(color=colors),  # Apply custom colors\n",
    "            visible=(p == 0),  # Only p=0 is visible by default\n",
    "        )\n",
    "    )\n",
    "\n",
    "fig.update_layout(\n",
    "    title=\"Output bitstring occurrences, per noise level p\",\n",
    "    updatemenus=[\n",
    "        {\n",
    "            \"type\": \"buttons\",\n",
    "            \"direction\": \"right\",\n",
    "            \"x\": 0.5,  # Horizontal position of the buttons\n",
    "            \"y\": 1.15,  # Vertical position above the chart\n",
    "            \"xanchor\": \"center\",  # Anchor buttons horizontally center\n",
    "            \"buttons\": [\n",
    "                {\n",
    "                    \"label\": f\"p= {key}\",\n",
    "                    \"method\": \"update\",\n",
    "                    \"args\": [{\"visible\": [i == idx for i in range(len(all_histograms))]}],\n",
    "                }\n",
    "                for idx, key in enumerate(all_histograms)\n",
    "            ]\n",
    "            + [{\"label\": \"Show All\", \"method\": \"update\", \"args\": [{\"visible\": [True] * len(all_histograms)}]}],\n",
    "        }\n",
    "    ],\n",
    ")\n",
    "\n",
    "# Set initial visibility (show only the first chart by default)\n",
    "initial_visibility = [True] + [False] * (len(all_histograms) - 1)\n",
    "fig.update_traces(visible=initial_visibility[0])\n",
    "\n",
    "fig.show()"
   ]
  },
  {
   "cell_type": "markdown",
   "metadata": {},
   "source": [
    "## Verification: do we accept these outcomes ?\n",
    "### Displaying the proportion of failed traps"
   ]
  },
  {
   "cell_type": "code",
   "execution_count": 7,
   "metadata": {},
   "outputs": [
    {
     "name": "stderr",
     "output_type": "stream",
     "text": [
      "/var/folders/n5/hv7xz3zn675bw8ckw4q5ll3cmp3czq/T/ipykernel_28784/4244744428.py:8: MatplotlibDeprecationWarning:\n",
      "\n",
      "The get_cmap function was deprecated in Matplotlib 3.7 and will be removed in 3.11. Use ``matplotlib.colormaps[name]`` or ``matplotlib.colormaps.get_cmap()`` or ``pyplot.get_cmap()`` instead.\n",
      "\n"
     ]
    },
    {
     "data": {
      "application/vnd.plotly.v1+json": {
       "config": {
        "plotlyServerURL": "https://plot.ly"
       },
       "data": [
        {
         "marker": {
          "color": [
           "#3b4cc0",
           "#3b4cc0",
           "#3b4cc0",
           "#3b4cc0"
          ]
         },
         "name": "p=0",
         "type": "bar",
         "visible": true,
         "x": [
          "00",
          "01",
          "10",
          "11"
         ],
         "xaxis": "x",
         "y": [
          50,
          0,
          0,
          0
         ],
         "yaxis": "y"
        },
        {
         "domain": {
          "x": [
           0.73,
           1
          ],
          "y": [
           0,
           1
          ]
         },
         "labels": [
          "Failed traps",
          "Passed traps"
         ],
         "marker": {
          "colors": [
           "#EF553B",
           "#a5ff33"
          ]
         },
         "name": "p=0",
         "type": "pie",
         "values": [
          0,
          1
         ],
         "visible": true
        },
        {
         "marker": {
          "color": [
           "#9fbfff",
           "#9fbfff",
           "#9fbfff",
           "#9fbfff"
          ]
         },
         "name": "p=0.1",
         "type": "bar",
         "visible": false,
         "x": [
          "00",
          "01",
          "10",
          "11"
         ],
         "xaxis": "x",
         "y": [
          40,
          6,
          3,
          1
         ],
         "yaxis": "y"
        },
        {
         "domain": {
          "x": [
           0.73,
           1
          ],
          "y": [
           0,
           1
          ]
         },
         "labels": [
          "Failed traps",
          "Passed traps"
         ],
         "marker": {
          "colors": [
           "#EF553B",
           "#a5ff33"
          ]
         },
         "name": "p=0.1",
         "type": "pie",
         "values": [
          0.28,
          0.72
         ],
         "visible": false
        },
        {
         "marker": {
          "color": [
           "#bfd3f6",
           "#bfd3f6",
           "#bfd3f6",
           "#bfd3f6"
          ]
         },
         "name": "p=0.15",
         "type": "bar",
         "visible": false,
         "x": [
          "00",
          "01",
          "10",
          "11"
         ],
         "xaxis": "x",
         "y": [
          27,
          10,
          7,
          6
         ],
         "yaxis": "y"
        },
        {
         "domain": {
          "x": [
           0.73,
           1
          ],
          "y": [
           0,
           1
          ]
         },
         "labels": [
          "Failed traps",
          "Passed traps"
         ],
         "marker": {
          "colors": [
           "#EF553B",
           "#a5ff33"
          ]
         },
         "name": "p=0.15",
         "type": "pie",
         "values": [
          0.34,
          0.6599999999999999
         ],
         "visible": false
        },
        {
         "marker": {
          "color": [
           "#d7dce3",
           "#d7dce3",
           "#d7dce3",
           "#d7dce3"
          ]
         },
         "name": "p=0.2",
         "type": "bar",
         "visible": false,
         "x": [
          "00",
          "01",
          "10",
          "11"
         ],
         "xaxis": "x",
         "y": [
          24,
          10,
          10,
          6
         ],
         "yaxis": "y"
        },
        {
         "domain": {
          "x": [
           0.73,
           1
          ],
          "y": [
           0,
           1
          ]
         },
         "labels": [
          "Failed traps",
          "Passed traps"
         ],
         "marker": {
          "colors": [
           "#EF553B",
           "#a5ff33"
          ]
         },
         "name": "p=0.2",
         "type": "pie",
         "values": [
          0.58,
          0.42
         ],
         "visible": false
        },
        {
         "marker": {
          "color": [
           "#f18d6f",
           "#f18d6f",
           "#f18d6f",
           "#f18d6f"
          ]
         },
         "name": "p=0.5",
         "type": "bar",
         "visible": false,
         "x": [
          "00",
          "01",
          "10",
          "11"
         ],
         "xaxis": "x",
         "y": [
          12,
          12,
          14,
          12
         ],
         "yaxis": "y"
        },
        {
         "domain": {
          "x": [
           0.73,
           1
          ],
          "y": [
           0,
           1
          ]
         },
         "labels": [
          "Failed traps",
          "Passed traps"
         ],
         "marker": {
          "colors": [
           "#EF553B",
           "#a5ff33"
          ]
         },
         "name": "p=0.5",
         "type": "pie",
         "values": [
          0.78,
          0.21999999999999997
         ],
         "visible": false
        },
        {
         "marker": {
          "color": [
           "#b40426",
           "#b40426",
           "#b40426",
           "#b40426"
          ]
         },
         "name": "p=1",
         "type": "bar",
         "visible": false,
         "x": [
          "00",
          "01",
          "10",
          "11"
         ],
         "xaxis": "x",
         "y": [
          19,
          11,
          13,
          7
         ],
         "yaxis": "y"
        },
        {
         "domain": {
          "x": [
           0.73,
           1
          ],
          "y": [
           0,
           1
          ]
         },
         "labels": [
          "Failed traps",
          "Passed traps"
         ],
         "marker": {
          "colors": [
           "#EF553B",
           "#a5ff33"
          ]
         },
         "name": "p=1",
         "type": "pie",
         "values": [
          0.84,
          0.16000000000000003
         ],
         "visible": false
        }
       ],
       "layout": {
        "annotations": [
         {
          "font": {
           "size": 16
          },
          "showarrow": false,
          "text": "Output Bitstring Occurrences",
          "x": 0.315,
          "xanchor": "center",
          "xref": "paper",
          "y": 1,
          "yanchor": "bottom",
          "yref": "paper"
         },
         {
          "font": {
           "size": 16
          },
          "showarrow": false,
          "text": "Failed/Passed Traps",
          "x": 0.865,
          "xanchor": "center",
          "xref": "paper",
          "y": 1,
          "yanchor": "bottom",
          "yref": "paper"
         }
        ],
        "template": {
         "data": {
          "bar": [
           {
            "error_x": {
             "color": "#2a3f5f"
            },
            "error_y": {
             "color": "#2a3f5f"
            },
            "marker": {
             "line": {
              "color": "#E5ECF6",
              "width": 0.5
             },
             "pattern": {
              "fillmode": "overlay",
              "size": 10,
              "solidity": 0.2
             }
            },
            "type": "bar"
           }
          ],
          "barpolar": [
           {
            "marker": {
             "line": {
              "color": "#E5ECF6",
              "width": 0.5
             },
             "pattern": {
              "fillmode": "overlay",
              "size": 10,
              "solidity": 0.2
             }
            },
            "type": "barpolar"
           }
          ],
          "carpet": [
           {
            "aaxis": {
             "endlinecolor": "#2a3f5f",
             "gridcolor": "white",
             "linecolor": "white",
             "minorgridcolor": "white",
             "startlinecolor": "#2a3f5f"
            },
            "baxis": {
             "endlinecolor": "#2a3f5f",
             "gridcolor": "white",
             "linecolor": "white",
             "minorgridcolor": "white",
             "startlinecolor": "#2a3f5f"
            },
            "type": "carpet"
           }
          ],
          "choropleth": [
           {
            "colorbar": {
             "outlinewidth": 0,
             "ticks": ""
            },
            "type": "choropleth"
           }
          ],
          "contour": [
           {
            "colorbar": {
             "outlinewidth": 0,
             "ticks": ""
            },
            "colorscale": [
             [
              0,
              "#0d0887"
             ],
             [
              0.1111111111111111,
              "#46039f"
             ],
             [
              0.2222222222222222,
              "#7201a8"
             ],
             [
              0.3333333333333333,
              "#9c179e"
             ],
             [
              0.4444444444444444,
              "#bd3786"
             ],
             [
              0.5555555555555556,
              "#d8576b"
             ],
             [
              0.6666666666666666,
              "#ed7953"
             ],
             [
              0.7777777777777778,
              "#fb9f3a"
             ],
             [
              0.8888888888888888,
              "#fdca26"
             ],
             [
              1,
              "#f0f921"
             ]
            ],
            "type": "contour"
           }
          ],
          "contourcarpet": [
           {
            "colorbar": {
             "outlinewidth": 0,
             "ticks": ""
            },
            "type": "contourcarpet"
           }
          ],
          "heatmap": [
           {
            "colorbar": {
             "outlinewidth": 0,
             "ticks": ""
            },
            "colorscale": [
             [
              0,
              "#0d0887"
             ],
             [
              0.1111111111111111,
              "#46039f"
             ],
             [
              0.2222222222222222,
              "#7201a8"
             ],
             [
              0.3333333333333333,
              "#9c179e"
             ],
             [
              0.4444444444444444,
              "#bd3786"
             ],
             [
              0.5555555555555556,
              "#d8576b"
             ],
             [
              0.6666666666666666,
              "#ed7953"
             ],
             [
              0.7777777777777778,
              "#fb9f3a"
             ],
             [
              0.8888888888888888,
              "#fdca26"
             ],
             [
              1,
              "#f0f921"
             ]
            ],
            "type": "heatmap"
           }
          ],
          "heatmapgl": [
           {
            "colorbar": {
             "outlinewidth": 0,
             "ticks": ""
            },
            "colorscale": [
             [
              0,
              "#0d0887"
             ],
             [
              0.1111111111111111,
              "#46039f"
             ],
             [
              0.2222222222222222,
              "#7201a8"
             ],
             [
              0.3333333333333333,
              "#9c179e"
             ],
             [
              0.4444444444444444,
              "#bd3786"
             ],
             [
              0.5555555555555556,
              "#d8576b"
             ],
             [
              0.6666666666666666,
              "#ed7953"
             ],
             [
              0.7777777777777778,
              "#fb9f3a"
             ],
             [
              0.8888888888888888,
              "#fdca26"
             ],
             [
              1,
              "#f0f921"
             ]
            ],
            "type": "heatmapgl"
           }
          ],
          "histogram": [
           {
            "marker": {
             "pattern": {
              "fillmode": "overlay",
              "size": 10,
              "solidity": 0.2
             }
            },
            "type": "histogram"
           }
          ],
          "histogram2d": [
           {
            "colorbar": {
             "outlinewidth": 0,
             "ticks": ""
            },
            "colorscale": [
             [
              0,
              "#0d0887"
             ],
             [
              0.1111111111111111,
              "#46039f"
             ],
             [
              0.2222222222222222,
              "#7201a8"
             ],
             [
              0.3333333333333333,
              "#9c179e"
             ],
             [
              0.4444444444444444,
              "#bd3786"
             ],
             [
              0.5555555555555556,
              "#d8576b"
             ],
             [
              0.6666666666666666,
              "#ed7953"
             ],
             [
              0.7777777777777778,
              "#fb9f3a"
             ],
             [
              0.8888888888888888,
              "#fdca26"
             ],
             [
              1,
              "#f0f921"
             ]
            ],
            "type": "histogram2d"
           }
          ],
          "histogram2dcontour": [
           {
            "colorbar": {
             "outlinewidth": 0,
             "ticks": ""
            },
            "colorscale": [
             [
              0,
              "#0d0887"
             ],
             [
              0.1111111111111111,
              "#46039f"
             ],
             [
              0.2222222222222222,
              "#7201a8"
             ],
             [
              0.3333333333333333,
              "#9c179e"
             ],
             [
              0.4444444444444444,
              "#bd3786"
             ],
             [
              0.5555555555555556,
              "#d8576b"
             ],
             [
              0.6666666666666666,
              "#ed7953"
             ],
             [
              0.7777777777777778,
              "#fb9f3a"
             ],
             [
              0.8888888888888888,
              "#fdca26"
             ],
             [
              1,
              "#f0f921"
             ]
            ],
            "type": "histogram2dcontour"
           }
          ],
          "mesh3d": [
           {
            "colorbar": {
             "outlinewidth": 0,
             "ticks": ""
            },
            "type": "mesh3d"
           }
          ],
          "parcoords": [
           {
            "line": {
             "colorbar": {
              "outlinewidth": 0,
              "ticks": ""
             }
            },
            "type": "parcoords"
           }
          ],
          "pie": [
           {
            "automargin": true,
            "type": "pie"
           }
          ],
          "scatter": [
           {
            "fillpattern": {
             "fillmode": "overlay",
             "size": 10,
             "solidity": 0.2
            },
            "type": "scatter"
           }
          ],
          "scatter3d": [
           {
            "line": {
             "colorbar": {
              "outlinewidth": 0,
              "ticks": ""
             }
            },
            "marker": {
             "colorbar": {
              "outlinewidth": 0,
              "ticks": ""
             }
            },
            "type": "scatter3d"
           }
          ],
          "scattercarpet": [
           {
            "marker": {
             "colorbar": {
              "outlinewidth": 0,
              "ticks": ""
             }
            },
            "type": "scattercarpet"
           }
          ],
          "scattergeo": [
           {
            "marker": {
             "colorbar": {
              "outlinewidth": 0,
              "ticks": ""
             }
            },
            "type": "scattergeo"
           }
          ],
          "scattergl": [
           {
            "marker": {
             "colorbar": {
              "outlinewidth": 0,
              "ticks": ""
             }
            },
            "type": "scattergl"
           }
          ],
          "scattermapbox": [
           {
            "marker": {
             "colorbar": {
              "outlinewidth": 0,
              "ticks": ""
             }
            },
            "type": "scattermapbox"
           }
          ],
          "scatterpolar": [
           {
            "marker": {
             "colorbar": {
              "outlinewidth": 0,
              "ticks": ""
             }
            },
            "type": "scatterpolar"
           }
          ],
          "scatterpolargl": [
           {
            "marker": {
             "colorbar": {
              "outlinewidth": 0,
              "ticks": ""
             }
            },
            "type": "scatterpolargl"
           }
          ],
          "scatterternary": [
           {
            "marker": {
             "colorbar": {
              "outlinewidth": 0,
              "ticks": ""
             }
            },
            "type": "scatterternary"
           }
          ],
          "surface": [
           {
            "colorbar": {
             "outlinewidth": 0,
             "ticks": ""
            },
            "colorscale": [
             [
              0,
              "#0d0887"
             ],
             [
              0.1111111111111111,
              "#46039f"
             ],
             [
              0.2222222222222222,
              "#7201a8"
             ],
             [
              0.3333333333333333,
              "#9c179e"
             ],
             [
              0.4444444444444444,
              "#bd3786"
             ],
             [
              0.5555555555555556,
              "#d8576b"
             ],
             [
              0.6666666666666666,
              "#ed7953"
             ],
             [
              0.7777777777777778,
              "#fb9f3a"
             ],
             [
              0.8888888888888888,
              "#fdca26"
             ],
             [
              1,
              "#f0f921"
             ]
            ],
            "type": "surface"
           }
          ],
          "table": [
           {
            "cells": {
             "fill": {
              "color": "#EBF0F8"
             },
             "line": {
              "color": "white"
             }
            },
            "header": {
             "fill": {
              "color": "#C8D4E3"
             },
             "line": {
              "color": "white"
             }
            },
            "type": "table"
           }
          ]
         },
         "layout": {
          "annotationdefaults": {
           "arrowcolor": "#2a3f5f",
           "arrowhead": 0,
           "arrowwidth": 1
          },
          "autotypenumbers": "strict",
          "coloraxis": {
           "colorbar": {
            "outlinewidth": 0,
            "ticks": ""
           }
          },
          "colorscale": {
           "diverging": [
            [
             0,
             "#8e0152"
            ],
            [
             0.1,
             "#c51b7d"
            ],
            [
             0.2,
             "#de77ae"
            ],
            [
             0.3,
             "#f1b6da"
            ],
            [
             0.4,
             "#fde0ef"
            ],
            [
             0.5,
             "#f7f7f7"
            ],
            [
             0.6,
             "#e6f5d0"
            ],
            [
             0.7,
             "#b8e186"
            ],
            [
             0.8,
             "#7fbc41"
            ],
            [
             0.9,
             "#4d9221"
            ],
            [
             1,
             "#276419"
            ]
           ],
           "sequential": [
            [
             0,
             "#0d0887"
            ],
            [
             0.1111111111111111,
             "#46039f"
            ],
            [
             0.2222222222222222,
             "#7201a8"
            ],
            [
             0.3333333333333333,
             "#9c179e"
            ],
            [
             0.4444444444444444,
             "#bd3786"
            ],
            [
             0.5555555555555556,
             "#d8576b"
            ],
            [
             0.6666666666666666,
             "#ed7953"
            ],
            [
             0.7777777777777778,
             "#fb9f3a"
            ],
            [
             0.8888888888888888,
             "#fdca26"
            ],
            [
             1,
             "#f0f921"
            ]
           ],
           "sequentialminus": [
            [
             0,
             "#0d0887"
            ],
            [
             0.1111111111111111,
             "#46039f"
            ],
            [
             0.2222222222222222,
             "#7201a8"
            ],
            [
             0.3333333333333333,
             "#9c179e"
            ],
            [
             0.4444444444444444,
             "#bd3786"
            ],
            [
             0.5555555555555556,
             "#d8576b"
            ],
            [
             0.6666666666666666,
             "#ed7953"
            ],
            [
             0.7777777777777778,
             "#fb9f3a"
            ],
            [
             0.8888888888888888,
             "#fdca26"
            ],
            [
             1,
             "#f0f921"
            ]
           ]
          },
          "colorway": [
           "#636efa",
           "#EF553B",
           "#00cc96",
           "#ab63fa",
           "#FFA15A",
           "#19d3f3",
           "#FF6692",
           "#B6E880",
           "#FF97FF",
           "#FECB52"
          ],
          "font": {
           "color": "#2a3f5f"
          },
          "geo": {
           "bgcolor": "white",
           "lakecolor": "white",
           "landcolor": "#E5ECF6",
           "showlakes": true,
           "showland": true,
           "subunitcolor": "white"
          },
          "hoverlabel": {
           "align": "left"
          },
          "hovermode": "closest",
          "mapbox": {
           "style": "light"
          },
          "paper_bgcolor": "white",
          "plot_bgcolor": "#E5ECF6",
          "polar": {
           "angularaxis": {
            "gridcolor": "white",
            "linecolor": "white",
            "ticks": ""
           },
           "bgcolor": "#E5ECF6",
           "radialaxis": {
            "gridcolor": "white",
            "linecolor": "white",
            "ticks": ""
           }
          },
          "scene": {
           "xaxis": {
            "backgroundcolor": "#E5ECF6",
            "gridcolor": "white",
            "gridwidth": 2,
            "linecolor": "white",
            "showbackground": true,
            "ticks": "",
            "zerolinecolor": "white"
           },
           "yaxis": {
            "backgroundcolor": "#E5ECF6",
            "gridcolor": "white",
            "gridwidth": 2,
            "linecolor": "white",
            "showbackground": true,
            "ticks": "",
            "zerolinecolor": "white"
           },
           "zaxis": {
            "backgroundcolor": "#E5ECF6",
            "gridcolor": "white",
            "gridwidth": 2,
            "linecolor": "white",
            "showbackground": true,
            "ticks": "",
            "zerolinecolor": "white"
           }
          },
          "shapedefaults": {
           "line": {
            "color": "#2a3f5f"
           }
          },
          "ternary": {
           "aaxis": {
            "gridcolor": "white",
            "linecolor": "white",
            "ticks": ""
           },
           "baxis": {
            "gridcolor": "white",
            "linecolor": "white",
            "ticks": ""
           },
           "bgcolor": "#E5ECF6",
           "caxis": {
            "gridcolor": "white",
            "linecolor": "white",
            "ticks": ""
           }
          },
          "title": {
           "x": 0.05
          },
          "xaxis": {
           "automargin": true,
           "gridcolor": "white",
           "linecolor": "white",
           "ticks": "",
           "title": {
            "standoff": 15
           },
           "zerolinecolor": "white",
           "zerolinewidth": 2
          },
          "yaxis": {
           "automargin": true,
           "gridcolor": "white",
           "linecolor": "white",
           "ticks": "",
           "title": {
            "standoff": 15
           },
           "zerolinecolor": "white",
           "zerolinewidth": 2
          }
         }
        },
        "title": {
         "text": "Output bitstring occurrences and trap results per noise level p"
        },
        "updatemenus": [
         {
          "buttons": [
           {
            "args": [
             {
              "visible": [
               true,
               true,
               false,
               false,
               false,
               false,
               false,
               false,
               false,
               false,
               false,
               false
              ]
             }
            ],
            "label": "p= 0",
            "method": "update"
           },
           {
            "args": [
             {
              "visible": [
               false,
               false,
               true,
               true,
               false,
               false,
               false,
               false,
               false,
               false,
               false,
               false
              ]
             }
            ],
            "label": "p= 0.1",
            "method": "update"
           },
           {
            "args": [
             {
              "visible": [
               false,
               false,
               false,
               false,
               true,
               true,
               false,
               false,
               false,
               false,
               false,
               false
              ]
             }
            ],
            "label": "p= 0.15",
            "method": "update"
           },
           {
            "args": [
             {
              "visible": [
               false,
               false,
               false,
               false,
               false,
               false,
               true,
               true,
               false,
               false,
               false,
               false
              ]
             }
            ],
            "label": "p= 0.2",
            "method": "update"
           },
           {
            "args": [
             {
              "visible": [
               false,
               false,
               false,
               false,
               false,
               false,
               false,
               false,
               true,
               true,
               false,
               false
              ]
             }
            ],
            "label": "p= 0.5",
            "method": "update"
           },
           {
            "args": [
             {
              "visible": [
               false,
               false,
               false,
               false,
               false,
               false,
               false,
               false,
               false,
               false,
               true,
               true
              ]
             }
            ],
            "label": "p= 1",
            "method": "update"
           },
           {
            "args": [
             {
              "visible": [
               true,
               true,
               true,
               true,
               true,
               true,
               true,
               true,
               true,
               true,
               true,
               true
              ]
             }
            ],
            "label": "Show All",
            "method": "update"
           }
          ],
          "direction": "right",
          "type": "buttons",
          "x": 0.5,
          "xanchor": "center",
          "y": 1.15
         }
        ],
        "xaxis": {
         "anchor": "y",
         "domain": [
          0,
          0.63
         ]
        },
        "yaxis": {
         "anchor": "x",
         "domain": [
          0,
          1
         ]
        }
       }
      }
     },
     "metadata": {},
     "output_type": "display_data"
    }
   ],
   "source": [
    "import plotly.graph_objects as go\n",
    "from plotly.subplots import make_subplots\n",
    "\n",
    "\n",
    "# Function to get color based on p value\n",
    "def get_heatmap_color(p, colormap_name=\"coolwarm\", vmin=0.1, vmax=1):\n",
    "    colormap = cm.get_cmap(colormap_name)\n",
    "    norm = LogNorm(vmin=vmin, vmax=vmax)  # Normalize p within [vmin, vmax]\n",
    "    return to_hex(colormap(norm(p)))  # Convert to hex color for Plotly\n",
    "\n",
    "\n",
    "# Initialize the figure with subplots\n",
    "fig = make_subplots(\n",
    "    rows=1,\n",
    "    cols=2,\n",
    "    column_widths=[0.7, 0.3],\n",
    "    subplot_titles=(\"Output Bitstring Occurrences\", \"Failed/Passed Traps\"),\n",
    "    specs=[[{\"type\": \"bar\"}, {\"type\": \"pie\"}]],\n",
    ")\n",
    "\n",
    "# Store the p values in a list to access them by index in buttons\n",
    "p_values = list(all_histograms.keys())\n",
    "\n",
    "# Add bar charts and pie charts for different 'p' values\n",
    "colors = [\"#EF553B\", \"#a5ff33\"]  # Red for 'Failed traps', Green for 'Passed traps'\n",
    "\n",
    "for _idx, (p, histogram) in enumerate(all_histograms.items()):\n",
    "    frequencies = [histogram.get(outcome, 0) for outcome in all_outcomes]\n",
    "\n",
    "    # Get colors for each bar based on the current p value\n",
    "    bar_colors = [get_heatmap_color(p + 0.1) for _ in all_outcomes]\n",
    "\n",
    "    # Bar chart\n",
    "    fig.add_trace(\n",
    "        go.Bar(\n",
    "            x=all_outcomes,\n",
    "            y=frequencies,\n",
    "            name=f\"p={p}\",  # Legend label\n",
    "            marker=dict(color=bar_colors),  # Apply custom colors\n",
    "            visible=(p == p_values[0]),  # Only the first p is visible by default\n",
    "        ),\n",
    "        row=1,\n",
    "        col=1,\n",
    "    )\n",
    "\n",
    "    # Pie chart\n",
    "    failed_value = failed_traps_histograms.get(p, 0)  # Fetch failed traps for current p\n",
    "    fig.add_trace(\n",
    "        go.Pie(\n",
    "            labels=[\"Failed traps\", \"Passed traps\"],\n",
    "            values=[failed_value, 1 - failed_value],\n",
    "            marker=dict(colors=colors),\n",
    "            name=f\"p={p}\",\n",
    "            visible=(p == p_values[0]),\n",
    "        ),\n",
    "        row=1,\n",
    "        col=2,\n",
    "    )\n",
    "\n",
    "# Update layout with buttons\n",
    "fig.update_layout(\n",
    "    title=\"Output bitstring occurrences and trap results per noise level p\",\n",
    "    updatemenus=[\n",
    "        {\n",
    "            \"type\": \"buttons\",\n",
    "            \"direction\": \"right\",\n",
    "            \"x\": 0.5,\n",
    "            \"y\": 1.15,\n",
    "            \"xanchor\": \"center\",\n",
    "            \"buttons\": [\n",
    "                {\n",
    "                    \"label\": f\"p= {key}\",\n",
    "                    \"method\": \"update\",\n",
    "                    \"args\": [{\"visible\": [(i // 2 == idx) for i in range(2 * len(all_histograms))]}],\n",
    "                }\n",
    "                for idx, key in enumerate(all_histograms)\n",
    "            ]\n",
    "            + [{\"label\": \"Show All\", \"method\": \"update\", \"args\": [{\"visible\": [True] * (2 * len(all_histograms))}]}],\n",
    "        }\n",
    "    ],\n",
    ")\n",
    "\n",
    "fig.show()"
   ]
  },
  {
   "cell_type": "code",
   "execution_count": 8,
   "metadata": {},
   "outputs": [
    {
     "name": "stderr",
     "output_type": "stream",
     "text": [
      "/var/folders/n5/hv7xz3zn675bw8ckw4q5ll3cmp3czq/T/ipykernel_28784/2457274934.py:8: MatplotlibDeprecationWarning:\n",
      "\n",
      "The get_cmap function was deprecated in Matplotlib 3.7 and will be removed in 3.11. Use ``matplotlib.colormaps[name]`` or ``matplotlib.colormaps.get_cmap()`` or ``pyplot.get_cmap()`` instead.\n",
      "\n"
     ]
    },
    {
     "data": {
      "application/vnd.plotly.v1+json": {
       "config": {
        "plotlyServerURL": "https://plot.ly"
       },
       "data": [
        {
         "marker": {
          "color": [
           "#3b4cc0",
           "#3b4cc0",
           "#3b4cc0",
           "#3b4cc0"
          ]
         },
         "name": "Bitstrings (p=0)",
         "type": "bar",
         "x": [
          "00",
          "01",
          "10",
          "11"
         ],
         "xaxis": "x",
         "y": [
          50,
          0,
          0,
          0
         ],
         "yaxis": "y"
        },
        {
         "domain": {
          "x": [
           0.716,
           0.98
          ],
          "y": [
           0.875,
           1
          ]
         },
         "labels": [
          "Failed traps",
          "Passed traps"
         ],
         "marker": {
          "colors": [
           "#EF553B",
           "#a5ff33"
          ]
         },
         "name": "Traps (p=0)",
         "type": "pie",
         "values": [
          0,
          1
         ]
        },
        {
         "marker": {
          "color": [
           "#9fbfff",
           "#9fbfff",
           "#9fbfff",
           "#9fbfff"
          ]
         },
         "name": "Bitstrings (p=0.1)",
         "type": "bar",
         "x": [
          "00",
          "01",
          "10",
          "11"
         ],
         "xaxis": "x2",
         "y": [
          40,
          6,
          3,
          1
         ],
         "yaxis": "y2"
        },
        {
         "domain": {
          "x": [
           0.716,
           0.98
          ],
          "y": [
           0.7,
           0.825
          ]
         },
         "labels": [
          "Failed traps",
          "Passed traps"
         ],
         "marker": {
          "colors": [
           "#EF553B",
           "#a5ff33"
          ]
         },
         "name": "Traps (p=0.1)",
         "type": "pie",
         "values": [
          0.28,
          0.72
         ]
        },
        {
         "marker": {
          "color": [
           "#bfd3f6",
           "#bfd3f6",
           "#bfd3f6",
           "#bfd3f6"
          ]
         },
         "name": "Bitstrings (p=0.15)",
         "type": "bar",
         "x": [
          "00",
          "01",
          "10",
          "11"
         ],
         "xaxis": "x3",
         "y": [
          27,
          10,
          7,
          6
         ],
         "yaxis": "y3"
        },
        {
         "domain": {
          "x": [
           0.716,
           0.98
          ],
          "y": [
           0.525,
           0.65
          ]
         },
         "labels": [
          "Failed traps",
          "Passed traps"
         ],
         "marker": {
          "colors": [
           "#EF553B",
           "#a5ff33"
          ]
         },
         "name": "Traps (p=0.15)",
         "type": "pie",
         "values": [
          0.34,
          0.6599999999999999
         ]
        },
        {
         "marker": {
          "color": [
           "#d7dce3",
           "#d7dce3",
           "#d7dce3",
           "#d7dce3"
          ]
         },
         "name": "Bitstrings (p=0.2)",
         "type": "bar",
         "x": [
          "00",
          "01",
          "10",
          "11"
         ],
         "xaxis": "x4",
         "y": [
          24,
          10,
          10,
          6
         ],
         "yaxis": "y4"
        },
        {
         "domain": {
          "x": [
           0.716,
           0.98
          ],
          "y": [
           0.35,
           0.475
          ]
         },
         "labels": [
          "Failed traps",
          "Passed traps"
         ],
         "marker": {
          "colors": [
           "#EF553B",
           "#a5ff33"
          ]
         },
         "name": "Traps (p=0.2)",
         "type": "pie",
         "values": [
          0.58,
          0.42
         ]
        },
        {
         "marker": {
          "color": [
           "#f18d6f",
           "#f18d6f",
           "#f18d6f",
           "#f18d6f"
          ]
         },
         "name": "Bitstrings (p=0.5)",
         "type": "bar",
         "x": [
          "00",
          "01",
          "10",
          "11"
         ],
         "xaxis": "x5",
         "y": [
          12,
          12,
          14,
          12
         ],
         "yaxis": "y5"
        },
        {
         "domain": {
          "x": [
           0.716,
           0.98
          ],
          "y": [
           0.175,
           0.3
          ]
         },
         "labels": [
          "Failed traps",
          "Passed traps"
         ],
         "marker": {
          "colors": [
           "#EF553B",
           "#a5ff33"
          ]
         },
         "name": "Traps (p=0.5)",
         "type": "pie",
         "values": [
          0.78,
          0.21999999999999997
         ]
        },
        {
         "marker": {
          "color": [
           "#b40426",
           "#b40426",
           "#b40426",
           "#b40426"
          ]
         },
         "name": "Bitstrings (p=1)",
         "type": "bar",
         "x": [
          "00",
          "01",
          "10",
          "11"
         ],
         "xaxis": "x6",
         "y": [
          19,
          11,
          13,
          7
         ],
         "yaxis": "y6"
        },
        {
         "domain": {
          "x": [
           0.716,
           0.98
          ],
          "y": [
           0,
           0.125
          ]
         },
         "labels": [
          "Failed traps",
          "Passed traps"
         ],
         "marker": {
          "colors": [
           "#EF553B",
           "#a5ff33"
          ]
         },
         "name": "Traps (p=1)",
         "type": "pie",
         "values": [
          0.84,
          0.16000000000000003
         ]
        }
       ],
       "layout": {
        "annotations": [
         {
          "font": {
           "size": 16
          },
          "showarrow": false,
          "text": "Output Bitstring Occurrences",
          "x": 0.308,
          "xanchor": "center",
          "xref": "paper",
          "y": 1,
          "yanchor": "bottom",
          "yref": "paper"
         },
         {
          "font": {
           "size": 16
          },
          "showarrow": false,
          "text": "Failed/Passed Traps",
          "x": 0.848,
          "xanchor": "center",
          "xref": "paper",
          "y": 1,
          "yanchor": "bottom",
          "yref": "paper"
         },
         {
          "font": {
           "size": 16
          },
          "showarrow": false,
          "text": "Output Bitstring Occurrences",
          "x": 0.308,
          "xanchor": "center",
          "xref": "paper",
          "y": 0.825,
          "yanchor": "bottom",
          "yref": "paper"
         },
         {
          "font": {
           "size": 16
          },
          "showarrow": false,
          "text": "Failed/Passed Traps",
          "x": 0.848,
          "xanchor": "center",
          "xref": "paper",
          "y": 0.825,
          "yanchor": "bottom",
          "yref": "paper"
         },
         {
          "font": {
           "size": 16
          },
          "showarrow": false,
          "text": "Output Bitstring Occurrences",
          "x": 0.308,
          "xanchor": "center",
          "xref": "paper",
          "y": 0.65,
          "yanchor": "bottom",
          "yref": "paper"
         },
         {
          "font": {
           "size": 16
          },
          "showarrow": false,
          "text": "Failed/Passed Traps",
          "x": 0.848,
          "xanchor": "center",
          "xref": "paper",
          "y": 0.65,
          "yanchor": "bottom",
          "yref": "paper"
         },
         {
          "font": {
           "size": 16
          },
          "showarrow": false,
          "text": "Output Bitstring Occurrences",
          "x": 0.308,
          "xanchor": "center",
          "xref": "paper",
          "y": 0.475,
          "yanchor": "bottom",
          "yref": "paper"
         },
         {
          "font": {
           "size": 16
          },
          "showarrow": false,
          "text": "Failed/Passed Traps",
          "x": 0.848,
          "xanchor": "center",
          "xref": "paper",
          "y": 0.475,
          "yanchor": "bottom",
          "yref": "paper"
         },
         {
          "font": {
           "size": 16
          },
          "showarrow": false,
          "text": "Output Bitstring Occurrences",
          "x": 0.308,
          "xanchor": "center",
          "xref": "paper",
          "y": 0.3,
          "yanchor": "bottom",
          "yref": "paper"
         },
         {
          "font": {
           "size": 16
          },
          "showarrow": false,
          "text": "Failed/Passed Traps",
          "x": 0.848,
          "xanchor": "center",
          "xref": "paper",
          "y": 0.3,
          "yanchor": "bottom",
          "yref": "paper"
         },
         {
          "font": {
           "size": 16
          },
          "showarrow": false,
          "text": "Output Bitstring Occurrences",
          "x": 0.308,
          "xanchor": "center",
          "xref": "paper",
          "y": 0.125,
          "yanchor": "bottom",
          "yref": "paper"
         },
         {
          "font": {
           "size": 16
          },
          "showarrow": false,
          "text": "Failed/Passed Traps",
          "x": 0.848,
          "xanchor": "center",
          "xref": "paper",
          "y": 0.125,
          "yanchor": "bottom",
          "yref": "paper"
         },
         {
          "font": {
           "size": 16
          },
          "showarrow": false,
          "text": "p=0",
          "textangle": 90,
          "x": 0.98,
          "xanchor": "left",
          "xref": "paper",
          "y": 0.9375,
          "yanchor": "middle",
          "yref": "paper"
         },
         {
          "font": {
           "size": 16
          },
          "showarrow": false,
          "text": "p=0.1",
          "textangle": 90,
          "x": 0.98,
          "xanchor": "left",
          "xref": "paper",
          "y": 0.7625,
          "yanchor": "middle",
          "yref": "paper"
         },
         {
          "font": {
           "size": 16
          },
          "showarrow": false,
          "text": "p=0.15",
          "textangle": 90,
          "x": 0.98,
          "xanchor": "left",
          "xref": "paper",
          "y": 0.5875,
          "yanchor": "middle",
          "yref": "paper"
         },
         {
          "font": {
           "size": 16
          },
          "showarrow": false,
          "text": "p=0.2",
          "textangle": 90,
          "x": 0.98,
          "xanchor": "left",
          "xref": "paper",
          "y": 0.4125,
          "yanchor": "middle",
          "yref": "paper"
         },
         {
          "font": {
           "size": 16
          },
          "showarrow": false,
          "text": "p=0.5",
          "textangle": 90,
          "x": 0.98,
          "xanchor": "left",
          "xref": "paper",
          "y": 0.2375,
          "yanchor": "middle",
          "yref": "paper"
         },
         {
          "font": {
           "size": 16
          },
          "showarrow": false,
          "text": "p=1",
          "textangle": 90,
          "x": 0.98,
          "xanchor": "left",
          "xref": "paper",
          "y": 0.0625,
          "yanchor": "middle",
          "yref": "paper"
         }
        ],
        "height": 2400,
        "showlegend": false,
        "template": {
         "data": {
          "bar": [
           {
            "error_x": {
             "color": "#2a3f5f"
            },
            "error_y": {
             "color": "#2a3f5f"
            },
            "marker": {
             "line": {
              "color": "#E5ECF6",
              "width": 0.5
             },
             "pattern": {
              "fillmode": "overlay",
              "size": 10,
              "solidity": 0.2
             }
            },
            "type": "bar"
           }
          ],
          "barpolar": [
           {
            "marker": {
             "line": {
              "color": "#E5ECF6",
              "width": 0.5
             },
             "pattern": {
              "fillmode": "overlay",
              "size": 10,
              "solidity": 0.2
             }
            },
            "type": "barpolar"
           }
          ],
          "carpet": [
           {
            "aaxis": {
             "endlinecolor": "#2a3f5f",
             "gridcolor": "white",
             "linecolor": "white",
             "minorgridcolor": "white",
             "startlinecolor": "#2a3f5f"
            },
            "baxis": {
             "endlinecolor": "#2a3f5f",
             "gridcolor": "white",
             "linecolor": "white",
             "minorgridcolor": "white",
             "startlinecolor": "#2a3f5f"
            },
            "type": "carpet"
           }
          ],
          "choropleth": [
           {
            "colorbar": {
             "outlinewidth": 0,
             "ticks": ""
            },
            "type": "choropleth"
           }
          ],
          "contour": [
           {
            "colorbar": {
             "outlinewidth": 0,
             "ticks": ""
            },
            "colorscale": [
             [
              0,
              "#0d0887"
             ],
             [
              0.1111111111111111,
              "#46039f"
             ],
             [
              0.2222222222222222,
              "#7201a8"
             ],
             [
              0.3333333333333333,
              "#9c179e"
             ],
             [
              0.4444444444444444,
              "#bd3786"
             ],
             [
              0.5555555555555556,
              "#d8576b"
             ],
             [
              0.6666666666666666,
              "#ed7953"
             ],
             [
              0.7777777777777778,
              "#fb9f3a"
             ],
             [
              0.8888888888888888,
              "#fdca26"
             ],
             [
              1,
              "#f0f921"
             ]
            ],
            "type": "contour"
           }
          ],
          "contourcarpet": [
           {
            "colorbar": {
             "outlinewidth": 0,
             "ticks": ""
            },
            "type": "contourcarpet"
           }
          ],
          "heatmap": [
           {
            "colorbar": {
             "outlinewidth": 0,
             "ticks": ""
            },
            "colorscale": [
             [
              0,
              "#0d0887"
             ],
             [
              0.1111111111111111,
              "#46039f"
             ],
             [
              0.2222222222222222,
              "#7201a8"
             ],
             [
              0.3333333333333333,
              "#9c179e"
             ],
             [
              0.4444444444444444,
              "#bd3786"
             ],
             [
              0.5555555555555556,
              "#d8576b"
             ],
             [
              0.6666666666666666,
              "#ed7953"
             ],
             [
              0.7777777777777778,
              "#fb9f3a"
             ],
             [
              0.8888888888888888,
              "#fdca26"
             ],
             [
              1,
              "#f0f921"
             ]
            ],
            "type": "heatmap"
           }
          ],
          "heatmapgl": [
           {
            "colorbar": {
             "outlinewidth": 0,
             "ticks": ""
            },
            "colorscale": [
             [
              0,
              "#0d0887"
             ],
             [
              0.1111111111111111,
              "#46039f"
             ],
             [
              0.2222222222222222,
              "#7201a8"
             ],
             [
              0.3333333333333333,
              "#9c179e"
             ],
             [
              0.4444444444444444,
              "#bd3786"
             ],
             [
              0.5555555555555556,
              "#d8576b"
             ],
             [
              0.6666666666666666,
              "#ed7953"
             ],
             [
              0.7777777777777778,
              "#fb9f3a"
             ],
             [
              0.8888888888888888,
              "#fdca26"
             ],
             [
              1,
              "#f0f921"
             ]
            ],
            "type": "heatmapgl"
           }
          ],
          "histogram": [
           {
            "marker": {
             "pattern": {
              "fillmode": "overlay",
              "size": 10,
              "solidity": 0.2
             }
            },
            "type": "histogram"
           }
          ],
          "histogram2d": [
           {
            "colorbar": {
             "outlinewidth": 0,
             "ticks": ""
            },
            "colorscale": [
             [
              0,
              "#0d0887"
             ],
             [
              0.1111111111111111,
              "#46039f"
             ],
             [
              0.2222222222222222,
              "#7201a8"
             ],
             [
              0.3333333333333333,
              "#9c179e"
             ],
             [
              0.4444444444444444,
              "#bd3786"
             ],
             [
              0.5555555555555556,
              "#d8576b"
             ],
             [
              0.6666666666666666,
              "#ed7953"
             ],
             [
              0.7777777777777778,
              "#fb9f3a"
             ],
             [
              0.8888888888888888,
              "#fdca26"
             ],
             [
              1,
              "#f0f921"
             ]
            ],
            "type": "histogram2d"
           }
          ],
          "histogram2dcontour": [
           {
            "colorbar": {
             "outlinewidth": 0,
             "ticks": ""
            },
            "colorscale": [
             [
              0,
              "#0d0887"
             ],
             [
              0.1111111111111111,
              "#46039f"
             ],
             [
              0.2222222222222222,
              "#7201a8"
             ],
             [
              0.3333333333333333,
              "#9c179e"
             ],
             [
              0.4444444444444444,
              "#bd3786"
             ],
             [
              0.5555555555555556,
              "#d8576b"
             ],
             [
              0.6666666666666666,
              "#ed7953"
             ],
             [
              0.7777777777777778,
              "#fb9f3a"
             ],
             [
              0.8888888888888888,
              "#fdca26"
             ],
             [
              1,
              "#f0f921"
             ]
            ],
            "type": "histogram2dcontour"
           }
          ],
          "mesh3d": [
           {
            "colorbar": {
             "outlinewidth": 0,
             "ticks": ""
            },
            "type": "mesh3d"
           }
          ],
          "parcoords": [
           {
            "line": {
             "colorbar": {
              "outlinewidth": 0,
              "ticks": ""
             }
            },
            "type": "parcoords"
           }
          ],
          "pie": [
           {
            "automargin": true,
            "type": "pie"
           }
          ],
          "scatter": [
           {
            "fillpattern": {
             "fillmode": "overlay",
             "size": 10,
             "solidity": 0.2
            },
            "type": "scatter"
           }
          ],
          "scatter3d": [
           {
            "line": {
             "colorbar": {
              "outlinewidth": 0,
              "ticks": ""
             }
            },
            "marker": {
             "colorbar": {
              "outlinewidth": 0,
              "ticks": ""
             }
            },
            "type": "scatter3d"
           }
          ],
          "scattercarpet": [
           {
            "marker": {
             "colorbar": {
              "outlinewidth": 0,
              "ticks": ""
             }
            },
            "type": "scattercarpet"
           }
          ],
          "scattergeo": [
           {
            "marker": {
             "colorbar": {
              "outlinewidth": 0,
              "ticks": ""
             }
            },
            "type": "scattergeo"
           }
          ],
          "scattergl": [
           {
            "marker": {
             "colorbar": {
              "outlinewidth": 0,
              "ticks": ""
             }
            },
            "type": "scattergl"
           }
          ],
          "scattermapbox": [
           {
            "marker": {
             "colorbar": {
              "outlinewidth": 0,
              "ticks": ""
             }
            },
            "type": "scattermapbox"
           }
          ],
          "scatterpolar": [
           {
            "marker": {
             "colorbar": {
              "outlinewidth": 0,
              "ticks": ""
             }
            },
            "type": "scatterpolar"
           }
          ],
          "scatterpolargl": [
           {
            "marker": {
             "colorbar": {
              "outlinewidth": 0,
              "ticks": ""
             }
            },
            "type": "scatterpolargl"
           }
          ],
          "scatterternary": [
           {
            "marker": {
             "colorbar": {
              "outlinewidth": 0,
              "ticks": ""
             }
            },
            "type": "scatterternary"
           }
          ],
          "surface": [
           {
            "colorbar": {
             "outlinewidth": 0,
             "ticks": ""
            },
            "colorscale": [
             [
              0,
              "#0d0887"
             ],
             [
              0.1111111111111111,
              "#46039f"
             ],
             [
              0.2222222222222222,
              "#7201a8"
             ],
             [
              0.3333333333333333,
              "#9c179e"
             ],
             [
              0.4444444444444444,
              "#bd3786"
             ],
             [
              0.5555555555555556,
              "#d8576b"
             ],
             [
              0.6666666666666666,
              "#ed7953"
             ],
             [
              0.7777777777777778,
              "#fb9f3a"
             ],
             [
              0.8888888888888888,
              "#fdca26"
             ],
             [
              1,
              "#f0f921"
             ]
            ],
            "type": "surface"
           }
          ],
          "table": [
           {
            "cells": {
             "fill": {
              "color": "#EBF0F8"
             },
             "line": {
              "color": "white"
             }
            },
            "header": {
             "fill": {
              "color": "#C8D4E3"
             },
             "line": {
              "color": "white"
             }
            },
            "type": "table"
           }
          ]
         },
         "layout": {
          "annotationdefaults": {
           "arrowcolor": "#2a3f5f",
           "arrowhead": 0,
           "arrowwidth": 1
          },
          "autotypenumbers": "strict",
          "coloraxis": {
           "colorbar": {
            "outlinewidth": 0,
            "ticks": ""
           }
          },
          "colorscale": {
           "diverging": [
            [
             0,
             "#8e0152"
            ],
            [
             0.1,
             "#c51b7d"
            ],
            [
             0.2,
             "#de77ae"
            ],
            [
             0.3,
             "#f1b6da"
            ],
            [
             0.4,
             "#fde0ef"
            ],
            [
             0.5,
             "#f7f7f7"
            ],
            [
             0.6,
             "#e6f5d0"
            ],
            [
             0.7,
             "#b8e186"
            ],
            [
             0.8,
             "#7fbc41"
            ],
            [
             0.9,
             "#4d9221"
            ],
            [
             1,
             "#276419"
            ]
           ],
           "sequential": [
            [
             0,
             "#0d0887"
            ],
            [
             0.1111111111111111,
             "#46039f"
            ],
            [
             0.2222222222222222,
             "#7201a8"
            ],
            [
             0.3333333333333333,
             "#9c179e"
            ],
            [
             0.4444444444444444,
             "#bd3786"
            ],
            [
             0.5555555555555556,
             "#d8576b"
            ],
            [
             0.6666666666666666,
             "#ed7953"
            ],
            [
             0.7777777777777778,
             "#fb9f3a"
            ],
            [
             0.8888888888888888,
             "#fdca26"
            ],
            [
             1,
             "#f0f921"
            ]
           ],
           "sequentialminus": [
            [
             0,
             "#0d0887"
            ],
            [
             0.1111111111111111,
             "#46039f"
            ],
            [
             0.2222222222222222,
             "#7201a8"
            ],
            [
             0.3333333333333333,
             "#9c179e"
            ],
            [
             0.4444444444444444,
             "#bd3786"
            ],
            [
             0.5555555555555556,
             "#d8576b"
            ],
            [
             0.6666666666666666,
             "#ed7953"
            ],
            [
             0.7777777777777778,
             "#fb9f3a"
            ],
            [
             0.8888888888888888,
             "#fdca26"
            ],
            [
             1,
             "#f0f921"
            ]
           ]
          },
          "colorway": [
           "#636efa",
           "#EF553B",
           "#00cc96",
           "#ab63fa",
           "#FFA15A",
           "#19d3f3",
           "#FF6692",
           "#B6E880",
           "#FF97FF",
           "#FECB52"
          ],
          "font": {
           "color": "#2a3f5f"
          },
          "geo": {
           "bgcolor": "white",
           "lakecolor": "white",
           "landcolor": "#E5ECF6",
           "showlakes": true,
           "showland": true,
           "subunitcolor": "white"
          },
          "hoverlabel": {
           "align": "left"
          },
          "hovermode": "closest",
          "mapbox": {
           "style": "light"
          },
          "paper_bgcolor": "white",
          "plot_bgcolor": "#E5ECF6",
          "polar": {
           "angularaxis": {
            "gridcolor": "white",
            "linecolor": "white",
            "ticks": ""
           },
           "bgcolor": "#E5ECF6",
           "radialaxis": {
            "gridcolor": "white",
            "linecolor": "white",
            "ticks": ""
           }
          },
          "scene": {
           "xaxis": {
            "backgroundcolor": "#E5ECF6",
            "gridcolor": "white",
            "gridwidth": 2,
            "linecolor": "white",
            "showbackground": true,
            "ticks": "",
            "zerolinecolor": "white"
           },
           "yaxis": {
            "backgroundcolor": "#E5ECF6",
            "gridcolor": "white",
            "gridwidth": 2,
            "linecolor": "white",
            "showbackground": true,
            "ticks": "",
            "zerolinecolor": "white"
           },
           "zaxis": {
            "backgroundcolor": "#E5ECF6",
            "gridcolor": "white",
            "gridwidth": 2,
            "linecolor": "white",
            "showbackground": true,
            "ticks": "",
            "zerolinecolor": "white"
           }
          },
          "shapedefaults": {
           "line": {
            "color": "#2a3f5f"
           }
          },
          "ternary": {
           "aaxis": {
            "gridcolor": "white",
            "linecolor": "white",
            "ticks": ""
           },
           "baxis": {
            "gridcolor": "white",
            "linecolor": "white",
            "ticks": ""
           },
           "bgcolor": "#E5ECF6",
           "caxis": {
            "gridcolor": "white",
            "linecolor": "white",
            "ticks": ""
           }
          },
          "title": {
           "x": 0.05
          },
          "xaxis": {
           "automargin": true,
           "gridcolor": "white",
           "linecolor": "white",
           "ticks": "",
           "title": {
            "standoff": 15
           },
           "zerolinecolor": "white",
           "zerolinewidth": 2
          },
          "yaxis": {
           "automargin": true,
           "gridcolor": "white",
           "linecolor": "white",
           "ticks": "",
           "title": {
            "standoff": 15
           },
           "zerolinecolor": "white",
           "zerolinewidth": 2
          }
         }
        },
        "title": {
         "text": "Output Bitstring Occurrences and Trap Results per Noise Level (p)"
        },
        "xaxis": {
         "anchor": "y",
         "domain": [
          0,
          0.616
         ]
        },
        "xaxis2": {
         "anchor": "y2",
         "domain": [
          0,
          0.616
         ]
        },
        "xaxis3": {
         "anchor": "y3",
         "domain": [
          0,
          0.616
         ]
        },
        "xaxis4": {
         "anchor": "y4",
         "domain": [
          0,
          0.616
         ]
        },
        "xaxis5": {
         "anchor": "y5",
         "domain": [
          0,
          0.616
         ]
        },
        "xaxis6": {
         "anchor": "y6",
         "domain": [
          0,
          0.616
         ]
        },
        "yaxis": {
         "anchor": "x",
         "domain": [
          0.875,
          1
         ]
        },
        "yaxis2": {
         "anchor": "x2",
         "domain": [
          0.7,
          0.825
         ]
        },
        "yaxis3": {
         "anchor": "x3",
         "domain": [
          0.525,
          0.65
         ]
        },
        "yaxis4": {
         "anchor": "x4",
         "domain": [
          0.35,
          0.475
         ]
        },
        "yaxis5": {
         "anchor": "x5",
         "domain": [
          0.175,
          0.3
         ]
        },
        "yaxis6": {
         "anchor": "x6",
         "domain": [
          0,
          0.125
         ]
        }
       }
      }
     },
     "metadata": {},
     "output_type": "display_data"
    }
   ],
   "source": [
    "import plotly.graph_objects as go\n",
    "from plotly.subplots import make_subplots\n",
    "\n",
    "\n",
    "# Function to get color based on p value\n",
    "def get_heatmap_color(p, colormap_name=\"coolwarm\", vmin=0.1, vmax=1):\n",
    "    colormap = cm.get_cmap(colormap_name)\n",
    "    norm = LogNorm(vmin=vmin, vmax=vmax)  # Normalize p within [vmin, vmax]\n",
    "    return to_hex(colormap(norm(p)))  # Convert to hex color for Plotly\n",
    "\n",
    "\n",
    "# Number of rows and columns for the subplot grid\n",
    "num_rows = len(all_histograms)  # Each p value gets its own row\n",
    "num_cols = 2  # One column for bar chart, one for pie chart\n",
    "\n",
    "# Create a subplot grid with multiple rows and columns\n",
    "fig = make_subplots(\n",
    "    rows=num_rows,\n",
    "    cols=num_cols,\n",
    "    column_widths=[0.7, 0.3],\n",
    "    row_titles=[f\"p={p}\" for p in all_histograms.keys()],\n",
    "    subplot_titles=[\"Output Bitstring Occurrences\", \"Failed/Passed Traps\"] * len(all_histograms),\n",
    "    vertical_spacing=0.05,\n",
    "    specs=[[{\"type\": \"bar\"}, {\"type\": \"pie\"}] for _ in range(num_rows)],\n",
    ")\n",
    "\n",
    "# Add bar charts and pie charts for each p value\n",
    "colors = [\"#EF553B\", \"#a5ff33\"]  # Red for 'Failed traps', Green for 'Passed traps'\n",
    "\n",
    "for idx, (p, histogram) in enumerate(all_histograms.items()):\n",
    "    frequencies = [histogram.get(outcome, 0) for outcome in all_outcomes]\n",
    "\n",
    "    # Get colors for each bar based on the current p value\n",
    "    bar_colors = [get_heatmap_color(p + 0.1) for _ in all_outcomes]\n",
    "\n",
    "    # Add bar chart to the first column\n",
    "    fig.add_trace(\n",
    "        go.Bar(x=all_outcomes, y=frequencies, name=f\"Bitstrings (p={p})\", marker=dict(color=bar_colors)),\n",
    "        row=idx + 1,\n",
    "        col=1,\n",
    "    )\n",
    "\n",
    "    # Add pie chart to the second column\n",
    "    failed_value = failed_traps_histograms.get(p, 0)\n",
    "    fig.add_trace(\n",
    "        go.Pie(\n",
    "            labels=[\"Failed traps\", \"Passed traps\"],\n",
    "            values=[failed_value, 1 - failed_value],\n",
    "            marker=dict(colors=colors),\n",
    "            name=f\"Traps (p={p})\",\n",
    "        ),\n",
    "        row=idx + 1,\n",
    "        col=2,\n",
    "    )\n",
    "\n",
    "# Update layout for better spacing and appearance\n",
    "fig.update_layout(\n",
    "    title=\"Output Bitstring Occurrences and Trap Results per Noise Level (p)\",\n",
    "    height=400 * num_rows,  # Dynamic height based on the number of rows\n",
    "    showlegend=False,  # Disable legend for clarity\n",
    ")\n",
    "\n",
    "fig.show()"
   ]
  }
 ],
 "metadata": {
  "kernelspec": {
   "display_name": "gospel",
   "language": "python",
   "name": "python3"
  },
  "language_info": {
   "codemirror_mode": {
    "name": "ipython",
    "version": 3
   },
   "file_extension": ".py",
   "mimetype": "text/x-python",
   "name": "python",
   "nbconvert_exporter": "python",
   "pygments_lexer": "ipython3",
   "version": "3.12.9"
  }
 },
 "nbformat": 4,
 "nbformat_minor": 4
}
