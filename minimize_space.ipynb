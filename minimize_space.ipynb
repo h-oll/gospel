{
 "cells": [
  {
   "cell_type": "code",
   "execution_count": 1,
   "metadata": {},
   "outputs": [
    {
     "name": "stderr",
     "output_type": "stream",
     "text": [
      "/Users/mgarnier/opt/anaconda3/envs/gospel/lib/python3.12/site-packages/cotengra/hyperoptimizers/hyper.py:57: UserWarning: Couldn't find `optuna`, `cmaes`, `baytune (btb)`, `chocolate`, or `nevergrad` so will use completely random sampling in place of hyper-optimization.\n",
      "  warnings.warn(\n",
      "/Users/mgarnier/opt/anaconda3/envs/gospel/lib/python3.12/site-packages/cotengra/hyperoptimizers/hyper.py:39: UserWarning: Couldn't import `kahypar` - skipping from default hyper optimizer and using basic `labels` method instead.\n",
      "  warnings.warn(\n",
      "/Users/mgarnier/opt/anaconda3/envs/gospel/lib/python3.12/site-packages/cotengra/hyperoptimizers/hyper.py:76: UserWarning: Couldn't find `optuna`, `cmaes`, `baytune (btb)`, `chocolate`, or `nevergrad` so will use completely random sampling in place of hyper-optimization.\n",
      "  warnings.warn(\n"
     ]
    }
   ],
   "source": [
    "import random\n",
    "from pathlib import Path\n",
    "\n",
    "import graphix.command\n",
    "import numpy as np\n",
    "import stim\n",
    "import veriphix.client\n",
    "from graphix.fundamentals import IXYZ\n",
    "from graphix.noise_models import DepolarisingNoiseModel\n",
    "from graphix.pauli import Pauli\n",
    "from graphix.random_objects import Circuit, rand_circuit\n",
    "from graphix.sim.density_matrix import DensityMatrixBackend\n",
    "from graphix.sim.statevec import Statevec, StatevectorBackend\n",
    "from graphix.states import BasicStates\n",
    "from veriphix.client import CircuitUtils, Client, Secrets\n",
    "\n",
    "import gospel.brickwork_state_transpiler\n",
    "from gospel.scripts.qasm2brickwork_state import read_qasm, draw_brickwork_state_colormap"
   ]
  },
  {
   "cell_type": "code",
   "execution_count": 2,
   "metadata": {},
   "outputs": [
    {
     "name": "stdout",
     "output_type": "stream",
     "text": [
      "[CNOT(target=0, control=1), CNOT(target=1, control=0), RZ(target=0, angle=3.2044768270667037, meas_index=None), CNOT(target=1, control=2), CNOT(target=2, control=1), RX(target=0, angle=0.8714609226124835, meas_index=None), CNOT(target=1, control=0), RX(target=0, angle=3.6317769741179275, meas_index=None), RZ(target=0, angle=3.561474570023711, meas_index=None)]\n",
      "[N(node=5, state=graphix.states.PlanarState(Plane.XY, 0.0)), N(node=6, state=graphix.states.PlanarState(Plane.XY, 0.0)), E(nodes=(0, 6)), M(node=0, plane=<Plane.XY: 1>, angle=0.0, s_domain=set(), t_domain=set()), X(node=6, domain={0}), N(node=7, state=graphix.states.PlanarState(Plane.XY, 0.0)), E(nodes=(1, 7)), M(node=1, plane=<Plane.XY: 1>, angle=0.0, s_domain=set(), t_domain=set()), X(node=7, domain={1}), N(node=8, state=graphix.states.PlanarState(Plane.XY, 0.0)), E(nodes=(2, 8)), M(node=2, plane=<Plane.XY: 1>, angle=0.0, s_domain=set(), t_domain=set()), X(node=8, domain={2}), N(node=9, state=graphix.states.PlanarState(Plane.XY, 0.0)), E(nodes=(3, 9)), M(node=3, plane=<Plane.XY: 1>, angle=0.0, s_domain=set(), t_domain=set()), X(node=9, domain={3}), N(node=10, state=graphix.states.PlanarState(Plane.XY, 0.0)), E(nodes=(4, 10)), M(node=4, plane=<Plane.XY: 1>, angle=0.0, s_domain=set(), t_domain=set()), X(node=10, domain={4}), N(node=11, state=graphix.states.PlanarState(Plane.XY, 0.0)), E(nodes=(5, 11)), M(node=5, plane=<Plane.XY: 1>, angle=0.0, s_domain=set(), t_domain=set()), X(node=11, domain={5}), N(node=12, state=graphix.states.PlanarState(Plane.XY, 0.0)), E(nodes=(6, 12)), M(node=6, plane=<Plane.XY: 1>, angle=0.5, s_domain=set(), t_domain=set()), X(node=12, domain={6}), N(node=13, state=graphix.states.PlanarState(Plane.XY, 0.0)), E(nodes=(7, 13)), M(node=7, plane=<Plane.XY: 1>, angle=0.0, s_domain=set(), t_domain=set()), X(node=13, domain={7}), E(nodes=(12, 13)), N(node=14, state=graphix.states.PlanarState(Plane.XY, 0.0)), E(nodes=(8, 14)), M(node=8, plane=<Plane.XY: 1>, angle=0.0, s_domain=set(), t_domain=set()), X(node=14, domain={8}), N(node=15, state=graphix.states.PlanarState(Plane.XY, 0.0)), E(nodes=(9, 15)), M(node=9, plane=<Plane.XY: 1>, angle=0.0, s_domain=set(), t_domain=set()), X(node=15, domain={9}), E(nodes=(14, 15)), N(node=16, state=graphix.states.PlanarState(Plane.XY, 0.0)), E(nodes=(10, 16)), M(node=10, plane=<Plane.XY: 1>, angle=0.0, s_domain=set(), t_domain=set()), X(node=16, domain={10}), N(node=17, state=graphix.states.PlanarState(Plane.XY, 0.0)), E(nodes=(11, 17)), M(node=11, plane=<Plane.XY: 1>, angle=0.0, s_domain=set(), t_domain=set()), X(node=17, domain={11}), E(nodes=(16, 17)), N(node=18, state=graphix.states.PlanarState(Plane.XY, 0.0)), E(nodes=(12, 18)), M(node=12, plane=<Plane.XY: 1>, angle=0.0, s_domain=set(), t_domain=set()), X(node=18, domain={12}), N(node=19, state=graphix.states.PlanarState(Plane.XY, 0.0)), E(nodes=(13, 19)), M(node=13, plane=<Plane.XY: 1>, angle=0.5, s_domain=set(), t_domain=set()), X(node=19, domain={13}), N(node=20, state=graphix.states.PlanarState(Plane.XY, 0.0)), E(nodes=(14, 20)), M(node=14, plane=<Plane.XY: 1>, angle=0.0, s_domain=set(), t_domain=set()), X(node=20, domain={14}), N(node=21, state=graphix.states.PlanarState(Plane.XY, 0.0)), E(nodes=(15, 21)), M(node=15, plane=<Plane.XY: 1>, angle=0.0, s_domain=set(), t_domain=set()), X(node=21, domain={15}), N(node=22, state=graphix.states.PlanarState(Plane.XY, 0.0)), E(nodes=(16, 22)), M(node=16, plane=<Plane.XY: 1>, angle=0.0, s_domain=set(), t_domain=set()), X(node=22, domain={16}), N(node=23, state=graphix.states.PlanarState(Plane.XY, 0.0)), E(nodes=(17, 23)), M(node=17, plane=<Plane.XY: 1>, angle=0.0, s_domain=set(), t_domain=set()), X(node=23, domain={17}), N(node=24, state=graphix.states.PlanarState(Plane.XY, 0.0)), E(nodes=(18, 24)), M(node=18, plane=<Plane.XY: 1>, angle=-0.5, s_domain=set(), t_domain=set()), X(node=24, domain={18}), N(node=25, state=graphix.states.PlanarState(Plane.XY, 0.0)), E(nodes=(19, 25)), M(node=19, plane=<Plane.XY: 1>, angle=0.0, s_domain=set(), t_domain=set()), X(node=25, domain={19}), E(nodes=(24, 25)), N(node=26, state=graphix.states.PlanarState(Plane.XY, 0.0)), E(nodes=(20, 26)), M(node=20, plane=<Plane.XY: 1>, angle=0.0, s_domain=set(), t_domain=set()), X(node=26, domain={20}), N(node=27, state=graphix.states.PlanarState(Plane.XY, 0.0)), E(nodes=(21, 27)), M(node=21, plane=<Plane.XY: 1>, angle=0.0, s_domain=set(), t_domain=set()), X(node=27, domain={21}), E(nodes=(26, 27)), N(node=28, state=graphix.states.PlanarState(Plane.XY, 0.0)), E(nodes=(22, 28)), M(node=22, plane=<Plane.XY: 1>, angle=0.0, s_domain=set(), t_domain=set()), X(node=28, domain={22}), N(node=29, state=graphix.states.PlanarState(Plane.XY, 0.0)), E(nodes=(23, 29)), M(node=23, plane=<Plane.XY: 1>, angle=0.0, s_domain=set(), t_domain=set()), X(node=29, domain={23}), E(nodes=(28, 29)), N(node=30, state=graphix.states.PlanarState(Plane.XY, 0.0)), E(nodes=(24, 30)), M(node=24, plane=<Plane.XY: 1>, angle=0.0, s_domain=set(), t_domain=set()), X(node=30, domain={24}), N(node=31, state=graphix.states.PlanarState(Plane.XY, 0.0)), E(nodes=(25, 31)), M(node=25, plane=<Plane.XY: 1>, angle=0.0, s_domain=set(), t_domain=set()), X(node=31, domain={25}), N(node=32, state=graphix.states.PlanarState(Plane.XY, 0.0)), E(nodes=(26, 32)), M(node=26, plane=<Plane.XY: 1>, angle=0.0, s_domain=set(), t_domain=set()), X(node=32, domain={26}), N(node=33, state=graphix.states.PlanarState(Plane.XY, 0.0)), E(nodes=(27, 33)), M(node=27, plane=<Plane.XY: 1>, angle=0.0, s_domain=set(), t_domain=set()), X(node=33, domain={27}), N(node=34, state=graphix.states.PlanarState(Plane.XY, 0.0)), E(nodes=(28, 34)), M(node=28, plane=<Plane.XY: 1>, angle=0.0, s_domain=set(), t_domain=set()), X(node=34, domain={28}), N(node=35, state=graphix.states.PlanarState(Plane.XY, 0.0)), E(nodes=(29, 35)), M(node=29, plane=<Plane.XY: 1>, angle=0.0, s_domain=set(), t_domain=set()), X(node=35, domain={29}), N(node=36, state=graphix.states.PlanarState(Plane.XY, 0.0)), E(nodes=(30, 36)), M(node=30, plane=<Plane.XY: 1>, angle=0.0, s_domain=set(), t_domain=set()), X(node=36, domain={30}), N(node=37, state=graphix.states.PlanarState(Plane.XY, 0.0)), E(nodes=(31, 37)), M(node=31, plane=<Plane.XY: 1>, angle=0.0, s_domain=set(), t_domain=set()), X(node=37, domain={31}), N(node=38, state=graphix.states.PlanarState(Plane.XY, 0.0)), E(nodes=(32, 38)), M(node=32, plane=<Plane.XY: 1>, angle=0.0, s_domain=set(), t_domain=set()), X(node=38, domain={32}), E(nodes=(37, 38)), N(node=39, state=graphix.states.PlanarState(Plane.XY, 0.0)), E(nodes=(33, 39)), M(node=33, plane=<Plane.XY: 1>, angle=0.0, s_domain=set(), t_domain=set()), X(node=39, domain={33}), N(node=40, state=graphix.states.PlanarState(Plane.XY, 0.0)), E(nodes=(34, 40)), M(node=34, plane=<Plane.XY: 1>, angle=0.0, s_domain=set(), t_domain=set()), X(node=40, domain={34}), E(nodes=(39, 40)), N(node=41, state=graphix.states.PlanarState(Plane.XY, 0.0)), E(nodes=(35, 41)), M(node=35, plane=<Plane.XY: 1>, angle=0.0, s_domain=set(), t_domain=set()), X(node=41, domain={35}), N(node=42, state=graphix.states.PlanarState(Plane.XY, 0.0)), E(nodes=(36, 42)), M(node=36, plane=<Plane.XY: 1>, angle=0.0, s_domain=set(), t_domain=set()), X(node=42, domain={36}), N(node=43, state=graphix.states.PlanarState(Plane.XY, 0.0)), E(nodes=(37, 43)), M(node=37, plane=<Plane.XY: 1>, angle=0.0, s_domain=set(), t_domain=set()), X(node=43, domain={37}), N(node=44, state=graphix.states.PlanarState(Plane.XY, 0.0)), E(nodes=(38, 44)), M(node=38, plane=<Plane.XY: 1>, angle=0.0, s_domain=set(), t_domain=set()), X(node=44, domain={38}), N(node=45, state=graphix.states.PlanarState(Plane.XY, 0.0)), E(nodes=(39, 45)), M(node=39, plane=<Plane.XY: 1>, angle=0.0, s_domain=set(), t_domain=set()), X(node=45, domain={39}), N(node=46, state=graphix.states.PlanarState(Plane.XY, 0.0)), E(nodes=(40, 46)), M(node=40, plane=<Plane.XY: 1>, angle=0.0, s_domain=set(), t_domain=set()), X(node=46, domain={40}), N(node=47, state=graphix.states.PlanarState(Plane.XY, 0.0)), E(nodes=(41, 47)), M(node=41, plane=<Plane.XY: 1>, angle=0.0, s_domain=set(), t_domain=set()), X(node=47, domain={41}), N(node=48, state=graphix.states.PlanarState(Plane.XY, 0.0)), E(nodes=(42, 48)), M(node=42, plane=<Plane.XY: 1>, angle=0.0, s_domain=set(), t_domain=set()), X(node=48, domain={42}), N(node=49, state=graphix.states.PlanarState(Plane.XY, 0.0)), E(nodes=(43, 49)), M(node=43, plane=<Plane.XY: 1>, angle=0.0, s_domain=set(), t_domain=set()), X(node=49, domain={43}), N(node=50, state=graphix.states.PlanarState(Plane.XY, 0.0)), E(nodes=(44, 50)), M(node=44, plane=<Plane.XY: 1>, angle=0.0, s_domain=set(), t_domain=set()), X(node=50, domain={44}), E(nodes=(49, 50)), N(node=51, state=graphix.states.PlanarState(Plane.XY, 0.0)), E(nodes=(45, 51)), M(node=45, plane=<Plane.XY: 1>, angle=0.0, s_domain=set(), t_domain=set()), X(node=51, domain={45}), N(node=52, state=graphix.states.PlanarState(Plane.XY, 0.0)), E(nodes=(46, 52)), M(node=46, plane=<Plane.XY: 1>, angle=0.0, s_domain=set(), t_domain=set()), X(node=52, domain={46}), E(nodes=(51, 52)), N(node=53, state=graphix.states.PlanarState(Plane.XY, 0.0)), E(nodes=(47, 53)), M(node=47, plane=<Plane.XY: 1>, angle=0.0, s_domain=set(), t_domain=set()), X(node=53, domain={47}), N(node=54, state=graphix.states.PlanarState(Plane.XY, 0.0)), E(nodes=(48, 54)), M(node=48, plane=<Plane.XY: 1>, angle=0.0, s_domain=set(), t_domain=set()), X(node=54, domain={48}), N(node=55, state=graphix.states.PlanarState(Plane.XY, 0.0)), E(nodes=(49, 55)), M(node=49, plane=<Plane.XY: 1>, angle=0.0, s_domain=set(), t_domain=set()), X(node=55, domain={49}), N(node=56, state=graphix.states.PlanarState(Plane.XY, 0.0)), E(nodes=(50, 56)), M(node=50, plane=<Plane.XY: 1>, angle=0.0, s_domain=set(), t_domain=set()), X(node=56, domain={50}), N(node=57, state=graphix.states.PlanarState(Plane.XY, 0.0)), E(nodes=(51, 57)), M(node=51, plane=<Plane.XY: 1>, angle=0.0, s_domain=set(), t_domain=set()), X(node=57, domain={51}), N(node=58, state=graphix.states.PlanarState(Plane.XY, 0.0)), E(nodes=(52, 58)), M(node=52, plane=<Plane.XY: 1>, angle=0.0, s_domain=set(), t_domain=set()), X(node=58, domain={52}), N(node=59, state=graphix.states.PlanarState(Plane.XY, 0.0)), E(nodes=(53, 59)), M(node=53, plane=<Plane.XY: 1>, angle=0.0, s_domain=set(), t_domain=set()), X(node=59, domain={53}), N(node=60, state=graphix.states.PlanarState(Plane.XY, 0.0)), E(nodes=(54, 60)), M(node=54, plane=<Plane.XY: 1>, angle=0.0, s_domain=set(), t_domain=set()), X(node=60, domain={54}), N(node=61, state=graphix.states.PlanarState(Plane.XY, 0.0)), E(nodes=(55, 61)), M(node=55, plane=<Plane.XY: 1>, angle=0.5, s_domain=set(), t_domain=set()), X(node=61, domain={55}), E(nodes=(60, 61)), N(node=62, state=graphix.states.PlanarState(Plane.XY, 0.0)), E(nodes=(56, 62)), M(node=56, plane=<Plane.XY: 1>, angle=0.0, s_domain=set(), t_domain=set()), X(node=62, domain={56}), N(node=63, state=graphix.states.PlanarState(Plane.XY, 0.0)), E(nodes=(57, 63)), M(node=57, plane=<Plane.XY: 1>, angle=0.0, s_domain=set(), t_domain=set()), X(node=63, domain={57}), E(nodes=(62, 63)), N(node=64, state=graphix.states.PlanarState(Plane.XY, 0.0)), E(nodes=(58, 64)), M(node=58, plane=<Plane.XY: 1>, angle=0.0, s_domain=set(), t_domain=set()), X(node=64, domain={58}), N(node=65, state=graphix.states.PlanarState(Plane.XY, 0.0)), E(nodes=(59, 65)), M(node=59, plane=<Plane.XY: 1>, angle=0.0, s_domain=set(), t_domain=set()), X(node=65, domain={59}), E(nodes=(64, 65)), N(node=66, state=graphix.states.PlanarState(Plane.XY, 0.0)), E(nodes=(60, 66)), M(node=60, plane=<Plane.XY: 1>, angle=0.5, s_domain=set(), t_domain=set()), X(node=66, domain={60}), N(node=67, state=graphix.states.PlanarState(Plane.XY, 0.0)), E(nodes=(61, 67)), M(node=61, plane=<Plane.XY: 1>, angle=0.0, s_domain=set(), t_domain=set()), X(node=67, domain={61}), N(node=68, state=graphix.states.PlanarState(Plane.XY, 0.0)), E(nodes=(62, 68)), M(node=62, plane=<Plane.XY: 1>, angle=0.0, s_domain=set(), t_domain=set()), X(node=68, domain={62}), N(node=69, state=graphix.states.PlanarState(Plane.XY, 0.0)), E(nodes=(63, 69)), M(node=63, plane=<Plane.XY: 1>, angle=0.0, s_domain=set(), t_domain=set()), X(node=69, domain={63}), N(node=70, state=graphix.states.PlanarState(Plane.XY, 0.0)), E(nodes=(64, 70)), M(node=64, plane=<Plane.XY: 1>, angle=0.0, s_domain=set(), t_domain=set()), X(node=70, domain={64}), N(node=71, state=graphix.states.PlanarState(Plane.XY, 0.0)), E(nodes=(65, 71)), M(node=65, plane=<Plane.XY: 1>, angle=0.0, s_domain=set(), t_domain=set()), X(node=71, domain={65}), N(node=72, state=graphix.states.PlanarState(Plane.XY, 0.0)), E(nodes=(66, 72)), M(node=66, plane=<Plane.XY: 1>, angle=0.0, s_domain=set(), t_domain=set()), X(node=72, domain={66}), N(node=73, state=graphix.states.PlanarState(Plane.XY, 0.0)), E(nodes=(67, 73)), M(node=67, plane=<Plane.XY: 1>, angle=-0.5, s_domain=set(), t_domain=set()), X(node=73, domain={67}), E(nodes=(72, 73)), N(node=74, state=graphix.states.PlanarState(Plane.XY, 0.0)), E(nodes=(68, 74)), M(node=68, plane=<Plane.XY: 1>, angle=0.0, s_domain=set(), t_domain=set()), X(node=74, domain={68}), N(node=75, state=graphix.states.PlanarState(Plane.XY, 0.0)), E(nodes=(69, 75)), M(node=69, plane=<Plane.XY: 1>, angle=0.0, s_domain=set(), t_domain=set()), X(node=75, domain={69}), E(nodes=(74, 75)), N(node=76, state=graphix.states.PlanarState(Plane.XY, 0.0)), E(nodes=(70, 76)), M(node=70, plane=<Plane.XY: 1>, angle=0.0, s_domain=set(), t_domain=set()), X(node=76, domain={70}), N(node=77, state=graphix.states.PlanarState(Plane.XY, 0.0)), E(nodes=(71, 77)), M(node=71, plane=<Plane.XY: 1>, angle=0.0, s_domain=set(), t_domain=set()), X(node=77, domain={71}), E(nodes=(76, 77)), N(node=78, state=graphix.states.PlanarState(Plane.XY, 0.0)), E(nodes=(72, 78)), M(node=72, plane=<Plane.XY: 1>, angle=0.0, s_domain=set(), t_domain=set()), X(node=78, domain={72}), N(node=79, state=graphix.states.PlanarState(Plane.XY, 0.0)), E(nodes=(73, 79)), M(node=73, plane=<Plane.XY: 1>, angle=0.0, s_domain=set(), t_domain=set()), X(node=79, domain={73}), N(node=80, state=graphix.states.PlanarState(Plane.XY, 0.0)), E(nodes=(74, 80)), M(node=74, plane=<Plane.XY: 1>, angle=0.0, s_domain=set(), t_domain=set()), X(node=80, domain={74}), N(node=81, state=graphix.states.PlanarState(Plane.XY, 0.0)), E(nodes=(75, 81)), M(node=75, plane=<Plane.XY: 1>, angle=0.0, s_domain=set(), t_domain=set()), X(node=81, domain={75}), N(node=82, state=graphix.states.PlanarState(Plane.XY, 0.0)), E(nodes=(76, 82)), M(node=76, plane=<Plane.XY: 1>, angle=0.0, s_domain=set(), t_domain=set()), X(node=82, domain={76}), N(node=83, state=graphix.states.PlanarState(Plane.XY, 0.0)), E(nodes=(77, 83)), M(node=77, plane=<Plane.XY: 1>, angle=0.0, s_domain=set(), t_domain=set()), X(node=83, domain={77}), N(node=84, state=graphix.states.PlanarState(Plane.XY, 0.0)), E(nodes=(78, 84)), M(node=78, plane=<Plane.XY: 1>, angle=0.0, s_domain=set(), t_domain=set()), X(node=84, domain={78}), N(node=85, state=graphix.states.PlanarState(Plane.XY, 0.0)), E(nodes=(79, 85)), M(node=79, plane=<Plane.XY: 1>, angle=0.5, s_domain=set(), t_domain=set()), X(node=85, domain={79}), N(node=86, state=graphix.states.PlanarState(Plane.XY, 0.0)), E(nodes=(80, 86)), M(node=80, plane=<Plane.XY: 1>, angle=0.0, s_domain=set(), t_domain=set()), X(node=86, domain={80}), E(nodes=(85, 86)), N(node=87, state=graphix.states.PlanarState(Plane.XY, 0.0)), E(nodes=(81, 87)), M(node=81, plane=<Plane.XY: 1>, angle=0.0, s_domain=set(), t_domain=set()), X(node=87, domain={81}), N(node=88, state=graphix.states.PlanarState(Plane.XY, 0.0)), E(nodes=(82, 88)), M(node=82, plane=<Plane.XY: 1>, angle=0.0, s_domain=set(), t_domain=set()), X(node=88, domain={82}), E(nodes=(87, 88)), N(node=89, state=graphix.states.PlanarState(Plane.XY, 0.0)), E(nodes=(83, 89)), M(node=83, plane=<Plane.XY: 1>, angle=0.0, s_domain=set(), t_domain=set()), X(node=89, domain={83}), N(node=90, state=graphix.states.PlanarState(Plane.XY, 0.0)), E(nodes=(84, 90)), M(node=84, plane=<Plane.XY: 1>, angle=0.0, s_domain=set(), t_domain=set()), X(node=90, domain={84}), N(node=91, state=graphix.states.PlanarState(Plane.XY, 0.0)), E(nodes=(85, 91)), M(node=85, plane=<Plane.XY: 1>, angle=0.0, s_domain=set(), t_domain=set()), X(node=91, domain={85}), N(node=92, state=graphix.states.PlanarState(Plane.XY, 0.0)), E(nodes=(86, 92)), M(node=86, plane=<Plane.XY: 1>, angle=0.5, s_domain=set(), t_domain=set()), X(node=92, domain={86}), N(node=93, state=graphix.states.PlanarState(Plane.XY, 0.0)), E(nodes=(87, 93)), M(node=87, plane=<Plane.XY: 1>, angle=0.0, s_domain=set(), t_domain=set()), X(node=93, domain={87}), N(node=94, state=graphix.states.PlanarState(Plane.XY, 0.0)), E(nodes=(88, 94)), M(node=88, plane=<Plane.XY: 1>, angle=0.0, s_domain=set(), t_domain=set()), X(node=94, domain={88}), N(node=95, state=graphix.states.PlanarState(Plane.XY, 0.0)), E(nodes=(89, 95)), M(node=89, plane=<Plane.XY: 1>, angle=0.0, s_domain=set(), t_domain=set()), X(node=95, domain={89}), N(node=96, state=graphix.states.PlanarState(Plane.XY, 0.0)), E(nodes=(90, 96)), M(node=90, plane=<Plane.XY: 1>, angle=0.0, s_domain=set(), t_domain=set()), X(node=96, domain={90}), N(node=97, state=graphix.states.PlanarState(Plane.XY, 0.0)), E(nodes=(91, 97)), M(node=91, plane=<Plane.XY: 1>, angle=-0.5, s_domain=set(), t_domain=set()), X(node=97, domain={91}), N(node=98, state=graphix.states.PlanarState(Plane.XY, 0.0)), E(nodes=(92, 98)), M(node=92, plane=<Plane.XY: 1>, angle=0.0, s_domain=set(), t_domain=set()), X(node=98, domain={92}), E(nodes=(97, 98)), N(node=99, state=graphix.states.PlanarState(Plane.XY, 0.0)), E(nodes=(93, 99)), M(node=93, plane=<Plane.XY: 1>, angle=0.0, s_domain=set(), t_domain=set()), X(node=99, domain={93}), N(node=100, state=graphix.states.PlanarState(Plane.XY, 0.0)), E(nodes=(94, 100)), M(node=94, plane=<Plane.XY: 1>, angle=0.0, s_domain=set(), t_domain=set()), X(node=100, domain={94}), E(nodes=(99, 100)), N(node=101, state=graphix.states.PlanarState(Plane.XY, 0.0)), E(nodes=(95, 101)), M(node=95, plane=<Plane.XY: 1>, angle=0.0, s_domain=set(), t_domain=set()), X(node=101, domain={95}), N(node=102, state=graphix.states.PlanarState(Plane.XY, 0.0)), E(nodes=(96, 102)), M(node=96, plane=<Plane.XY: 1>, angle=-1.020016654102197, s_domain=set(), t_domain=set()), X(node=102, domain={96}), N(node=103, state=graphix.states.PlanarState(Plane.XY, 0.0)), E(nodes=(97, 103)), M(node=97, plane=<Plane.XY: 1>, angle=0.0, s_domain=set(), t_domain=set()), X(node=103, domain={97}), N(node=104, state=graphix.states.PlanarState(Plane.XY, 0.0)), E(nodes=(98, 104)), M(node=98, plane=<Plane.XY: 1>, angle=0.0, s_domain=set(), t_domain=set()), X(node=104, domain={98}), N(node=105, state=graphix.states.PlanarState(Plane.XY, 0.0)), E(nodes=(99, 105)), M(node=99, plane=<Plane.XY: 1>, angle=0.0, s_domain=set(), t_domain=set()), X(node=105, domain={99}), N(node=106, state=graphix.states.PlanarState(Plane.XY, 0.0)), E(nodes=(100, 106)), M(node=100, plane=<Plane.XY: 1>, angle=0.0, s_domain=set(), t_domain=set()), X(node=106, domain={100}), N(node=107, state=graphix.states.PlanarState(Plane.XY, 0.0)), E(nodes=(101, 107)), M(node=101, plane=<Plane.XY: 1>, angle=0.0, s_domain=set(), t_domain=set()), X(node=107, domain={101}), N(node=108, state=graphix.states.PlanarState(Plane.XY, 0.0)), E(nodes=(102, 108)), M(node=102, plane=<Plane.XY: 1>, angle=-0.27739462709040086, s_domain=set(), t_domain=set()), X(node=108, domain={102}), N(node=109, state=graphix.states.PlanarState(Plane.XY, 0.0)), E(nodes=(103, 109)), M(node=103, plane=<Plane.XY: 1>, angle=0.0, s_domain=set(), t_domain=set()), X(node=109, domain={103}), E(nodes=(108, 109)), N(node=110, state=graphix.states.PlanarState(Plane.XY, 0.0)), E(nodes=(104, 110)), M(node=104, plane=<Plane.XY: 1>, angle=0.0, s_domain=set(), t_domain=set()), X(node=110, domain={104}), N(node=111, state=graphix.states.PlanarState(Plane.XY, 0.0)), E(nodes=(105, 111)), M(node=105, plane=<Plane.XY: 1>, angle=0.0, s_domain=set(), t_domain=set()), X(node=111, domain={105}), E(nodes=(110, 111)), N(node=112, state=graphix.states.PlanarState(Plane.XY, 0.0)), E(nodes=(106, 112)), M(node=106, plane=<Plane.XY: 1>, angle=0.0, s_domain=set(), t_domain=set()), X(node=112, domain={106}), N(node=113, state=graphix.states.PlanarState(Plane.XY, 0.0)), E(nodes=(107, 113)), M(node=107, plane=<Plane.XY: 1>, angle=0.0, s_domain=set(), t_domain=set()), X(node=113, domain={107}), E(nodes=(112, 113)), N(node=114, state=graphix.states.PlanarState(Plane.XY, 0.0)), E(nodes=(108, 114)), M(node=108, plane=<Plane.XY: 1>, angle=0.0, s_domain=set(), t_domain=set()), X(node=114, domain={108}), N(node=115, state=graphix.states.PlanarState(Plane.XY, 0.0)), E(nodes=(109, 115)), M(node=109, plane=<Plane.XY: 1>, angle=0.0, s_domain=set(), t_domain=set()), X(node=115, domain={109}), N(node=116, state=graphix.states.PlanarState(Plane.XY, 0.0)), E(nodes=(110, 116)), M(node=110, plane=<Plane.XY: 1>, angle=0.0, s_domain=set(), t_domain=set()), X(node=116, domain={110}), N(node=117, state=graphix.states.PlanarState(Plane.XY, 0.0)), E(nodes=(111, 117)), M(node=111, plane=<Plane.XY: 1>, angle=0.0, s_domain=set(), t_domain=set()), X(node=117, domain={111}), N(node=118, state=graphix.states.PlanarState(Plane.XY, 0.0)), E(nodes=(112, 118)), M(node=112, plane=<Plane.XY: 1>, angle=0.0, s_domain=set(), t_domain=set()), X(node=118, domain={112}), N(node=119, state=graphix.states.PlanarState(Plane.XY, 0.0)), E(nodes=(113, 119)), M(node=113, plane=<Plane.XY: 1>, angle=0.0, s_domain=set(), t_domain=set()), X(node=119, domain={113}), N(node=120, state=graphix.states.PlanarState(Plane.XY, 0.0)), E(nodes=(114, 120)), M(node=114, plane=<Plane.XY: 1>, angle=0.0, s_domain=set(), t_domain=set()), X(node=120, domain={114}), N(node=121, state=graphix.states.PlanarState(Plane.XY, 0.0)), E(nodes=(115, 121)), M(node=115, plane=<Plane.XY: 1>, angle=0.0, s_domain=set(), t_domain=set()), X(node=121, domain={115}), E(nodes=(120, 121)), N(node=122, state=graphix.states.PlanarState(Plane.XY, 0.0)), E(nodes=(116, 122)), M(node=116, plane=<Plane.XY: 1>, angle=0.0, s_domain=set(), t_domain=set()), X(node=122, domain={116}), N(node=123, state=graphix.states.PlanarState(Plane.XY, 0.0)), E(nodes=(117, 123)), M(node=117, plane=<Plane.XY: 1>, angle=0.0, s_domain=set(), t_domain=set()), X(node=123, domain={117}), E(nodes=(122, 123)), N(node=124, state=graphix.states.PlanarState(Plane.XY, 0.0)), E(nodes=(118, 124)), M(node=118, plane=<Plane.XY: 1>, angle=0.0, s_domain=set(), t_domain=set()), X(node=124, domain={118}), N(node=125, state=graphix.states.PlanarState(Plane.XY, 0.0)), E(nodes=(119, 125)), M(node=119, plane=<Plane.XY: 1>, angle=0.0, s_domain=set(), t_domain=set()), X(node=125, domain={119}), E(nodes=(124, 125)), N(node=126, state=graphix.states.PlanarState(Plane.XY, 0.0)), E(nodes=(120, 126)), M(node=120, plane=<Plane.XY: 1>, angle=0.0, s_domain=set(), t_domain=set()), X(node=126, domain={120}), N(node=127, state=graphix.states.PlanarState(Plane.XY, 0.0)), E(nodes=(121, 127)), M(node=121, plane=<Plane.XY: 1>, angle=0.0, s_domain=set(), t_domain=set()), X(node=127, domain={121}), N(node=128, state=graphix.states.PlanarState(Plane.XY, 0.0)), E(nodes=(122, 128)), M(node=122, plane=<Plane.XY: 1>, angle=0.0, s_domain=set(), t_domain=set()), X(node=128, domain={122}), N(node=129, state=graphix.states.PlanarState(Plane.XY, 0.0)), E(nodes=(123, 129)), M(node=123, plane=<Plane.XY: 1>, angle=0.0, s_domain=set(), t_domain=set()), X(node=129, domain={123}), N(node=130, state=graphix.states.PlanarState(Plane.XY, 0.0)), E(nodes=(124, 130)), M(node=124, plane=<Plane.XY: 1>, angle=0.0, s_domain=set(), t_domain=set()), X(node=130, domain={124}), N(node=131, state=graphix.states.PlanarState(Plane.XY, 0.0)), E(nodes=(125, 131)), M(node=125, plane=<Plane.XY: 1>, angle=0.0, s_domain=set(), t_domain=set()), X(node=131, domain={125}), N(node=132, state=graphix.states.PlanarState(Plane.XY, 0.0)), E(nodes=(126, 132)), M(node=126, plane=<Plane.XY: 1>, angle=0.0, s_domain=set(), t_domain=set()), X(node=132, domain={126}), N(node=133, state=graphix.states.PlanarState(Plane.XY, 0.0)), E(nodes=(127, 133)), M(node=127, plane=<Plane.XY: 1>, angle=0.0, s_domain=set(), t_domain=set()), X(node=133, domain={127}), N(node=134, state=graphix.states.PlanarState(Plane.XY, 0.0)), E(nodes=(128, 134)), M(node=128, plane=<Plane.XY: 1>, angle=0.5, s_domain=set(), t_domain=set()), X(node=134, domain={128}), E(nodes=(133, 134)), N(node=135, state=graphix.states.PlanarState(Plane.XY, 0.0)), E(nodes=(129, 135)), M(node=129, plane=<Plane.XY: 1>, angle=0.0, s_domain=set(), t_domain=set()), X(node=135, domain={129}), N(node=136, state=graphix.states.PlanarState(Plane.XY, 0.0)), E(nodes=(130, 136)), M(node=130, plane=<Plane.XY: 1>, angle=0.0, s_domain=set(), t_domain=set()), X(node=136, domain={130}), E(nodes=(135, 136)), N(node=137, state=graphix.states.PlanarState(Plane.XY, 0.0)), E(nodes=(131, 137)), M(node=131, plane=<Plane.XY: 1>, angle=0.0, s_domain=set(), t_domain=set()), X(node=137, domain={131}), N(node=138, state=graphix.states.PlanarState(Plane.XY, 0.0)), E(nodes=(132, 138)), M(node=132, plane=<Plane.XY: 1>, angle=0.0, s_domain=set(), t_domain=set()), X(node=138, domain={132}), N(node=139, state=graphix.states.PlanarState(Plane.XY, 0.0)), E(nodes=(133, 139)), M(node=133, plane=<Plane.XY: 1>, angle=0.5, s_domain=set(), t_domain=set()), X(node=139, domain={133}), N(node=140, state=graphix.states.PlanarState(Plane.XY, 0.0)), E(nodes=(134, 140)), M(node=134, plane=<Plane.XY: 1>, angle=0.0, s_domain=set(), t_domain=set()), X(node=140, domain={134}), N(node=141, state=graphix.states.PlanarState(Plane.XY, 0.0)), E(nodes=(135, 141)), M(node=135, plane=<Plane.XY: 1>, angle=0.0, s_domain=set(), t_domain=set()), X(node=141, domain={135}), N(node=142, state=graphix.states.PlanarState(Plane.XY, 0.0)), E(nodes=(136, 142)), M(node=136, plane=<Plane.XY: 1>, angle=0.0, s_domain=set(), t_domain=set()), X(node=142, domain={136}), N(node=143, state=graphix.states.PlanarState(Plane.XY, 0.0)), E(nodes=(137, 143)), M(node=137, plane=<Plane.XY: 1>, angle=0.0, s_domain=set(), t_domain=set()), X(node=143, domain={137}), N(node=144, state=graphix.states.PlanarState(Plane.XY, 0.0)), E(nodes=(138, 144)), M(node=138, plane=<Plane.XY: 1>, angle=0.0, s_domain=set(), t_domain=set()), X(node=144, domain={138}), N(node=145, state=graphix.states.PlanarState(Plane.XY, 0.0)), E(nodes=(139, 145)), M(node=139, plane=<Plane.XY: 1>, angle=0.0, s_domain=set(), t_domain=set()), X(node=145, domain={139}), N(node=146, state=graphix.states.PlanarState(Plane.XY, 0.0)), E(nodes=(140, 146)), M(node=140, plane=<Plane.XY: 1>, angle=-0.5, s_domain=set(), t_domain=set()), X(node=146, domain={140}), E(nodes=(145, 146)), N(node=147, state=graphix.states.PlanarState(Plane.XY, 0.0)), E(nodes=(141, 147)), M(node=141, plane=<Plane.XY: 1>, angle=0.0, s_domain=set(), t_domain=set()), X(node=147, domain={141}), N(node=148, state=graphix.states.PlanarState(Plane.XY, 0.0)), E(nodes=(142, 148)), M(node=142, plane=<Plane.XY: 1>, angle=0.0, s_domain=set(), t_domain=set()), X(node=148, domain={142}), E(nodes=(147, 148)), N(node=149, state=graphix.states.PlanarState(Plane.XY, 0.0)), E(nodes=(143, 149)), M(node=143, plane=<Plane.XY: 1>, angle=0.0, s_domain=set(), t_domain=set()), X(node=149, domain={143}), N(node=150, state=graphix.states.PlanarState(Plane.XY, 0.0)), E(nodes=(144, 150)), M(node=144, plane=<Plane.XY: 1>, angle=0.0, s_domain=set(), t_domain=set()), X(node=150, domain={144}), N(node=151, state=graphix.states.PlanarState(Plane.XY, 0.0)), E(nodes=(145, 151)), M(node=145, plane=<Plane.XY: 1>, angle=0.0, s_domain=set(), t_domain=set()), X(node=151, domain={145}), N(node=152, state=graphix.states.PlanarState(Plane.XY, 0.0)), E(nodes=(146, 152)), M(node=146, plane=<Plane.XY: 1>, angle=0.0, s_domain=set(), t_domain=set()), X(node=152, domain={146}), N(node=153, state=graphix.states.PlanarState(Plane.XY, 0.0)), E(nodes=(147, 153)), M(node=147, plane=<Plane.XY: 1>, angle=0.0, s_domain=set(), t_domain=set()), X(node=153, domain={147}), N(node=154, state=graphix.states.PlanarState(Plane.XY, 0.0)), E(nodes=(148, 154)), M(node=148, plane=<Plane.XY: 1>, angle=0.0, s_domain=set(), t_domain=set()), X(node=154, domain={148}), N(node=155, state=graphix.states.PlanarState(Plane.XY, 0.0)), E(nodes=(149, 155)), M(node=149, plane=<Plane.XY: 1>, angle=0.0, s_domain=set(), t_domain=set()), X(node=155, domain={149}), N(node=156, state=graphix.states.PlanarState(Plane.XY, 0.0)), E(nodes=(150, 156)), M(node=150, plane=<Plane.XY: 1>, angle=0.0, s_domain=set(), t_domain=set()), X(node=156, domain={150}), N(node=157, state=graphix.states.PlanarState(Plane.XY, 0.0)), E(nodes=(151, 157)), M(node=151, plane=<Plane.XY: 1>, angle=0.5, s_domain=set(), t_domain=set()), X(node=157, domain={151}), E(nodes=(156, 157)), N(node=158, state=graphix.states.PlanarState(Plane.XY, 0.0)), E(nodes=(152, 158)), M(node=152, plane=<Plane.XY: 1>, angle=0.0, s_domain=set(), t_domain=set()), X(node=158, domain={152}), N(node=159, state=graphix.states.PlanarState(Plane.XY, 0.0)), E(nodes=(153, 159)), M(node=153, plane=<Plane.XY: 1>, angle=0.0, s_domain=set(), t_domain=set()), X(node=159, domain={153}), E(nodes=(158, 159)), N(node=160, state=graphix.states.PlanarState(Plane.XY, 0.0)), E(nodes=(154, 160)), M(node=154, plane=<Plane.XY: 1>, angle=0.0, s_domain=set(), t_domain=set()), X(node=160, domain={154}), N(node=161, state=graphix.states.PlanarState(Plane.XY, 0.0)), E(nodes=(155, 161)), M(node=155, plane=<Plane.XY: 1>, angle=0.0, s_domain=set(), t_domain=set()), X(node=161, domain={155}), E(nodes=(160, 161)), N(node=162, state=graphix.states.PlanarState(Plane.XY, 0.0)), E(nodes=(156, 162)), M(node=156, plane=<Plane.XY: 1>, angle=0.5, s_domain=set(), t_domain=set()), X(node=162, domain={156}), N(node=163, state=graphix.states.PlanarState(Plane.XY, 0.0)), E(nodes=(157, 163)), M(node=157, plane=<Plane.XY: 1>, angle=0.0, s_domain=set(), t_domain=set()), X(node=163, domain={157}), N(node=164, state=graphix.states.PlanarState(Plane.XY, 0.0)), E(nodes=(158, 164)), M(node=158, plane=<Plane.XY: 1>, angle=0.0, s_domain=set(), t_domain=set()), X(node=164, domain={158}), N(node=165, state=graphix.states.PlanarState(Plane.XY, 0.0)), E(nodes=(159, 165)), M(node=159, plane=<Plane.XY: 1>, angle=0.0, s_domain=set(), t_domain=set()), X(node=165, domain={159}), N(node=166, state=graphix.states.PlanarState(Plane.XY, 0.0)), E(nodes=(160, 166)), M(node=160, plane=<Plane.XY: 1>, angle=0.0, s_domain=set(), t_domain=set()), X(node=166, domain={160}), N(node=167, state=graphix.states.PlanarState(Plane.XY, 0.0)), E(nodes=(161, 167)), M(node=161, plane=<Plane.XY: 1>, angle=0.0, s_domain=set(), t_domain=set()), X(node=167, domain={161}), N(node=168, state=graphix.states.PlanarState(Plane.XY, 0.0)), E(nodes=(162, 168)), M(node=162, plane=<Plane.XY: 1>, angle=0.0, s_domain=set(), t_domain=set()), X(node=168, domain={162}), N(node=169, state=graphix.states.PlanarState(Plane.XY, 0.0)), E(nodes=(163, 169)), M(node=163, plane=<Plane.XY: 1>, angle=-0.5, s_domain=set(), t_domain=set()), X(node=169, domain={163}), E(nodes=(168, 169)), N(node=170, state=graphix.states.PlanarState(Plane.XY, 0.0)), E(nodes=(164, 170)), M(node=164, plane=<Plane.XY: 1>, angle=0.0, s_domain=set(), t_domain=set()), X(node=170, domain={164}), N(node=171, state=graphix.states.PlanarState(Plane.XY, 0.0)), E(nodes=(165, 171)), M(node=165, plane=<Plane.XY: 1>, angle=0.0, s_domain=set(), t_domain=set()), X(node=171, domain={165}), E(nodes=(170, 171)), N(node=172, state=graphix.states.PlanarState(Plane.XY, 0.0)), E(nodes=(166, 172)), M(node=166, plane=<Plane.XY: 1>, angle=0.0, s_domain=set(), t_domain=set()), X(node=172, domain={166}), N(node=173, state=graphix.states.PlanarState(Plane.XY, 0.0)), E(nodes=(167, 173)), M(node=167, plane=<Plane.XY: 1>, angle=0.0, s_domain=set(), t_domain=set()), X(node=173, domain={167}), E(nodes=(172, 173)), N(node=174, state=graphix.states.PlanarState(Plane.XY, 0.0)), E(nodes=(168, 174)), M(node=168, plane=<Plane.XY: 1>, angle=0.0, s_domain=set(), t_domain=set()), X(node=174, domain={168}), N(node=175, state=graphix.states.PlanarState(Plane.XY, 0.0)), E(nodes=(169, 175)), M(node=169, plane=<Plane.XY: 1>, angle=0.0, s_domain=set(), t_domain=set()), X(node=175, domain={169}), N(node=176, state=graphix.states.PlanarState(Plane.XY, 0.0)), E(nodes=(170, 176)), M(node=170, plane=<Plane.XY: 1>, angle=0.0, s_domain=set(), t_domain=set()), X(node=176, domain={170}), N(node=177, state=graphix.states.PlanarState(Plane.XY, 0.0)), E(nodes=(171, 177)), M(node=171, plane=<Plane.XY: 1>, angle=0.0, s_domain=set(), t_domain=set()), X(node=177, domain={171}), N(node=178, state=graphix.states.PlanarState(Plane.XY, 0.0)), E(nodes=(172, 178)), M(node=172, plane=<Plane.XY: 1>, angle=0.0, s_domain=set(), t_domain=set()), X(node=178, domain={172}), N(node=179, state=graphix.states.PlanarState(Plane.XY, 0.0)), E(nodes=(173, 179)), M(node=173, plane=<Plane.XY: 1>, angle=0.0, s_domain=set(), t_domain=set()), X(node=179, domain={173}), N(node=180, state=graphix.states.PlanarState(Plane.XY, 0.0)), E(nodes=(174, 180)), M(node=174, plane=<Plane.XY: 1>, angle=0.0, s_domain=set(), t_domain=set()), X(node=180, domain={174}), N(node=181, state=graphix.states.PlanarState(Plane.XY, 0.0)), E(nodes=(175, 181)), M(node=175, plane=<Plane.XY: 1>, angle=0.0, s_domain=set(), t_domain=set()), X(node=181, domain={175}), N(node=182, state=graphix.states.PlanarState(Plane.XY, 0.0)), E(nodes=(176, 182)), M(node=176, plane=<Plane.XY: 1>, angle=0.0, s_domain=set(), t_domain=set()), X(node=182, domain={176}), E(nodes=(181, 182)), N(node=183, state=graphix.states.PlanarState(Plane.XY, 0.0)), E(nodes=(177, 183)), M(node=177, plane=<Plane.XY: 1>, angle=0.0, s_domain=set(), t_domain=set()), X(node=183, domain={177}), N(node=184, state=graphix.states.PlanarState(Plane.XY, 0.0)), E(nodes=(178, 184)), M(node=178, plane=<Plane.XY: 1>, angle=0.0, s_domain=set(), t_domain=set()), X(node=184, domain={178}), E(nodes=(183, 184)), N(node=185, state=graphix.states.PlanarState(Plane.XY, 0.0)), E(nodes=(179, 185)), M(node=179, plane=<Plane.XY: 1>, angle=0.0, s_domain=set(), t_domain=set()), X(node=185, domain={179}), N(node=186, state=graphix.states.PlanarState(Plane.XY, 0.0)), E(nodes=(180, 186)), M(node=180, plane=<Plane.XY: 1>, angle=0.0, s_domain=set(), t_domain=set()), X(node=186, domain={180}), N(node=187, state=graphix.states.PlanarState(Plane.XY, 0.0)), E(nodes=(181, 187)), M(node=181, plane=<Plane.XY: 1>, angle=0.0, s_domain=set(), t_domain=set()), X(node=187, domain={181}), N(node=188, state=graphix.states.PlanarState(Plane.XY, 0.0)), E(nodes=(182, 188)), M(node=182, plane=<Plane.XY: 1>, angle=0.0, s_domain=set(), t_domain=set()), X(node=188, domain={182}), N(node=189, state=graphix.states.PlanarState(Plane.XY, 0.0)), E(nodes=(183, 189)), M(node=183, plane=<Plane.XY: 1>, angle=0.0, s_domain=set(), t_domain=set()), X(node=189, domain={183}), N(node=190, state=graphix.states.PlanarState(Plane.XY, 0.0)), E(nodes=(184, 190)), M(node=184, plane=<Plane.XY: 1>, angle=0.0, s_domain=set(), t_domain=set()), X(node=190, domain={184}), N(node=191, state=graphix.states.PlanarState(Plane.XY, 0.0)), E(nodes=(185, 191)), M(node=185, plane=<Plane.XY: 1>, angle=0.0, s_domain=set(), t_domain=set()), X(node=191, domain={185}), N(node=192, state=graphix.states.PlanarState(Plane.XY, 0.0)), E(nodes=(186, 192)), M(node=186, plane=<Plane.XY: 1>, angle=0.0, s_domain=set(), t_domain=set()), X(node=192, domain={186}), N(node=193, state=graphix.states.PlanarState(Plane.XY, 0.0)), E(nodes=(187, 193)), M(node=187, plane=<Plane.XY: 1>, angle=0.0, s_domain=set(), t_domain=set()), X(node=193, domain={187}), N(node=194, state=graphix.states.PlanarState(Plane.XY, 0.0)), E(nodes=(188, 194)), M(node=188, plane=<Plane.XY: 1>, angle=0.0, s_domain=set(), t_domain=set()), X(node=194, domain={188}), E(nodes=(193, 194)), N(node=195, state=graphix.states.PlanarState(Plane.XY, 0.0)), E(nodes=(189, 195)), M(node=189, plane=<Plane.XY: 1>, angle=0.0, s_domain=set(), t_domain=set()), X(node=195, domain={189}), N(node=196, state=graphix.states.PlanarState(Plane.XY, 0.0)), E(nodes=(190, 196)), M(node=190, plane=<Plane.XY: 1>, angle=0.0, s_domain=set(), t_domain=set()), X(node=196, domain={190}), E(nodes=(195, 196)), N(node=197, state=graphix.states.PlanarState(Plane.XY, 0.0)), E(nodes=(191, 197)), M(node=191, plane=<Plane.XY: 1>, angle=0.0, s_domain=set(), t_domain=set()), X(node=197, domain={191}), N(node=198, state=graphix.states.PlanarState(Plane.XY, 0.0)), E(nodes=(192, 198)), M(node=192, plane=<Plane.XY: 1>, angle=0.0, s_domain=set(), t_domain=set()), X(node=198, domain={192}), N(node=199, state=graphix.states.PlanarState(Plane.XY, 0.0)), E(nodes=(193, 199)), M(node=193, plane=<Plane.XY: 1>, angle=0.0, s_domain=set(), t_domain=set()), X(node=199, domain={193}), N(node=200, state=graphix.states.PlanarState(Plane.XY, 0.0)), E(nodes=(194, 200)), M(node=194, plane=<Plane.XY: 1>, angle=0.0, s_domain=set(), t_domain=set()), X(node=200, domain={194}), N(node=201, state=graphix.states.PlanarState(Plane.XY, 0.0)), E(nodes=(195, 201)), M(node=195, plane=<Plane.XY: 1>, angle=0.0, s_domain=set(), t_domain=set()), X(node=201, domain={195}), N(node=202, state=graphix.states.PlanarState(Plane.XY, 0.0)), E(nodes=(196, 202)), M(node=196, plane=<Plane.XY: 1>, angle=0.0, s_domain=set(), t_domain=set()), X(node=202, domain={196}), N(node=203, state=graphix.states.PlanarState(Plane.XY, 0.0)), E(nodes=(197, 203)), M(node=197, plane=<Plane.XY: 1>, angle=0.0, s_domain=set(), t_domain=set()), X(node=203, domain={197}), N(node=204, state=graphix.states.PlanarState(Plane.XY, 0.0)), E(nodes=(198, 204)), M(node=198, plane=<Plane.XY: 1>, angle=-1.1560305152763892, s_domain=set(), t_domain=set()), X(node=204, domain={198}), N(node=205, state=graphix.states.PlanarState(Plane.XY, 0.0)), E(nodes=(199, 205)), M(node=199, plane=<Plane.XY: 1>, angle=0.0, s_domain=set(), t_domain=set()), X(node=205, domain={199}), E(nodes=(204, 205)), N(node=206, state=graphix.states.PlanarState(Plane.XY, 0.0)), E(nodes=(200, 206)), M(node=200, plane=<Plane.XY: 1>, angle=0.0, s_domain=set(), t_domain=set()), X(node=206, domain={200}), N(node=207, state=graphix.states.PlanarState(Plane.XY, 0.0)), E(nodes=(201, 207)), M(node=201, plane=<Plane.XY: 1>, angle=0.0, s_domain=set(), t_domain=set()), X(node=207, domain={201}), E(nodes=(206, 207)), N(node=208, state=graphix.states.PlanarState(Plane.XY, 0.0)), E(nodes=(202, 208)), M(node=202, plane=<Plane.XY: 1>, angle=0.0, s_domain=set(), t_domain=set()), X(node=208, domain={202}), N(node=209, state=graphix.states.PlanarState(Plane.XY, 0.0)), E(nodes=(203, 209)), M(node=203, plane=<Plane.XY: 1>, angle=0.0, s_domain=set(), t_domain=set()), X(node=209, domain={203}), E(nodes=(208, 209)), N(node=210, state=graphix.states.PlanarState(Plane.XY, 0.0)), E(nodes=(204, 210)), M(node=204, plane=<Plane.XY: 1>, angle=-1.1336525650307123, s_domain=set(), t_domain=set()), X(node=210, domain={204}), N(node=211, state=graphix.states.PlanarState(Plane.XY, 0.0)), E(nodes=(205, 211)), M(node=205, plane=<Plane.XY: 1>, angle=0.0, s_domain=set(), t_domain=set()), X(node=211, domain={205}), N(node=212, state=graphix.states.PlanarState(Plane.XY, 0.0)), E(nodes=(206, 212)), M(node=206, plane=<Plane.XY: 1>, angle=0.0, s_domain=set(), t_domain=set()), X(node=212, domain={206}), N(node=213, state=graphix.states.PlanarState(Plane.XY, 0.0)), E(nodes=(207, 213)), M(node=207, plane=<Plane.XY: 1>, angle=0.0, s_domain=set(), t_domain=set()), X(node=213, domain={207}), N(node=214, state=graphix.states.PlanarState(Plane.XY, 0.0)), E(nodes=(208, 214)), M(node=208, plane=<Plane.XY: 1>, angle=0.0, s_domain=set(), t_domain=set()), X(node=214, domain={208}), N(node=215, state=graphix.states.PlanarState(Plane.XY, 0.0)), E(nodes=(209, 215)), M(node=209, plane=<Plane.XY: 1>, angle=0.0, s_domain=set(), t_domain=set()), X(node=215, domain={209}), N(node=216, state=graphix.states.PlanarState(Plane.XY, 0.0)), E(nodes=(210, 216)), M(node=210, plane=<Plane.XY: 1>, angle=0.0, s_domain=set(), t_domain=set()), X(node=216, domain={210}), N(node=217, state=graphix.states.PlanarState(Plane.XY, 0.0)), E(nodes=(211, 217)), M(node=211, plane=<Plane.XY: 1>, angle=0.0, s_domain=set(), t_domain=set()), X(node=217, domain={211}), E(nodes=(216, 217)), N(node=218, state=graphix.states.PlanarState(Plane.XY, 0.0)), E(nodes=(212, 218)), M(node=212, plane=<Plane.XY: 1>, angle=0.0, s_domain=set(), t_domain=set()), X(node=218, domain={212}), N(node=219, state=graphix.states.PlanarState(Plane.XY, 0.0)), E(nodes=(213, 219)), M(node=213, plane=<Plane.XY: 1>, angle=0.0, s_domain=set(), t_domain=set()), X(node=219, domain={213}), E(nodes=(218, 219)), N(node=220, state=graphix.states.PlanarState(Plane.XY, 0.0)), E(nodes=(214, 220)), M(node=214, plane=<Plane.XY: 1>, angle=0.0, s_domain=set(), t_domain=set()), X(node=220, domain={214}), N(node=221, state=graphix.states.PlanarState(Plane.XY, 0.0)), E(nodes=(215, 221)), M(node=215, plane=<Plane.XY: 1>, angle=0.0, s_domain=set(), t_domain=set()), X(node=221, domain={215}), E(nodes=(220, 221)), M(node=221, plane=<Plane.XY: 1>, angle=0, s_domain=set(), t_domain=set())]\n"
     ]
    }
   ],
   "source": [
    "## Load a circuit with success probability p = 0.7839549798834848\n",
    "# BQP error\n",
    "# context handler open renvoie f et à la fin ferme le fichier\n",
    "# valeur à durer de vie, resource libéré.\n",
    "\n",
    "with Path(\"circuits/circuit0000.qasm\").open() as f:\n",
    "    circuit = read_qasm(f)\n",
    "\n",
    "print(circuit.instruction)\n",
    "\n",
    "pattern = gospel.brickwork_state_transpiler.transpile(circuit)\n",
    "\n",
    "print(list(pattern))\n",
    "\n",
    "\n",
    "## Measure output nodes, to have classical output\n",
    "classical_output = pattern.output_nodes\n",
    "for onode in classical_output:\n",
    "    pattern.add(graphix.command.M(node=onode))\n",
    "\n",
    "\n",
    "states = [BasicStates.PLUS] * len(pattern.input_nodes)\n",
    "\n",
    "pattern.minimize_space()\n"
   ]
  },
  {
   "cell_type": "code",
   "execution_count": null,
   "metadata": {},
   "outputs": [
    {
     "name": "stdout",
     "output_type": "stream",
     "text": [
      "Number of nodes in the pattern : 222\n"
     ]
    }
   ],
   "source": [
    "print(f\"Number of nodes in the pattern : {pattern.n_node}\")"
   ]
  },
  {
   "cell_type": "markdown",
   "metadata": {},
   "source": [
    "Here comes **Veriphix**"
   ]
  },
  {
   "cell_type": "code",
   "execution_count": 4,
   "metadata": {},
   "outputs": [
    {
     "name": "stdout",
     "output_type": "stream",
     "text": [
      "[{0}, {2}, {4}, {7}, {9}, {11}, {12}, {14}, {16}, {19}, {21}, {23}, {24}, {26}, {28}, {35}, {36}, {37}, {39}, {44}, {46}, {47}, {48}, {49}, {51}, {58}, {60}, {62}, {65}, {67}, {69}, {72}, {74}, {76}, {83}, {84}, {85}, {87}, {92}, {94}, {95}, {96}, {97}, {99}, {106}, {108}, {110}, {113}, {115}, {117}, {120}, {122}, {124}, {131}, {132}, {133}, {135}, {140}, {142}, {143}, {144}, {145}, {147}, {154}, {156}, {158}, {161}, {163}, {165}, {168}, {170}, {172}, {179}, {180}, {181}, {183}, {188}, {190}, {191}, {192}, {193}, {195}, {202}, {204}, {206}, {209}, {211}, {213}, {214}, {216}, {218}, {221}]\n",
      "[0, 0, 0, 0, 0, 0, 0, 0, 0, 0, 0, 0, 0, 0, 0, 0, 0, 0, 0, 0, 0, 0, 0, 0, 0, 0, 0, 0, 0, 0, 0, 0, 0, 0, 0, 0, 0, 0, 0, 0, 0, 0, 0, 0, 0, 0, 0, 0, 0, 0, 0, 0, 0, 0, 0, 0, 0, 0, 0, 1, 0, 0, 0, 0, 0, 0, 1, 0, 0, 0, 0, 0, 0, 0, 0, 0, 0, 0, 0, 0, 0, 0, 0, 0, 0, 1, 0, 0, 0, 0, 0, 0]\n",
      "[0, 0, 0, 0, 0, 0, 0, 0, 0, 1, 0, 0, 0, 0, 0, 0, 0, 0, 0, 0, 0, 0, 0, 0, 0, 0, 0, 0, 0, 0, 0, 0, 1, 0, 0, 0, 0, 0, 0, 0, 0, 0, 0, 0, 0, 0, 0, 0, 0, 0, 0, 0, 0, 0, 1, 0, 0, 0, 0, 0, 1, 0, 0, 0, 0, 0, 0, 0, 0, 0, 0, 0, 0, 0, 0, 0, 0, 0, 0, 0, 0, 0, 0, 0, 0, 0, 0, 0, 0, 0, 0, 0]\n",
      "[0, 0, 0, 0, 0, 0, 0, 0, 0, 0, 0, 0, 0, 1, 0, 0, 1, 0, 0, 0, 0, 0, 0, 0, 0, 0, 0, 0, 0, 0, 0, 0, 0, 0, 0, 0, 0, 0, 0, 0, 0, 0, 0, 0, 0, 0, 0, 0, 0, 0, 0, 0, 0, 0, 0, 0, 0, 0, 0, 0, 0, 0, 0, 0, 0, 0, 0, 0, 0, 0, 0, 0, 0, 0, 0, 0, 0, 0, 0, 0, 0, 0, 0, 0, 0, 0, 0, 0, 0, 0, 0, 0]\n",
      "[0, 0, 0, 0, 0, 0, 0, 0, 0, 0, 0, 0, 0, 0, 0, 0, 0, 0, 0, 0, 0, 0, 0, 0, 0, 0, 0, 0, 0, 0, 0, 0, 0, 0, 0, 0, 0, 0, 0, 0, 1, 0, 0, 0, 0, 0, 0, 0, 0, 0, 0, 0, 0, 0, 0, 0, 0, 0, 0, 0, 0, 0, 0, 0, 0, 0, 0, 0, 0, 0, 0, 0, 0, 0, 0, 0, 0, 0, 0, 0, 0, 0, 0, 0, 0, 0, 0, 0, 0, 0, 0, 0]\n",
      "[0, 0, 0, 0, 0, 0, 0, 0, 0, 0, 0, 0, 0, 0, 0, 0, 0, 0, 0, 0, 0, 0, 0, 0, 0, 0, 0, 0, 0, 0, 0, 0, 0, 0, 0, 0, 0, 0]\n",
      "[0, 0, 0, 0, 0, 0, 0, 0, 0, 0, 0, 0, 0, 0, 0, 0, 0, 0, 0, 0, 0, 0, 0, 0, 0, 0, 0, 0, 0, 0, 0, 0, 0, 0, 0, 0, 0, 0]\n",
      "[0, 0, 0, 0, 0, 0, 0, 0, 0, 0, 0, 0, 0, 0, 0, 0, 0, 0, 0, 0, 0, 0, 0, 0, 0, 0, 0, 0, 0, 0, 0, 0, 0, 0, 0, 1, 0, 0]\n",
      "[0, 0, 0, 0, 0, 0, 0, 0, 0, 0, 0, 0, 0, 0, 0, 0, 0, 0, 0, 0, 0, 0, 0, 0, 0, 0, 0, 0, 0, 0, 0, 0, 0, 0, 0, 0, 0, 0, 0, 0, 0, 0, 0, 0, 0, 0, 0, 0, 0, 0, 0, 0, 0, 0, 0, 0, 0, 0, 0, 0, 0, 0, 0, 0, 0, 0, 0, 0, 0, 0, 0, 0, 0, 0, 0, 0, 0, 0, 0, 0, 0, 0, 0, 0, 0, 0, 0, 0, 0, 0, 0, 0]\n",
      "[0, 0, 0, 0, 0, 0, 0, 0, 0, 0, 0, 0, 0, 0, 0, 0, 0, 0, 0, 0, 0, 0, 0, 0, 0, 0, 0, 0, 0, 0, 0, 0, 0, 0, 0, 0, 0, 0]\n",
      "[0, 0, 0, 0, 0, 0, 0, 0, 0, 0, 0, 0, 0, 0, 0, 0, 0, 0, 1, 0, 0, 0, 0, 0, 0, 0, 0, 0, 0, 0, 0, 0, 0, 0, 0, 0, 0, 0, 0, 0, 0, 0, 0, 0, 0, 0, 0, 0, 0, 0, 0, 0, 0, 0, 0, 0, 0, 0, 0, 0, 0, 0, 0, 1, 0, 0, 0, 0, 0, 0, 0, 0, 0, 0, 0, 0, 0, 0, 0, 0, 0, 0, 0, 0, 0, 0, 0, 0, 0, 0, 0, 0]\n",
      "Number of failed rounds: 0/10\n"
     ]
    }
   ],
   "source": [
    "secrets = Secrets(r=True, a=True, theta=True)\n",
    "client = Client(pattern=pattern, secrets=secrets)\n",
    "\n",
    "# don't use heuristic color-finding but use the optimal one (bipartite)\n",
    "test_runs = client.create_test_runs()\n",
    "\n",
    "# Insert noise here !!\n",
    "noise = DepolarisingNoiseModel(entanglement_error_prob=0.01)\n",
    "\n",
    "backend = DensityMatrixBackend()\n",
    "\n",
    "n_failures = 0\n",
    "n_iterations = 10\n",
    "\n",
    "print(test_runs[0].traps_list)  # test_runs\n",
    "\n",
    "# list n_iteration : list of traps (nodes) that returned one\n",
    "test_outcome_table = []\n",
    "\n",
    "for _ in range(n_iterations):\n",
    "    run = random.choice(test_runs)\n",
    "    trap_outcomes = client.delegate_test_run(\n",
    "        run=run, backend=backend, noise_model=noise\n",
    "    )\n",
    "    print(trap_outcomes)\n",
    "    result = {\n",
    "        trap: outcome for (trap,), outcome in zip(run.traps_list, trap_outcomes)\n",
    "    }  # extrait un elet de la structure virgule nécessair epour un élément, ou next(iter(trap))\n",
    "    test_outcome_table.append(result)\n",
    "\n",
    "    # if sum(trap_outcomes) != 0:\n",
    "    #     n_failures += 1\n",
    "    #     print(\"Failed trap round\")\n",
    "    # else:\n",
    "    #     print(\"Trap round passed\")\n",
    "\n",
    "print(f\"Number of failed rounds: {n_failures}/{n_iterations}\")"
   ]
  },
  {
   "cell_type": "code",
   "execution_count": 5,
   "metadata": {},
   "outputs": [
    {
     "name": "stdout",
     "output_type": "stream",
     "text": [
      "10\n",
      "{0: 5, 2: 5, 4: 5, 7: 5, 9: 5, 11: 5, 12: 5, 14: 5, 16: 5, 19: 5, 21: 5, 23: 5, 24: 5, 26: 5, 28: 5, 35: 5, 36: 5, 37: 5, 39: 5, 44: 5, 46: 5, 47: 5, 48: 5, 49: 5, 51: 5, 58: 5, 60: 5, 62: 5, 65: 5, 67: 5, 69: 5, 72: 5, 74: 5, 76: 5, 83: 5, 84: 5, 85: 5, 87: 5, 92: 5, 94: 5, 95: 5, 96: 5, 97: 5, 99: 5, 106: 5, 108: 5, 110: 5, 113: 5, 115: 5, 117: 5, 120: 5, 122: 5, 124: 5, 131: 5, 132: 5, 133: 5, 135: 5, 140: 5, 142: 5, 143: 5, 144: 5, 145: 5, 147: 5, 154: 5, 156: 5, 158: 5, 161: 5, 163: 5, 165: 5, 168: 5, 170: 5, 172: 5, 179: 5, 180: 5, 181: 5, 183: 5, 188: 5, 190: 5, 191: 5, 192: 5, 193: 5, 195: 5, 202: 5, 204: 5, 206: 5, 209: 5, 211: 5, 213: 5, 214: 5, 216: 5, 218: 5, 221: 5, 1: 1, 3: 1, 5: 1, 6: 1, 8: 1, 10: 1, 13: 1, 15: 1, 17: 1, 18: 1, 20: 1, 22: 1, 25: 1, 27: 1, 29: 1, 30: 1, 38: 1, 40: 1, 41: 1, 42: 1, 43: 1, 45: 1, 50: 1, 52: 1, 53: 1, 54: 1, 61: 1, 63: 1, 64: 1, 66: 1, 68: 1, 73: 1, 75: 1, 77: 1, 78: 1, 86: 1, 88: 1, 89: 1, 90: 1, 91: 1, 93: 1, 98: 1, 100: 1, 101: 1, 102: 1, 109: 1, 111: 1, 112: 1, 114: 1, 116: 1, 121: 1, 123: 1, 125: 1, 126: 1, 134: 1, 136: 1, 137: 1, 138: 1, 139: 1, 141: 1, 146: 1, 148: 1, 149: 1, 150: 1, 157: 1, 159: 1, 160: 1, 162: 1, 164: 1, 169: 1, 171: 1, 173: 1, 174: 1, 182: 1, 184: 1, 185: 1, 186: 1, 187: 1, 189: 1, 194: 1, 196: 1, 197: 1, 198: 1, 205: 1, 207: 1, 208: 1, 210: 1, 212: 1, 215: 1, 217: 1, 219: 1, 220: 1, 31: 4, 32: 4, 33: 4, 34: 4, 55: 4, 56: 4, 57: 4, 59: 4, 70: 4, 71: 4, 79: 4, 80: 4, 81: 4, 82: 4, 103: 4, 104: 4, 105: 4, 107: 4, 118: 4, 119: 4, 127: 4, 128: 4, 129: 4, 130: 4, 151: 4, 152: 4, 153: 4, 155: 4, 166: 4, 167: 4, 175: 4, 176: 4, 177: 4, 178: 4, 199: 4, 200: 4, 201: 4, 203: 4}\n",
      "{0: 0, 2: 0, 4: 0, 7: 0, 9: 0, 11: 0, 12: 0, 14: 0, 16: 0, 19: 1, 21: 0, 23: 0, 24: 0, 26: 1, 28: 0, 35: 0, 36: 1, 37: 0, 39: 1, 44: 0, 46: 0, 47: 0, 48: 0, 49: 0, 51: 0, 58: 0, 60: 0, 62: 0, 65: 0, 67: 0, 69: 0, 72: 0, 74: 1, 76: 0, 83: 0, 84: 0, 85: 0, 87: 0, 92: 0, 94: 0, 95: 0, 96: 0, 97: 0, 99: 0, 106: 0, 108: 0, 110: 0, 113: 0, 115: 0, 117: 0, 120: 0, 122: 0, 124: 0, 131: 0, 132: 1, 133: 0, 135: 0, 140: 0, 142: 0, 143: 1, 144: 1, 145: 0, 147: 0, 154: 1, 156: 0, 158: 0, 161: 1, 163: 0, 165: 0, 168: 0, 170: 0, 172: 0, 179: 0, 180: 0, 181: 0, 183: 0, 188: 0, 190: 0, 191: 0, 192: 0, 193: 0, 195: 0, 202: 0, 204: 0, 206: 0, 209: 1, 211: 0, 213: 0, 214: 0, 216: 0, 218: 0, 221: 0, 1: 0, 3: 0, 5: 0, 6: 0, 8: 0, 10: 0, 13: 0, 15: 0, 17: 0, 18: 0, 20: 0, 22: 0, 25: 0, 27: 0, 29: 0, 30: 0, 38: 0, 40: 0, 41: 0, 42: 0, 43: 0, 45: 0, 50: 0, 52: 0, 53: 0, 54: 0, 61: 0, 63: 0, 64: 0, 66: 0, 68: 0, 73: 0, 75: 0, 77: 0, 78: 0, 86: 0, 88: 0, 89: 0, 90: 0, 91: 0, 93: 1, 98: 0, 100: 0, 101: 0, 102: 0, 109: 0, 111: 0, 112: 0, 114: 0, 116: 0, 121: 0, 123: 0, 125: 0, 126: 0, 134: 0, 136: 0, 137: 0, 138: 0, 139: 0, 141: 0, 146: 0, 148: 0, 149: 0, 150: 0, 157: 0, 159: 0, 160: 0, 162: 0, 164: 0, 169: 0, 171: 0, 173: 0, 174: 0, 182: 0, 184: 0, 185: 0, 186: 0, 187: 0, 189: 0, 194: 0, 196: 0, 197: 0, 198: 0, 205: 0, 207: 0, 208: 0, 210: 0, 212: 0, 215: 0, 217: 0, 219: 0, 220: 0, 31: 0, 32: 0, 33: 0, 34: 0, 55: 0, 56: 0, 57: 0, 59: 0, 70: 0, 71: 0, 79: 0, 80: 0, 81: 0, 82: 0, 103: 0, 104: 0, 105: 0, 107: 0, 118: 0, 119: 0, 127: 0, 128: 0, 129: 0, 130: 0, 151: 0, 152: 0, 153: 0, 155: 0, 166: 0, 167: 0, 175: 0, 176: 0, 177: 0, 178: 0, 199: 0, 200: 1, 201: 0, 203: 0}\n",
      "{0: 0.0, 2: 0.0, 4: 0.0, 7: 0.0, 9: 0.0, 11: 0.0, 12: 0.0, 14: 0.0, 16: 0.0, 19: 0.2, 21: 0.0, 23: 0.0, 24: 0.0, 26: 0.2, 28: 0.0, 35: 0.0, 36: 0.2, 37: 0.0, 39: 0.2, 44: 0.0, 46: 0.0, 47: 0.0, 48: 0.0, 49: 0.0, 51: 0.0, 58: 0.0, 60: 0.0, 62: 0.0, 65: 0.0, 67: 0.0, 69: 0.0, 72: 0.0, 74: 0.2, 76: 0.0, 83: 0.0, 84: 0.0, 85: 0.0, 87: 0.0, 92: 0.0, 94: 0.0, 95: 0.0, 96: 0.0, 97: 0.0, 99: 0.0, 106: 0.0, 108: 0.0, 110: 0.0, 113: 0.0, 115: 0.0, 117: 0.0, 120: 0.0, 122: 0.0, 124: 0.0, 131: 0.0, 132: 0.2, 133: 0.0, 135: 0.0, 140: 0.0, 142: 0.0, 143: 0.2, 144: 0.2, 145: 0.0, 147: 0.0, 154: 0.2, 156: 0.0, 158: 0.0, 161: 0.2, 163: 0.0, 165: 0.0, 168: 0.0, 170: 0.0, 172: 0.0, 179: 0.0, 180: 0.0, 181: 0.0, 183: 0.0, 188: 0.0, 190: 0.0, 191: 0.0, 192: 0.0, 193: 0.0, 195: 0.0, 202: 0.0, 204: 0.0, 206: 0.0, 209: 0.2, 211: 0.0, 213: 0.0, 214: 0.0, 216: 0.0, 218: 0.0, 221: 0.0, 1: 0.0, 3: 0.0, 5: 0.0, 6: 0.0, 8: 0.0, 10: 0.0, 13: 0.0, 15: 0.0, 17: 0.0, 18: 0.0, 20: 0.0, 22: 0.0, 25: 0.0, 27: 0.0, 29: 0.0, 30: 0.0, 38: 0.0, 40: 0.0, 41: 0.0, 42: 0.0, 43: 0.0, 45: 0.0, 50: 0.0, 52: 0.0, 53: 0.0, 54: 0.0, 61: 0.0, 63: 0.0, 64: 0.0, 66: 0.0, 68: 0.0, 73: 0.0, 75: 0.0, 77: 0.0, 78: 0.0, 86: 0.0, 88: 0.0, 89: 0.0, 90: 0.0, 91: 0.0, 93: 1.0, 98: 0.0, 100: 0.0, 101: 0.0, 102: 0.0, 109: 0.0, 111: 0.0, 112: 0.0, 114: 0.0, 116: 0.0, 121: 0.0, 123: 0.0, 125: 0.0, 126: 0.0, 134: 0.0, 136: 0.0, 137: 0.0, 138: 0.0, 139: 0.0, 141: 0.0, 146: 0.0, 148: 0.0, 149: 0.0, 150: 0.0, 157: 0.0, 159: 0.0, 160: 0.0, 162: 0.0, 164: 0.0, 169: 0.0, 171: 0.0, 173: 0.0, 174: 0.0, 182: 0.0, 184: 0.0, 185: 0.0, 186: 0.0, 187: 0.0, 189: 0.0, 194: 0.0, 196: 0.0, 197: 0.0, 198: 0.0, 205: 0.0, 207: 0.0, 208: 0.0, 210: 0.0, 212: 0.0, 215: 0.0, 217: 0.0, 219: 0.0, 220: 0.0, 31: 0.0, 32: 0.0, 33: 0.0, 34: 0.0, 55: 0.0, 56: 0.0, 57: 0.0, 59: 0.0, 70: 0.0, 71: 0.0, 79: 0.0, 80: 0.0, 81: 0.0, 82: 0.0, 103: 0.0, 104: 0.0, 105: 0.0, 107: 0.0, 118: 0.0, 119: 0.0, 127: 0.0, 128: 0.0, 129: 0.0, 130: 0.0, 151: 0.0, 152: 0.0, 153: 0.0, 155: 0.0, 166: 0.0, 167: 0.0, 175: 0.0, 176: 0.0, 177: 0.0, 178: 0.0, 199: 0.0, 200: 0.25, 201: 0.0, 203: 0.0}\n"
     ]
    }
   ],
   "source": [
    "print(len(test_outcome_table))\n",
    "occurences = {}\n",
    "occurences_one = {}\n",
    "\n",
    "for results in test_outcome_table:\n",
    "    for q, r in results.items():\n",
    "        if q not in occurences:\n",
    "            occurences[q] = 1\n",
    "            occurences_one[q] = r\n",
    "        else:\n",
    "            occurences[q] += 1\n",
    "            if r == 1:\n",
    "                occurences_one[q] += 1\n",
    "\n",
    "print(occurences)\n",
    "print(occurences_one)\n",
    "\n",
    "failure_proba = {q: occurences_one[q] / occurences[q] for q in occurences}\n",
    "print(failure_proba)\n",
    "\n",
    "# then map that to colour on the graph"
   ]
  },
  {
   "cell_type": "code",
   "execution_count": 9,
   "metadata": {},
   "outputs": [],
   "source": [
    "path = Path(\"simulation/\")\n",
    "target = \"pic.svg\"\n",
    "\n",
    "draw_brickwork_state_colormap(circuit=circuit, target=path / target, failure_probas=failure_proba)"
   ]
  },
  {
   "cell_type": "code",
   "execution_count": null,
   "metadata": {},
   "outputs": [],
   "source": [
    "def make_clifford(pattern: graphix.Pattern):\n",
    "    clifford_pattern = graphix.Pattern(pattern.input_nodes)\n",
    "    for cmd in pattern:\n",
    "        clifford_pattern.add(cmd)\n",
    "    for cmd in clifford_pattern:\n",
    "        if cmd.kind == graphix.command.CommandKind.M:\n",
    "            new_angle = random.choice([0, 1 / 2, 1, 3 / 2])\n",
    "            cmd.angle = new_angle\n",
    "    return clifford_pattern"
   ]
  },
  {
   "cell_type": "code",
   "execution_count": null,
   "metadata": {},
   "outputs": [
    {
     "name": "stdout",
     "output_type": "stream",
     "text": [
      "0\n",
      "1\n",
      "1\n",
      "1\n",
      "Trap outcome of noiseless trap run: 0\n",
      "Trap outcome of noisy trap run: 151\n"
     ]
    }
   ],
   "source": [
    "backend = DensityMatrixBackend()\n",
    "\n",
    "\n",
    "# Noiseless computation run\n",
    "client.delegate_pattern(backend=backend)\n",
    "for onode in classical_output:\n",
    "    print(client.results[onode])\n",
    "\n",
    "\n",
    "# Noiseless trap run\n",
    "noiseless_model = DepolarisingNoiseModel(entanglement_error_prob=0)\n",
    "rd_run = random.choice(runs)\n",
    "trap_outcomes = client.delegate_test_run(\n",
    "    backend=backend, run=rd_run, noise_model=noiseless_model\n",
    ")\n",
    "print(\n",
    "    f\"Trap outcome of noiseless trap run: {sum(trap_outcomes)}\"\n",
    ")  # should output 0 (noiseless simulation)\n",
    "\n",
    "# (ultra) Noisy trap run\n",
    "ultra_noisy_model = DepolarisingNoiseModel(entanglement_error_prob=1)\n",
    "rd_run = random.choice(runs)\n",
    "trap_outcomes = client.delegate_test_run(\n",
    "    backend=backend, run=rd_run, noise_model=ultra_noisy_model\n",
    ")\n",
    "print(\n",
    "    f\"Trap outcome of noisy trap run: {sum(trap_outcomes)}\"\n",
    ")  # should NOT output 0 (noisy simulation)\n"
   ]
  }
 ],
 "metadata": {
  "kernelspec": {
   "display_name": "gospel",
   "language": "python",
   "name": "python3"
  },
  "language_info": {
   "codemirror_mode": {
    "name": "ipython",
    "version": 3
   },
   "file_extension": ".py",
   "mimetype": "text/x-python",
   "name": "python",
   "nbconvert_exporter": "python",
   "pygments_lexer": "ipython3",
   "version": "3.12.9"
  }
 },
 "nbformat": 4,
 "nbformat_minor": 2
}
