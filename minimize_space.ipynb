{
 "cells": [
  {
   "cell_type": "code",
   "execution_count": null,
   "metadata": {},
   "outputs": [],
   "source": [
    "import random\n",
    "from pathlib import Path\n",
    "\n",
    "import graphix.command\n",
    "import numpy as np\n",
    "import stim\n",
    "import veriphix.client\n",
    "from graphix.fundamentals import IXYZ\n",
    "from graphix.noise_models import DepolarisingNoiseModel\n",
    "from graphix.pauli import Pauli\n",
    "from graphix.random_objects import Circuit, rand_circuit\n",
    "from graphix.sim.density_matrix import DensityMatrixBackend\n",
    "from graphix.sim.statevec import Statevec, StatevectorBackend\n",
    "from graphix.states import BasicStates\n",
    "from veriphix.client import CircuitUtils, Client, Secrets\n",
    "\n",
    "\n",
    "import gospel.brickwork_state_transpiler\n",
    "from gospel.scripts.qasm2brickwork_state import read_qasm, draw_brickwork_state_colormap"
   ]
  },
  {
   "cell_type": "code",
   "execution_count": null,
   "metadata": {},
   "outputs": [],
   "source": [
    "## Load a circuit with success probability p = 0.7839549798834848\n",
    "# BQP error\n",
    "# context handler open renvoie f et à la fin ferme le fichier\n",
    "# valeur à durer de vie, resource libéré.\n",
    "\n",
    "with Path(\"circuits/circuit0000.qasm\").open() as f:\n",
    "    circuit = read_qasm(f)\n",
    "\n",
    "print(circuit.instruction)\n",
    "\n",
    "pattern = gospel.brickwork_state_transpiler.transpile(circuit)\n",
    "\n",
    "print(list(pattern))\n",
    "\n",
    "\n",
    "## Measure output nodes, to have classical output\n",
    "classical_output = pattern.output_nodes\n",
    "for onode in classical_output:\n",
    "    pattern.add(graphix.command.M(node=onode))\n",
    "\n",
    "states = [BasicStates.PLUS] * len(pattern.input_nodes)\n",
    "\n",
    "# correct since the pattern is transpiled from a circuit and hence has a causal flow\n",
    "pattern.minimize_space()\n",
    "\n",
    "print(f\"Number of nodes in the pattern : {pattern.n_node}\")"
   ]
  },
  {
   "cell_type": "markdown",
   "metadata": {},
   "source": [
    "### Here comes **Veriphix**\n",
    "\n",
    "#### Test rounds\n",
    "Setting up the client, the simulation, tests rounds, plotting"
   ]
  },
  {
   "cell_type": "code",
   "execution_count": null,
   "metadata": {},
   "outputs": [],
   "source": [
    "secrets = Secrets(r=True, a=True, theta=True)\n",
    "client = Client(pattern=pattern, secrets=secrets)\n",
    "\n",
    "# define test runs using a greedy colouring algorithm\n",
    "# test_runs =  client.create_test_runs()\n",
    "# for i in test_runs:\n",
    "#     print(i.traps_list)\n",
    "\n",
    "# checking new feature of veriphix\n",
    "# don't use heuristic color-finding but use the optimal one (bipartite)\n",
    "colours = gospel.brickwork_state_transpiler.get_bipartite_coloring(pattern) \n",
    "test_runs =  client.create_test_runs(manual_colouring=colours)\n",
    "\n",
    "# for j, i in enumerate(test_runs):\n",
    "#     print(j)\n",
    "#     print(i.traps_list)\n",
    "\n",
    "# Insert noise here \n",
    "noise = DepolarisingNoiseModel(entanglement_error_prob=0.1)\n",
    "\n",
    "backend = DensityMatrixBackend()\n",
    "\n",
    "n_failures = 0\n",
    "n_iterations = 10 \n",
    "\n",
    "# print(test_runs[0].traps_list)  # test_runs\n",
    "\n",
    "# list n_iteration : list of traps (nodes) that returned one\n",
    "test_outcome_table = []\n",
    "\n",
    "for _ in range(n_iterations):\n",
    "    run = random.choice(test_runs)\n",
    "    # print(run.traps_list)\n",
    "    trap_outcomes = client.delegate_test_run(\n",
    "        run=run, backend=backend, noise_model=noise\n",
    "    )\n",
    "    # print(trap_outcomes)\n",
    "    result = {\n",
    "        trap: outcome for (trap,), outcome in zip(run.traps_list, trap_outcomes)\n",
    "    }  # extrait un elet de la structure virgule nécessair epour vérifier un seul élément, ou next(iter(trap))\n",
    "    # both are in same order\n",
    "    test_outcome_table.append(result)\n",
    "\n",
    "    if sum(trap_outcomes) != 0:\n",
    "        n_failures += 1\n",
    "        print(\"Failed trap round\")\n",
    "    else:\n",
    "        print(\"Trap round passed\")\n",
    "\n",
    "print(f\"Number of failed rounds: {n_failures}/{n_iterations}\")"
   ]
  },
  {
   "cell_type": "markdown",
   "metadata": {},
   "source": [
    "### Plotting the trap failure data\n",
    "Working on the output first..."
   ]
  },
  {
   "cell_type": "code",
   "execution_count": null,
   "metadata": {},
   "outputs": [],
   "source": [
    "print(len(test_outcome_table))\n",
    "occurences = {}\n",
    "occurences_one = {}\n",
    "\n",
    "for results in test_outcome_table:\n",
    "    for q, r in results.items():\n",
    "        if q not in occurences:\n",
    "            occurences[q] = 1\n",
    "            occurences_one[q] = r\n",
    "        else:\n",
    "            occurences[q] += 1\n",
    "            if r == 1:\n",
    "                occurences_one[q] += 1\n",
    "\n",
    "failure_proba = {q: occurences_one[q] / occurences[q] for q in occurences}\n",
    "print(failure_proba)\n"
   ]
  },
  {
   "cell_type": "code",
   "execution_count": null,
   "metadata": {},
   "outputs": [],
   "source": [
    "# change this to save the figure\n",
    "path = Path(\"simulation/\")\n",
    "target = \"pic2.svg\"\n",
    "\n",
    "draw_brickwork_state_colormap(circuit=circuit, target=path / target, failure_probas=failure_proba)"
   ]
  },
  {
   "cell_type": "markdown",
   "metadata": {},
   "source": [
    "#### Full computation (computation and tests rounds)\n",
    "\n",
    "todo"
   ]
  },
  {
   "cell_type": "code",
   "execution_count": null,
   "metadata": {},
   "outputs": [],
   "source": [
    "def make_clifford(pattern: graphix.Pattern):\n",
    "    clifford_pattern = graphix.Pattern(pattern.input_nodes)\n",
    "    for cmd in pattern:\n",
    "        clifford_pattern.add(cmd)\n",
    "    for cmd in clifford_pattern:\n",
    "        if cmd.kind == graphix.command.CommandKind.M:\n",
    "            new_angle = random.choice([0, 1 / 2, 1, 3 / 2])\n",
    "            cmd.angle = new_angle\n",
    "    return clifford_pattern"
   ]
  },
  {
   "cell_type": "code",
   "execution_count": null,
   "metadata": {},
   "outputs": [],
   "source": [
    "backend = DensityMatrixBackend()\n",
    "\n",
    "\n",
    "# Noiseless computation run\n",
    "client.delegate_pattern(backend=backend)\n",
    "for onode in classical_output:\n",
    "    print(client.results[onode])\n",
    "\n",
    "\n",
    "# Noiseless trap run\n",
    "noiseless_model = DepolarisingNoiseModel(entanglement_error_prob=0)\n",
    "rd_run = random.choice(runs)\n",
    "trap_outcomes = client.delegate_test_run(\n",
    "    backend=backend, run=rd_run, noise_model=noiseless_model\n",
    ")\n",
    "print(\n",
    "    f\"Trap outcome of noiseless trap run: {sum(trap_outcomes)}\"\n",
    ")  # should output 0 (noiseless simulation)\n",
    "\n",
    "# (ultra) Noisy trap run\n",
    "ultra_noisy_model = DepolarisingNoiseModel(entanglement_error_prob=1)\n",
    "rd_run = random.choice(runs)\n",
    "trap_outcomes = client.delegate_test_run(\n",
    "    backend=backend, run=rd_run, noise_model=ultra_noisy_model\n",
    ")\n",
    "print(\n",
    "    f\"Trap outcome of noisy trap run: {sum(trap_outcomes)}\"\n",
    ")  # should NOT output 0 (noisy simulation)\n"
   ]
  }
 ],
 "metadata": {
  "kernelspec": {
   "display_name": "gospel",
   "language": "python",
   "name": "python3"
  },
  "language_info": {
   "codemirror_mode": {
    "name": "ipython",
    "version": 3
   },
   "file_extension": ".py",
   "mimetype": "text/x-python",
   "name": "python",
   "nbconvert_exporter": "python",
   "pygments_lexer": "ipython3",
   "version": "3.12.9"
  }
 },
 "nbformat": 4,
 "nbformat_minor": 2
}
